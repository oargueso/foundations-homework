{
 "cells": [
  {
   "cell_type": "code",
   "execution_count": 11,
   "metadata": {
    "collapsed": false
   },
   "outputs": [
    {
     "data": {
      "text/plain": [
       "str"
      ]
     },
     "execution_count": 11,
     "metadata": {},
     "output_type": "execute_result"
    }
   ],
   "source": [
    "earthquake = {\n",
    "'rms': '1.85',\n",
    "'updated': '2014-06-11T05:22:21.596Z',\n",
    "'type': 'earthquake',\n",
    "'magType': 'mwp',\n",
    "'longitude': '-136.6561',\n",
    "'gap': '48',\n",
    "'depth': '10',\n",
    "'dmin': '0.811',\n",
    "'mag': '5.7',\n",
    "'time': '2014-06-04T11:58:58.200Z',\n",
    "'latitude': '59.0001',\n",
    "'place': '73km WSW of Haines, Alaska',\n",
    "'net': 'us',\n",
    "'nst': '',\n",
    "'id': 'usc000rauc'}\n",
    "\n",
    "type(earthquake['depth'])"
   ]
  },
  {
   "cell_type": "markdown",
   "metadata": {},
   "source": [
    "**PART ONE: Write your few tiny functions**\n",
    "\n",
    "First you'll need to write a few functions to help describe an earthquake. Try out each of these functions individually. You will probably require:\n",
    "\n",
    "* depth_to_words will describe the earthquake's depth\n",
    "* magnitude_to_words will describe the earthquake's power\n",
    "* day_in_words should be the day of the week\n",
    "* time_in_words should be \"morning\", \"afternoon\", \"evening\" or \"night\"\n",
    "* date_in_words should be \"Monthname day\", e.g. \"June 22\"\n",
    "* Any other functions as necessary\n"
   ]
  },
  {
   "cell_type": "markdown",
   "metadata": {},
   "source": [
    "Note from USGS: Shallow earthquakes are between 0 and 70 km deep; intermediate earthquakes, 70 - 300 km deep; and deep earthquakes, 300 - 700 km deep."
   ]
  },
  {
   "cell_type": "code",
   "execution_count": 12,
   "metadata": {
    "collapsed": false
   },
   "outputs": [
    {
     "data": {
      "text/plain": [
       "'shallow'"
      ]
     },
     "execution_count": 12,
     "metadata": {},
     "output_type": "execute_result"
    }
   ],
   "source": [
    "def depth_to_words(d):\n",
    "    if int(d['depth']) < 70:\n",
    "        return \"shallow\"\n",
    "    elif (int(d['depth']) > 70) & (int(d['depth']) < 300):\n",
    "        return \"intermediate\"\n",
    "    elif int(d['depth']) > 300:\n",
    "        return \"deep\"    \n",
    "    \n",
    "depth_to_words(earthquake) \n",
    "\n",
    "    "
   ]
  },
  {
   "cell_type": "code",
   "execution_count": 57,
   "metadata": {
    "collapsed": false
   },
   "outputs": [
    {
     "data": {
      "text/plain": [
       "str"
      ]
     },
     "execution_count": 57,
     "metadata": {},
     "output_type": "execute_result"
    }
   ],
   "source": [
    "type(earthquake['mag'])"
   ]
  },
  {
   "cell_type": "code",
   "execution_count": 14,
   "metadata": {
    "collapsed": false
   },
   "outputs": [
    {
     "data": {
      "text/plain": [
       "('moderate', '5.7')"
      ]
     },
     "execution_count": 14,
     "metadata": {},
     "output_type": "execute_result"
    }
   ],
   "source": [
    "def magnitude_to_words(m):\n",
    "    magnitude = m['mag']\n",
    "    if float(magnitude) < 4:\n",
    "        return (\"light\", magnitude)\n",
    "    if (float(magnitude) > 4) & (float(magnitude) < 6):\n",
    "        return (\"moderate\", magnitude)\n",
    "    if (float(magnitude) > 6) & (float(magnitude) < 8):\n",
    "        return (\"huge\", magnitude)\n",
    "    if (float(magnitude) > 8):\n",
    "        return (\"epic\", magnitude)\n",
    "\n",
    "magnitude_to_words(earthquake)"
   ]
  },
  {
   "cell_type": "code",
   "execution_count": 15,
   "metadata": {
    "collapsed": false
   },
   "outputs": [
    {
     "data": {
      "text/plain": [
       "str"
      ]
     },
     "execution_count": 15,
     "metadata": {},
     "output_type": "execute_result"
    }
   ],
   "source": [
    "type(earthquake['time'])"
   ]
  },
  {
   "cell_type": "code",
   "execution_count": 19,
   "metadata": {
    "collapsed": false
   },
   "outputs": [
    {
     "data": {
      "text/plain": [
       "'Wednesday'"
      ]
     },
     "execution_count": 19,
     "metadata": {},
     "output_type": "execute_result"
    }
   ],
   "source": [
    "import dateutil.parser\n",
    "def day_in_words(d):\n",
    "    yourdate = dateutil.parser.parse(d['time'])\n",
    "    day = yourdate.strftime(\"%A\")    \n",
    "    return day\n",
    "\n",
    "day_in_words(earthquake)"
   ]
  },
  {
   "cell_type": "code",
   "execution_count": 20,
   "metadata": {
    "collapsed": false
   },
   "outputs": [
    {
     "data": {
      "text/plain": [
       "'Morning'"
      ]
     },
     "execution_count": 20,
     "metadata": {},
     "output_type": "execute_result"
    }
   ],
   "source": [
    "def time_in_words(t):\n",
    "    yourtime = dateutil.parser.parse(t['time'])\n",
    "    time = yourtime.strftime(\"%H\")\n",
    "    if (int(time) > 0) & (int(time) < 12):\n",
    "        return \"Morning\"\n",
    "    elif (int(time) > 12) & (int(time) < 18) :\n",
    "        return \"Afternoon\"\n",
    "    else:\n",
    "        return \"Evening\"\n",
    "    \n",
    "time_in_words(earthquake)"
   ]
  },
  {
   "cell_type": "code",
   "execution_count": 21,
   "metadata": {
    "collapsed": false
   },
   "outputs": [
    {
     "data": {
      "text/plain": [
       "'June 04'"
      ]
     },
     "execution_count": 21,
     "metadata": {},
     "output_type": "execute_result"
    }
   ],
   "source": [
    "def date_in_words(d):\n",
    "    yourtime = dateutil.parser.parse(d['time'])\n",
    "    date = yourtime.strftime(\"%B %d\")\n",
    "    return date\n",
    "\n",
    "date_in_words(earthquake)"
   ]
  },
  {
   "cell_type": "code",
   "execution_count": 22,
   "metadata": {
    "collapsed": false
   },
   "outputs": [
    {
     "data": {
      "text/plain": [
       "'73km WSW of Haines, Alaska'"
      ]
     },
     "execution_count": 22,
     "metadata": {},
     "output_type": "execute_result"
    }
   ],
   "source": [
    "def location(l):\n",
    "    l = l['place']\n",
    "    return l\n",
    "\n",
    "\n",
    "location(earthquake)"
   ]
  },
  {
   "cell_type": "markdown",
   "metadata": {},
   "source": [
    "**PART TWO: Write the eq_to_sentence function**\n",
    "\n",
    "Write a function called eq_to_sentence that, when called, returns the whole sentence mentioned above, \"A DEPTH\n",
    "DESCRIPTION, MAGNITUDE earthquake was reported DAY TIME_OF_DAY on DATE LOCATION.\"\n",
    "\n",
    "Print out the result for the sample earthquake."
   ]
  },
  {
   "cell_type": "code",
   "execution_count": 23,
   "metadata": {
    "collapsed": false
   },
   "outputs": [
    {
     "name": "stdout",
     "output_type": "stream",
     "text": [
      "A shallow moderate 5.7 earthquake was reported Wednesday Morning on June 0473km WSW of Haines, Alaska\n"
     ]
    }
   ],
   "source": [
    "def eq_to_sentence(e):\n",
    "    return \"A \" + depth_to_words(e) + \" \" + magnitude_to_words(e)[0] + \" \" + magnitude_to_words(e)[1] + \" earthquake was reported \" + day_in_words(e) + \" \" + time_in_words(e) + \" on \" + date_in_words(e) + location(e)\n",
    "    \n",
    "print(eq_to_sentence(earthquake))"
   ]
  },
  {
   "cell_type": "markdown",
   "metadata": {},
   "source": [
    "**PART THREE: Doing it in bulk**\n",
    "\n",
    "Read in the csv of the past 30 days of 1.0+ earthquke activity from http://earthquake.usgs.gov/earthquakes/feed/v1.0/summary/1.0_month.csv (tip: read_csv works with URLs!)\n",
    "\n",
    "Because we haven't covered looping through pandas, use the following code to convert a pandas DataFrame into a list of\n",
    "dictionaries that you can loop through.\n",
    "\n",
    "earthquakes_df = pd.read_csv(\"1.0_month.csv\")\n",
    "\n",
    "earthquakes = earthquakes_df.to_dict('records')\n",
    "\n",
    "(If you really want to do it with pandas, it's for index, row in earthquakes_df.iterrows():)\n",
    "\n",
    "Loop through each earthquake, printing sentence descriptions for the ones that are above or equal to 4.0 on the Richter scale."
   ]
  },
  {
   "cell_type": "code",
   "execution_count": 24,
   "metadata": {
    "collapsed": false
   },
   "outputs": [],
   "source": [
    "import pandas as pd\n",
    "earthquakes_df = pd.read_csv(\"http://earthquake.usgs.gov/earthquakes/feed/v1.0/summary/1.0_month.csv\")"
   ]
  },
  {
   "cell_type": "code",
   "execution_count": 25,
   "metadata": {
    "collapsed": true
   },
   "outputs": [],
   "source": [
    "earthquakes_df = pd.read_csv(\"1.0_month.csv\")\n",
    "earthquakes = earthquakes_df.to_dict('records')"
   ]
  },
  {
   "cell_type": "markdown",
   "metadata": {},
   "source": [
    "The sample dictionary contains only strings, whereas the actual dictionary contains both numbers and strings, I needed to redefine my previous functions. Besides, the function is now calling a list of dictionaries, instead of a single dictionary."
   ]
  },
  {
   "cell_type": "code",
   "execution_count": 87,
   "metadata": {
    "collapsed": false
   },
   "outputs": [
    {
     "data": {
      "text/plain": [
       "float"
      ]
     },
     "execution_count": 87,
     "metadata": {},
     "output_type": "execute_result"
    }
   ],
   "source": [
    "type(earthquakes[0]['depth'])"
   ]
  },
  {
   "cell_type": "code",
   "execution_count": 145,
   "metadata": {
    "collapsed": false
   },
   "outputs": [],
   "source": [
    "def depth_to_words(d):\n",
    "    for item in d:\n",
    "        item = item['depth']\n",
    "        if item < 70:\n",
    "            return \"shallow\"\n",
    "        elif (item > 70) & (item < 300):\n",
    "            return \"intermediate\"\n",
    "        elif item > 300:\n",
    "            return \"deep\"    \n",
    "    \n",
    "#depth_to_words(earthquakes) "
   ]
  },
  {
   "cell_type": "code",
   "execution_count": 139,
   "metadata": {
    "collapsed": false
   },
   "outputs": [],
   "source": [
    "def magnitude_to_words(m):\n",
    "    for item in m:\n",
    "        magnitude = item['mag']\n",
    "        if magnitude < 4:\n",
    "            return (\"light\", magnitude)\n",
    "        if ((magnitude) > 4) & ((magnitude) < 6):\n",
    "            return (\"moderate\", magnitude)\n",
    "        if ((magnitude) > 6) & ((magnitude) < 8):\n",
    "            return (\"huge\", magnitude)\n",
    "        if ((magnitude) > 8):\n",
    "            return (\"epic\", magnitude)\n",
    "        \n",
    "        \n",
    "#magnitude_to_words(earthquakes)"
   ]
  },
  {
   "cell_type": "code",
   "execution_count": 167,
   "metadata": {
    "collapsed": false
   },
   "outputs": [],
   "source": [
    "def day_in_words(d):\n",
    "    for item in d:\n",
    "        item = item['time']\n",
    "        yourdate = dateutil.parser.parse(item)\n",
    "        day = yourdate.strftime(\"%A\")    \n",
    "    return day\n",
    "#day_in_words(earthquakes)"
   ]
  },
  {
   "cell_type": "code",
   "execution_count": 168,
   "metadata": {
    "collapsed": false
   },
   "outputs": [],
   "source": [
    "def time_in_words(t):\n",
    "    for item in t:\n",
    "        item = item['time']\n",
    "        yourtime = dateutil.parser.parse(item)\n",
    "        time = yourtime.strftime(\"%H\")\n",
    "    if (int(time) > 0) & (int(time) < 12):\n",
    "        return \"morning\"\n",
    "    elif (int(time) > 12) & (int(time) < 18):\n",
    "        return \"afternoon\"\n",
    "    else:\n",
    "        return \"evening\"\n",
    "    \n",
    "#time_in_words(earthquakes)"
   ]
  },
  {
   "cell_type": "code",
   "execution_count": 169,
   "metadata": {
    "collapsed": false
   },
   "outputs": [],
   "source": [
    "def date_in_words(d):\n",
    "    for item in d:\n",
    "        item = item['time']\n",
    "        yourtime = dateutil.parser.parse(item)\n",
    "        date = yourtime.strftime(\"%B %d\")\n",
    "        return date\n",
    "\n",
    "#date_in_words(earthquakes)"
   ]
  },
  {
   "cell_type": "code",
   "execution_count": 170,
   "metadata": {
    "collapsed": false
   },
   "outputs": [],
   "source": [
    "def location(l):\n",
    "    for item in l:\n",
    "        item = item['place']\n",
    "        return item\n",
    "\n",
    "\n",
    "#location(earthquakes)"
   ]
  },
  {
   "cell_type": "code",
   "execution_count": 173,
   "metadata": {
    "collapsed": false
   },
   "outputs": [
    {
     "name": "stdout",
     "output_type": "stream",
     "text": [
      "A shallow, light 2.41 earthquake was reported Sunday evening on June 214km WSW of Brawley, California.\n"
     ]
    }
   ],
   "source": [
    "def eq_to_sentence(e):\n",
    "    return \"A \" + depth_to_words(e) + \", \" + str(magnitude_to_words(e)[0]) + \" \" + str(magnitude_to_words(e)[1]) + \" earthquake was reported \" + day_in_words(e) + \" \" + time_in_words(e) + \" on \" + date_in_words(e) + location(e)+\".\"\n",
    "    \n",
    "print(eq_to_sentence(earthquakes))"
   ]
  },
  {
   "cell_type": "code",
   "execution_count": 172,
   "metadata": {
    "collapsed": false
   },
   "outputs": [
    {
     "ename": "TypeError",
     "evalue": "string indices must be integers",
     "output_type": "error",
     "traceback": [
      "\u001b[0;31m---------------------------------------------------------------------------\u001b[0m",
      "\u001b[0;31mTypeError\u001b[0m                                 Traceback (most recent call last)",
      "\u001b[0;32m<ipython-input-172-2d5f0d6868c6>\u001b[0m in \u001b[0;36m<module>\u001b[0;34m()\u001b[0m\n\u001b[0;32m----> 1\u001b[0;31m \u001b[0;34m[\u001b[0m\u001b[0meq_to_sentence\u001b[0m\u001b[0;34m(\u001b[0m\u001b[0me\u001b[0m\u001b[0;34m)\u001b[0m \u001b[0;32mfor\u001b[0m \u001b[0me\u001b[0m \u001b[0;32min\u001b[0m \u001b[0mearthquakes\u001b[0m\u001b[0;34m]\u001b[0m\u001b[0;34m\u001b[0m\u001b[0m\n\u001b[0m",
      "\u001b[0;32m<ipython-input-172-2d5f0d6868c6>\u001b[0m in \u001b[0;36m<listcomp>\u001b[0;34m(.0)\u001b[0m\n\u001b[0;32m----> 1\u001b[0;31m \u001b[0;34m[\u001b[0m\u001b[0meq_to_sentence\u001b[0m\u001b[0;34m(\u001b[0m\u001b[0me\u001b[0m\u001b[0;34m)\u001b[0m \u001b[0;32mfor\u001b[0m \u001b[0me\u001b[0m \u001b[0;32min\u001b[0m \u001b[0mearthquakes\u001b[0m\u001b[0;34m]\u001b[0m\u001b[0;34m\u001b[0m\u001b[0m\n\u001b[0m",
      "\u001b[0;32m<ipython-input-171-5452fe8762fb>\u001b[0m in \u001b[0;36meq_to_sentence\u001b[0;34m(e)\u001b[0m\n\u001b[1;32m      1\u001b[0m \u001b[0;32mdef\u001b[0m \u001b[0meq_to_sentence\u001b[0m\u001b[0;34m(\u001b[0m\u001b[0me\u001b[0m\u001b[0;34m)\u001b[0m\u001b[0;34m:\u001b[0m\u001b[0;34m\u001b[0m\u001b[0m\n\u001b[0;32m----> 2\u001b[0;31m     \u001b[0;32mreturn\u001b[0m \u001b[0;34m\"A \"\u001b[0m \u001b[0;34m+\u001b[0m \u001b[0mdepth_to_words\u001b[0m\u001b[0;34m(\u001b[0m\u001b[0me\u001b[0m\u001b[0;34m)\u001b[0m \u001b[0;34m+\u001b[0m \u001b[0;34m\", \"\u001b[0m \u001b[0;34m+\u001b[0m \u001b[0mstr\u001b[0m\u001b[0;34m(\u001b[0m\u001b[0mmagnitude_to_words\u001b[0m\u001b[0;34m(\u001b[0m\u001b[0me\u001b[0m\u001b[0;34m)\u001b[0m\u001b[0;34m[\u001b[0m\u001b[0;36m0\u001b[0m\u001b[0;34m]\u001b[0m\u001b[0;34m)\u001b[0m \u001b[0;34m+\u001b[0m \u001b[0;34m\" \"\u001b[0m \u001b[0;34m+\u001b[0m \u001b[0mstr\u001b[0m\u001b[0;34m(\u001b[0m\u001b[0mmagnitude_to_words\u001b[0m\u001b[0;34m(\u001b[0m\u001b[0me\u001b[0m\u001b[0;34m)\u001b[0m\u001b[0;34m[\u001b[0m\u001b[0;36m1\u001b[0m\u001b[0;34m]\u001b[0m\u001b[0;34m)\u001b[0m \u001b[0;34m+\u001b[0m \u001b[0;34m\" earthquake was reported \"\u001b[0m \u001b[0;34m+\u001b[0m \u001b[0mday_in_words\u001b[0m\u001b[0;34m(\u001b[0m\u001b[0me\u001b[0m\u001b[0;34m)\u001b[0m \u001b[0;34m+\u001b[0m \u001b[0;34m\" \"\u001b[0m \u001b[0;34m+\u001b[0m \u001b[0mtime_in_words\u001b[0m\u001b[0;34m(\u001b[0m\u001b[0me\u001b[0m\u001b[0;34m)\u001b[0m \u001b[0;34m+\u001b[0m \u001b[0;34m\" on \"\u001b[0m \u001b[0;34m+\u001b[0m \u001b[0mdate_in_words\u001b[0m\u001b[0;34m(\u001b[0m\u001b[0me\u001b[0m\u001b[0;34m)\u001b[0m \u001b[0;34m+\u001b[0m \u001b[0mlocation\u001b[0m\u001b[0;34m(\u001b[0m\u001b[0me\u001b[0m\u001b[0;34m)\u001b[0m\u001b[0;34m\u001b[0m\u001b[0m\n\u001b[0m\u001b[1;32m      3\u001b[0m \u001b[0;34m\u001b[0m\u001b[0m\n\u001b[1;32m      4\u001b[0m \u001b[0mprint\u001b[0m\u001b[0;34m(\u001b[0m\u001b[0meq_to_sentence\u001b[0m\u001b[0;34m(\u001b[0m\u001b[0mearthquakes\u001b[0m\u001b[0;34m)\u001b[0m\u001b[0;34m)\u001b[0m\u001b[0;34m\u001b[0m\u001b[0m\n",
      "\u001b[0;32m<ipython-input-145-355392b0073a>\u001b[0m in \u001b[0;36mdepth_to_words\u001b[0;34m(d)\u001b[0m\n\u001b[1;32m      1\u001b[0m \u001b[0;32mdef\u001b[0m \u001b[0mdepth_to_words\u001b[0m\u001b[0;34m(\u001b[0m\u001b[0md\u001b[0m\u001b[0;34m)\u001b[0m\u001b[0;34m:\u001b[0m\u001b[0;34m\u001b[0m\u001b[0m\n\u001b[1;32m      2\u001b[0m     \u001b[0;32mfor\u001b[0m \u001b[0mitem\u001b[0m \u001b[0;32min\u001b[0m \u001b[0md\u001b[0m\u001b[0;34m:\u001b[0m\u001b[0;34m\u001b[0m\u001b[0m\n\u001b[0;32m----> 3\u001b[0;31m         \u001b[0mitem\u001b[0m \u001b[0;34m=\u001b[0m \u001b[0mitem\u001b[0m\u001b[0;34m[\u001b[0m\u001b[0;34m'depth'\u001b[0m\u001b[0;34m]\u001b[0m\u001b[0;34m\u001b[0m\u001b[0m\n\u001b[0m\u001b[1;32m      4\u001b[0m         \u001b[0;32mif\u001b[0m \u001b[0mitem\u001b[0m \u001b[0;34m<\u001b[0m \u001b[0;36m70\u001b[0m\u001b[0;34m:\u001b[0m\u001b[0;34m\u001b[0m\u001b[0m\n\u001b[1;32m      5\u001b[0m             \u001b[0;32mreturn\u001b[0m \u001b[0;34m\"shallow\"\u001b[0m\u001b[0;34m\u001b[0m\u001b[0m\n",
      "\u001b[0;31mTypeError\u001b[0m: string indices must be integers"
     ]
    }
   ],
   "source": [
    "[eq_to_sentence(e) for e in earthquakes]"
   ]
  },
  {
   "cell_type": "code",
   "execution_count": null,
   "metadata": {
    "collapsed": true
   },
   "outputs": [],
   "source": []
  }
 ],
 "metadata": {
  "kernelspec": {
   "display_name": "Python 3",
   "language": "python",
   "name": "python3"
  },
  "language_info": {
   "codemirror_mode": {
    "name": "ipython",
    "version": 3
   },
   "file_extension": ".py",
   "mimetype": "text/x-python",
   "name": "python",
   "nbconvert_exporter": "python",
   "pygments_lexer": "ipython3",
   "version": "3.5.1"
  }
 },
 "nbformat": 4,
 "nbformat_minor": 0
}
