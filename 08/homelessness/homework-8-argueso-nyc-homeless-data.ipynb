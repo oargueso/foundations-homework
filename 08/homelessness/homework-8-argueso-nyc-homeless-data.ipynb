{
 "cells": [
  {
   "cell_type": "markdown",
   "metadata": {},
   "source": [
    "## Homelessness in NYC"
   ]
  },
  {
   "cell_type": "markdown",
   "metadata": {},
   "source": [
    "This project analyses the report published daily by the Department of Homeless Services (DHS) in New York City, available here: https://data.cityofnewyork.us/Social-Services/DHS-Daily-Report/k46n-sa2m.\n",
    "\n",
    "The dataset contains information dating back to the last days of August, 2013, and running until mid-June, 2016. Therefore, we will only use data for years 2014 and 2015."
   ]
  },
  {
   "cell_type": "code",
   "execution_count": 1,
   "metadata": {
    "collapsed": false
   },
   "outputs": [
    {
     "name": "stderr",
     "output_type": "stream",
     "text": [
      "/Users/olayaargueso/.virtualenvs/data-analysis/lib/python3.5/site-packages/matplotlib/__init__.py:1035: UserWarning: Duplicate key in file \"/Users/olayaargueso/.matplotlib/matplotlibrc\", line #2\n",
      "  (fname, cnt))\n",
      "/Users/olayaargueso/.virtualenvs/data-analysis/lib/python3.5/site-packages/matplotlib/__init__.py:1035: UserWarning: Duplicate key in file \"/Users/olayaargueso/.matplotlib/matplotlibrc\", line #3\n",
      "  (fname, cnt))\n"
     ]
    }
   ],
   "source": [
    "import pandas as pd\n",
    "import matplotlib.pyplot as plt\n",
    "%matplotlib inline"
   ]
  },
  {
   "cell_type": "code",
   "execution_count": 2,
   "metadata": {
    "collapsed": false
   },
   "outputs": [
    {
     "data": {
      "text/html": [
       "<div>\n",
       "<table border=\"1\" class=\"dataframe\">\n",
       "  <thead>\n",
       "    <tr style=\"text-align: right;\">\n",
       "      <th></th>\n",
       "      <th>Year</th>\n",
       "      <th>Month</th>\n",
       "      <th>Date of Census</th>\n",
       "      <th>Total Adults in Shelter</th>\n",
       "      <th>Total Children in Shelter</th>\n",
       "      <th>Total Individuals in Shelter</th>\n",
       "      <th>Single Adult Men in Shelter</th>\n",
       "      <th>Single Adult Women in Shelter</th>\n",
       "      <th>Total Single Adults in Shelter</th>\n",
       "      <th>Families with Children in Shelter</th>\n",
       "      <th>Adults in Families with Children in Shelter</th>\n",
       "      <th>Children in Families with Children in Shelter</th>\n",
       "      <th>Total Individuals in Families with Children in Shelter</th>\n",
       "      <th>Adult Families in Shelter</th>\n",
       "      <th>Individuals in Adult Families in Shelter</th>\n",
       "      <th>Families Requesting Temporary Housing at PATH</th>\n",
       "      <th>Adult Families Requesting Temporary Housing at AFIC</th>\n",
       "    </tr>\n",
       "  </thead>\n",
       "  <tbody>\n",
       "    <tr>\n",
       "      <th>0</th>\n",
       "      <td>2013.0</td>\n",
       "      <td>August</td>\n",
       "      <td>2013-08-21</td>\n",
       "      <td>28359.0</td>\n",
       "      <td>21314.0</td>\n",
       "      <td>49673.0</td>\n",
       "      <td>7231.0</td>\n",
       "      <td>2710.0</td>\n",
       "      <td>9941.0</td>\n",
       "      <td>10261.0</td>\n",
       "      <td>14607.0</td>\n",
       "      <td>21314.0</td>\n",
       "      <td>35921.0</td>\n",
       "      <td>1796.0</td>\n",
       "      <td>3811.0</td>\n",
       "      <td>165.0</td>\n",
       "      <td>14.0</td>\n",
       "    </tr>\n",
       "    <tr>\n",
       "      <th>1</th>\n",
       "      <td>2013.0</td>\n",
       "      <td>August</td>\n",
       "      <td>2013-08-22</td>\n",
       "      <td>28366.0</td>\n",
       "      <td>21324.0</td>\n",
       "      <td>49690.0</td>\n",
       "      <td>7201.0</td>\n",
       "      <td>2716.0</td>\n",
       "      <td>9917.0</td>\n",
       "      <td>10274.0</td>\n",
       "      <td>14622.0</td>\n",
       "      <td>21324.0</td>\n",
       "      <td>35946.0</td>\n",
       "      <td>1803.0</td>\n",
       "      <td>3827.0</td>\n",
       "      <td>120.0</td>\n",
       "      <td>20.0</td>\n",
       "    </tr>\n",
       "    <tr>\n",
       "      <th>2</th>\n",
       "      <td>2013.0</td>\n",
       "      <td>August</td>\n",
       "      <td>2013-08-23</td>\n",
       "      <td>28257.0</td>\n",
       "      <td>21291.0</td>\n",
       "      <td>49548.0</td>\n",
       "      <td>7149.0</td>\n",
       "      <td>2671.0</td>\n",
       "      <td>9820.0</td>\n",
       "      <td>10266.0</td>\n",
       "      <td>14611.0</td>\n",
       "      <td>21291.0</td>\n",
       "      <td>35902.0</td>\n",
       "      <td>1802.0</td>\n",
       "      <td>3826.0</td>\n",
       "      <td>146.0</td>\n",
       "      <td>10.0</td>\n",
       "    </tr>\n",
       "    <tr>\n",
       "      <th>3</th>\n",
       "      <td>2013.0</td>\n",
       "      <td>August</td>\n",
       "      <td>2013-08-24</td>\n",
       "      <td>28274.0</td>\n",
       "      <td>21343.0</td>\n",
       "      <td>49617.0</td>\n",
       "      <td>7110.0</td>\n",
       "      <td>2690.0</td>\n",
       "      <td>9800.0</td>\n",
       "      <td>10291.0</td>\n",
       "      <td>14650.0</td>\n",
       "      <td>21343.0</td>\n",
       "      <td>35993.0</td>\n",
       "      <td>1801.0</td>\n",
       "      <td>3824.0</td>\n",
       "      <td>110.0</td>\n",
       "      <td>8.0</td>\n",
       "    </tr>\n",
       "    <tr>\n",
       "      <th>4</th>\n",
       "      <td>2013.0</td>\n",
       "      <td>August</td>\n",
       "      <td>2013-08-25</td>\n",
       "      <td>28458.0</td>\n",
       "      <td>21400.0</td>\n",
       "      <td>49858.0</td>\n",
       "      <td>7230.0</td>\n",
       "      <td>2704.0</td>\n",
       "      <td>9934.0</td>\n",
       "      <td>10324.0</td>\n",
       "      <td>14694.0</td>\n",
       "      <td>21400.0</td>\n",
       "      <td>36094.0</td>\n",
       "      <td>1804.0</td>\n",
       "      <td>3830.0</td>\n",
       "      <td>67.0</td>\n",
       "      <td>10.0</td>\n",
       "    </tr>\n",
       "  </tbody>\n",
       "</table>\n",
       "</div>"
      ],
      "text/plain": [
       "     Year   Month Date of Census  Total Adults in Shelter  \\\n",
       "0  2013.0  August     2013-08-21                  28359.0   \n",
       "1  2013.0  August     2013-08-22                  28366.0   \n",
       "2  2013.0  August     2013-08-23                  28257.0   \n",
       "3  2013.0  August     2013-08-24                  28274.0   \n",
       "4  2013.0  August     2013-08-25                  28458.0   \n",
       "\n",
       "   Total Children in Shelter  Total Individuals in Shelter  \\\n",
       "0                    21314.0                       49673.0   \n",
       "1                    21324.0                       49690.0   \n",
       "2                    21291.0                       49548.0   \n",
       "3                    21343.0                       49617.0   \n",
       "4                    21400.0                       49858.0   \n",
       "\n",
       "   Single Adult Men in Shelter  Single Adult Women in Shelter  \\\n",
       "0                       7231.0                         2710.0   \n",
       "1                       7201.0                         2716.0   \n",
       "2                       7149.0                         2671.0   \n",
       "3                       7110.0                         2690.0   \n",
       "4                       7230.0                         2704.0   \n",
       "\n",
       "   Total Single Adults in Shelter  Families with Children in Shelter  \\\n",
       "0                          9941.0                            10261.0   \n",
       "1                          9917.0                            10274.0   \n",
       "2                          9820.0                            10266.0   \n",
       "3                          9800.0                            10291.0   \n",
       "4                          9934.0                            10324.0   \n",
       "\n",
       "   Adults in Families with Children in Shelter  \\\n",
       "0                                      14607.0   \n",
       "1                                      14622.0   \n",
       "2                                      14611.0   \n",
       "3                                      14650.0   \n",
       "4                                      14694.0   \n",
       "\n",
       "   Children in Families with Children in Shelter  \\\n",
       "0                                        21314.0   \n",
       "1                                        21324.0   \n",
       "2                                        21291.0   \n",
       "3                                        21343.0   \n",
       "4                                        21400.0   \n",
       "\n",
       "   Total Individuals in Families with Children in Shelter   \\\n",
       "0                                            35921.0         \n",
       "1                                            35946.0         \n",
       "2                                            35902.0         \n",
       "3                                            35993.0         \n",
       "4                                            36094.0         \n",
       "\n",
       "   Adult Families in Shelter  Individuals in Adult Families in Shelter  \\\n",
       "0                     1796.0                                    3811.0   \n",
       "1                     1803.0                                    3827.0   \n",
       "2                     1802.0                                    3826.0   \n",
       "3                     1801.0                                    3824.0   \n",
       "4                     1804.0                                    3830.0   \n",
       "\n",
       "   Families Requesting Temporary Housing at PATH  \\\n",
       "0                                          165.0   \n",
       "1                                          120.0   \n",
       "2                                          146.0   \n",
       "3                                          110.0   \n",
       "4                                           67.0   \n",
       "\n",
       "   Adult Families Requesting Temporary Housing at AFIC  \n",
       "0                                               14.0    \n",
       "1                                               20.0    \n",
       "2                                               10.0    \n",
       "3                                                8.0    \n",
       "4                                               10.0    "
      ]
     },
     "execution_count": 2,
     "metadata": {},
     "output_type": "execute_result"
    }
   ],
   "source": [
    "df = pd.read_excel(\"DHS_Daily_Report.xls\")\n",
    "df.head()"
   ]
  },
  {
   "cell_type": "code",
   "execution_count": 3,
   "metadata": {
    "collapsed": false
   },
   "outputs": [
    {
     "data": {
      "text/html": [
       "<div>\n",
       "<table border=\"1\" class=\"dataframe\">\n",
       "  <thead>\n",
       "    <tr style=\"text-align: right;\">\n",
       "      <th></th>\n",
       "      <th>Year</th>\n",
       "      <th>Month</th>\n",
       "      <th>Date of Census</th>\n",
       "      <th>Total Adults in Shelter</th>\n",
       "      <th>Total Children in Shelter</th>\n",
       "      <th>Total Individuals in Shelter</th>\n",
       "      <th>Single Adult Men in Shelter</th>\n",
       "      <th>Single Adult Women in Shelter</th>\n",
       "      <th>Total Single Adults in Shelter</th>\n",
       "      <th>Families with Children in Shelter</th>\n",
       "      <th>Adults in Families with Children in Shelter</th>\n",
       "      <th>Children in Families with Children in Shelter</th>\n",
       "      <th>Total Individuals in Families with Children in Shelter</th>\n",
       "      <th>Adult Families in Shelter</th>\n",
       "      <th>Individuals in Adult Families in Shelter</th>\n",
       "      <th>Families Requesting Temporary Housing at PATH</th>\n",
       "      <th>Adult Families Requesting Temporary Housing at AFIC</th>\n",
       "    </tr>\n",
       "  </thead>\n",
       "  <tbody>\n",
       "    <tr>\n",
       "      <th>1006</th>\n",
       "      <td>2016.0</td>\n",
       "      <td>June</td>\n",
       "      <td>2016-06-11</td>\n",
       "      <td>35041.0</td>\n",
       "      <td>22651.0</td>\n",
       "      <td>57692.0</td>\n",
       "      <td>9242.0</td>\n",
       "      <td>3694.0</td>\n",
       "      <td>12936.0</td>\n",
       "      <td>12373.0</td>\n",
       "      <td>17176.0</td>\n",
       "      <td>22651.0</td>\n",
       "      <td>39827.0</td>\n",
       "      <td>2350.0</td>\n",
       "      <td>4929.0</td>\n",
       "      <td>66.0</td>\n",
       "      <td>13.0</td>\n",
       "    </tr>\n",
       "    <tr>\n",
       "      <th>1007</th>\n",
       "      <td>2016.0</td>\n",
       "      <td>June</td>\n",
       "      <td>2016-06-12</td>\n",
       "      <td>35184.0</td>\n",
       "      <td>22687.0</td>\n",
       "      <td>57871.0</td>\n",
       "      <td>9336.0</td>\n",
       "      <td>3726.0</td>\n",
       "      <td>13062.0</td>\n",
       "      <td>12393.0</td>\n",
       "      <td>17199.0</td>\n",
       "      <td>22687.0</td>\n",
       "      <td>39886.0</td>\n",
       "      <td>2347.0</td>\n",
       "      <td>4923.0</td>\n",
       "      <td>59.0</td>\n",
       "      <td>10.0</td>\n",
       "    </tr>\n",
       "    <tr>\n",
       "      <th>1008</th>\n",
       "      <td>2016.0</td>\n",
       "      <td>June</td>\n",
       "      <td>2016-06-13</td>\n",
       "      <td>35233.0</td>\n",
       "      <td>22679.0</td>\n",
       "      <td>57912.0</td>\n",
       "      <td>9366.0</td>\n",
       "      <td>3752.0</td>\n",
       "      <td>13118.0</td>\n",
       "      <td>12387.0</td>\n",
       "      <td>17198.0</td>\n",
       "      <td>22679.0</td>\n",
       "      <td>39877.0</td>\n",
       "      <td>2345.0</td>\n",
       "      <td>4917.0</td>\n",
       "      <td>82.0</td>\n",
       "      <td>15.0</td>\n",
       "    </tr>\n",
       "    <tr>\n",
       "      <th>1009</th>\n",
       "      <td>2016.0</td>\n",
       "      <td>June</td>\n",
       "      <td>2016-06-14</td>\n",
       "      <td>35257.0</td>\n",
       "      <td>22651.0</td>\n",
       "      <td>57908.0</td>\n",
       "      <td>9361.0</td>\n",
       "      <td>3766.0</td>\n",
       "      <td>13127.0</td>\n",
       "      <td>12385.0</td>\n",
       "      <td>17204.0</td>\n",
       "      <td>22651.0</td>\n",
       "      <td>39855.0</td>\n",
       "      <td>2351.0</td>\n",
       "      <td>4926.0</td>\n",
       "      <td>105.0</td>\n",
       "      <td>18.0</td>\n",
       "    </tr>\n",
       "    <tr>\n",
       "      <th>1010</th>\n",
       "      <td>2016.0</td>\n",
       "      <td>June</td>\n",
       "      <td>2016-06-15</td>\n",
       "      <td>35268.0</td>\n",
       "      <td>22655.0</td>\n",
       "      <td>57923.0</td>\n",
       "      <td>9351.0</td>\n",
       "      <td>3758.0</td>\n",
       "      <td>13109.0</td>\n",
       "      <td>12404.0</td>\n",
       "      <td>17231.0</td>\n",
       "      <td>22655.0</td>\n",
       "      <td>39886.0</td>\n",
       "      <td>2350.0</td>\n",
       "      <td>4928.0</td>\n",
       "      <td>96.0</td>\n",
       "      <td>18.0</td>\n",
       "    </tr>\n",
       "  </tbody>\n",
       "</table>\n",
       "</div>"
      ],
      "text/plain": [
       "        Year Month Date of Census  Total Adults in Shelter  \\\n",
       "1006  2016.0  June     2016-06-11                  35041.0   \n",
       "1007  2016.0  June     2016-06-12                  35184.0   \n",
       "1008  2016.0  June     2016-06-13                  35233.0   \n",
       "1009  2016.0  June     2016-06-14                  35257.0   \n",
       "1010  2016.0  June     2016-06-15                  35268.0   \n",
       "\n",
       "      Total Children in Shelter  Total Individuals in Shelter  \\\n",
       "1006                    22651.0                       57692.0   \n",
       "1007                    22687.0                       57871.0   \n",
       "1008                    22679.0                       57912.0   \n",
       "1009                    22651.0                       57908.0   \n",
       "1010                    22655.0                       57923.0   \n",
       "\n",
       "      Single Adult Men in Shelter  Single Adult Women in Shelter  \\\n",
       "1006                       9242.0                         3694.0   \n",
       "1007                       9336.0                         3726.0   \n",
       "1008                       9366.0                         3752.0   \n",
       "1009                       9361.0                         3766.0   \n",
       "1010                       9351.0                         3758.0   \n",
       "\n",
       "      Total Single Adults in Shelter  Families with Children in Shelter  \\\n",
       "1006                         12936.0                            12373.0   \n",
       "1007                         13062.0                            12393.0   \n",
       "1008                         13118.0                            12387.0   \n",
       "1009                         13127.0                            12385.0   \n",
       "1010                         13109.0                            12404.0   \n",
       "\n",
       "      Adults in Families with Children in Shelter  \\\n",
       "1006                                      17176.0   \n",
       "1007                                      17199.0   \n",
       "1008                                      17198.0   \n",
       "1009                                      17204.0   \n",
       "1010                                      17231.0   \n",
       "\n",
       "      Children in Families with Children in Shelter  \\\n",
       "1006                                        22651.0   \n",
       "1007                                        22687.0   \n",
       "1008                                        22679.0   \n",
       "1009                                        22651.0   \n",
       "1010                                        22655.0   \n",
       "\n",
       "      Total Individuals in Families with Children in Shelter   \\\n",
       "1006                                            39827.0         \n",
       "1007                                            39886.0         \n",
       "1008                                            39877.0         \n",
       "1009                                            39855.0         \n",
       "1010                                            39886.0         \n",
       "\n",
       "      Adult Families in Shelter  Individuals in Adult Families in Shelter  \\\n",
       "1006                     2350.0                                    4929.0   \n",
       "1007                     2347.0                                    4923.0   \n",
       "1008                     2345.0                                    4917.0   \n",
       "1009                     2351.0                                    4926.0   \n",
       "1010                     2350.0                                    4928.0   \n",
       "\n",
       "      Families Requesting Temporary Housing at PATH  \\\n",
       "1006                                           66.0   \n",
       "1007                                           59.0   \n",
       "1008                                           82.0   \n",
       "1009                                          105.0   \n",
       "1010                                           96.0   \n",
       "\n",
       "      Adult Families Requesting Temporary Housing at AFIC  \n",
       "1006                                               13.0    \n",
       "1007                                               10.0    \n",
       "1008                                               15.0    \n",
       "1009                                               18.0    \n",
       "1010                                               18.0    "
      ]
     },
     "execution_count": 3,
     "metadata": {},
     "output_type": "execute_result"
    }
   ],
   "source": [
    "df.tail()"
   ]
  },
  {
   "cell_type": "code",
   "execution_count": 4,
   "metadata": {
    "collapsed": false
   },
   "outputs": [
    {
     "data": {
      "text/plain": [
       "Index(['Year', 'Month', 'Date of Census', 'Total Adults in Shelter',\n",
       "       'Total Children in Shelter', 'Total Individuals in Shelter',\n",
       "       'Single Adult Men in Shelter', 'Single Adult Women in Shelter',\n",
       "       'Total Single Adults in Shelter', 'Families with Children in Shelter',\n",
       "       'Adults in Families with Children in Shelter',\n",
       "       'Children in Families with Children in Shelter',\n",
       "       'Total Individuals in Families with Children in Shelter ',\n",
       "       'Adult Families in Shelter', 'Individuals in Adult Families in Shelter',\n",
       "       'Families Requesting Temporary Housing at PATH',\n",
       "       'Adult Families Requesting Temporary Housing at AFIC'],\n",
       "      dtype='object')"
      ]
     },
     "execution_count": 4,
     "metadata": {},
     "output_type": "execute_result"
    }
   ],
   "source": [
    "df.columns"
   ]
  },
  {
   "cell_type": "markdown",
   "metadata": {},
   "source": [
    "## 1) How many individuals/adults/children stay in shelters in average per year?"
   ]
  },
  {
   "cell_type": "code",
   "execution_count": 5,
   "metadata": {
    "collapsed": false
   },
   "outputs": [
    {
     "data": {
      "text/html": [
       "<div>\n",
       "<table border=\"1\" class=\"dataframe\">\n",
       "  <thead>\n",
       "    <tr style=\"text-align: right;\">\n",
       "      <th></th>\n",
       "      <th>Year</th>\n",
       "      <th>Month</th>\n",
       "      <th>Date of Census</th>\n",
       "      <th>Total Adults in Shelter</th>\n",
       "      <th>Total Children in Shelter</th>\n",
       "      <th>Total Individuals in Shelter</th>\n",
       "      <th>Single Adult Men in Shelter</th>\n",
       "      <th>Single Adult Women in Shelter</th>\n",
       "      <th>Total Single Adults in Shelter</th>\n",
       "      <th>Families with Children in Shelter</th>\n",
       "      <th>Adults in Families with Children in Shelter</th>\n",
       "      <th>Children in Families with Children in Shelter</th>\n",
       "      <th>Total Individuals in Families with Children in Shelter</th>\n",
       "      <th>Adult Families in Shelter</th>\n",
       "      <th>Individuals in Adult Families in Shelter</th>\n",
       "      <th>Families Requesting Temporary Housing at PATH</th>\n",
       "      <th>Adult Families Requesting Temporary Housing at AFIC</th>\n",
       "    </tr>\n",
       "  </thead>\n",
       "  <tbody>\n",
       "    <tr>\n",
       "      <th>126</th>\n",
       "      <td>2014.0</td>\n",
       "      <td>January</td>\n",
       "      <td>2014-01-01</td>\n",
       "      <td>28770.0</td>\n",
       "      <td>21919.0</td>\n",
       "      <td>50689.0</td>\n",
       "      <td>7269.0</td>\n",
       "      <td>2650.0</td>\n",
       "      <td>9919.0</td>\n",
       "      <td>10469.0</td>\n",
       "      <td>14897.0</td>\n",
       "      <td>21919.0</td>\n",
       "      <td>36816.0</td>\n",
       "      <td>1866.0</td>\n",
       "      <td>3954.0</td>\n",
       "      <td>47.0</td>\n",
       "      <td>6.0</td>\n",
       "    </tr>\n",
       "    <tr>\n",
       "      <th>127</th>\n",
       "      <td>2014.0</td>\n",
       "      <td>January</td>\n",
       "      <td>2014-01-02</td>\n",
       "      <td>28843.0</td>\n",
       "      <td>21954.0</td>\n",
       "      <td>50797.0</td>\n",
       "      <td>7289.0</td>\n",
       "      <td>2661.0</td>\n",
       "      <td>9950.0</td>\n",
       "      <td>10484.0</td>\n",
       "      <td>14930.0</td>\n",
       "      <td>21954.0</td>\n",
       "      <td>36884.0</td>\n",
       "      <td>1871.0</td>\n",
       "      <td>3963.0</td>\n",
       "      <td>91.0</td>\n",
       "      <td>17.0</td>\n",
       "    </tr>\n",
       "    <tr>\n",
       "      <th>128</th>\n",
       "      <td>2014.0</td>\n",
       "      <td>January</td>\n",
       "      <td>2014-01-03</td>\n",
       "      <td>28947.0</td>\n",
       "      <td>22007.0</td>\n",
       "      <td>50954.0</td>\n",
       "      <td>7323.0</td>\n",
       "      <td>2678.0</td>\n",
       "      <td>10001.0</td>\n",
       "      <td>10521.0</td>\n",
       "      <td>14978.0</td>\n",
       "      <td>22007.0</td>\n",
       "      <td>36985.0</td>\n",
       "      <td>1872.0</td>\n",
       "      <td>3968.0</td>\n",
       "      <td>61.0</td>\n",
       "      <td>11.0</td>\n",
       "    </tr>\n",
       "    <tr>\n",
       "      <th>129</th>\n",
       "      <td>2014.0</td>\n",
       "      <td>January</td>\n",
       "      <td>2014-01-04</td>\n",
       "      <td>28954.0</td>\n",
       "      <td>22003.0</td>\n",
       "      <td>50957.0</td>\n",
       "      <td>7320.0</td>\n",
       "      <td>2684.0</td>\n",
       "      <td>10004.0</td>\n",
       "      <td>10520.0</td>\n",
       "      <td>14971.0</td>\n",
       "      <td>22003.0</td>\n",
       "      <td>36974.0</td>\n",
       "      <td>1877.0</td>\n",
       "      <td>3979.0</td>\n",
       "      <td>73.0</td>\n",
       "      <td>7.0</td>\n",
       "    </tr>\n",
       "    <tr>\n",
       "      <th>130</th>\n",
       "      <td>2014.0</td>\n",
       "      <td>January</td>\n",
       "      <td>2014-01-05</td>\n",
       "      <td>28991.0</td>\n",
       "      <td>21966.0</td>\n",
       "      <td>50957.0</td>\n",
       "      <td>7386.0</td>\n",
       "      <td>2692.0</td>\n",
       "      <td>10078.0</td>\n",
       "      <td>10502.0</td>\n",
       "      <td>14941.0</td>\n",
       "      <td>21966.0</td>\n",
       "      <td>36907.0</td>\n",
       "      <td>1874.0</td>\n",
       "      <td>3972.0</td>\n",
       "      <td>86.0</td>\n",
       "      <td>11.0</td>\n",
       "    </tr>\n",
       "  </tbody>\n",
       "</table>\n",
       "</div>"
      ],
      "text/plain": [
       "       Year    Month Date of Census  Total Adults in Shelter  \\\n",
       "126  2014.0  January     2014-01-01                  28770.0   \n",
       "127  2014.0  January     2014-01-02                  28843.0   \n",
       "128  2014.0  January     2014-01-03                  28947.0   \n",
       "129  2014.0  January     2014-01-04                  28954.0   \n",
       "130  2014.0  January     2014-01-05                  28991.0   \n",
       "\n",
       "     Total Children in Shelter  Total Individuals in Shelter  \\\n",
       "126                    21919.0                       50689.0   \n",
       "127                    21954.0                       50797.0   \n",
       "128                    22007.0                       50954.0   \n",
       "129                    22003.0                       50957.0   \n",
       "130                    21966.0                       50957.0   \n",
       "\n",
       "     Single Adult Men in Shelter  Single Adult Women in Shelter  \\\n",
       "126                       7269.0                         2650.0   \n",
       "127                       7289.0                         2661.0   \n",
       "128                       7323.0                         2678.0   \n",
       "129                       7320.0                         2684.0   \n",
       "130                       7386.0                         2692.0   \n",
       "\n",
       "     Total Single Adults in Shelter  Families with Children in Shelter  \\\n",
       "126                          9919.0                            10469.0   \n",
       "127                          9950.0                            10484.0   \n",
       "128                         10001.0                            10521.0   \n",
       "129                         10004.0                            10520.0   \n",
       "130                         10078.0                            10502.0   \n",
       "\n",
       "     Adults in Families with Children in Shelter  \\\n",
       "126                                      14897.0   \n",
       "127                                      14930.0   \n",
       "128                                      14978.0   \n",
       "129                                      14971.0   \n",
       "130                                      14941.0   \n",
       "\n",
       "     Children in Families with Children in Shelter  \\\n",
       "126                                        21919.0   \n",
       "127                                        21954.0   \n",
       "128                                        22007.0   \n",
       "129                                        22003.0   \n",
       "130                                        21966.0   \n",
       "\n",
       "     Total Individuals in Families with Children in Shelter   \\\n",
       "126                                            36816.0         \n",
       "127                                            36884.0         \n",
       "128                                            36985.0         \n",
       "129                                            36974.0         \n",
       "130                                            36907.0         \n",
       "\n",
       "     Adult Families in Shelter  Individuals in Adult Families in Shelter  \\\n",
       "126                     1866.0                                    3954.0   \n",
       "127                     1871.0                                    3963.0   \n",
       "128                     1872.0                                    3968.0   \n",
       "129                     1877.0                                    3979.0   \n",
       "130                     1874.0                                    3972.0   \n",
       "\n",
       "     Families Requesting Temporary Housing at PATH  \\\n",
       "126                                           47.0   \n",
       "127                                           91.0   \n",
       "128                                           61.0   \n",
       "129                                           73.0   \n",
       "130                                           86.0   \n",
       "\n",
       "     Adult Families Requesting Temporary Housing at AFIC  \n",
       "126                                                6.0    \n",
       "127                                               17.0    \n",
       "128                                               11.0    \n",
       "129                                                7.0    \n",
       "130                                               11.0    "
      ]
     },
     "execution_count": 5,
     "metadata": {},
     "output_type": "execute_result"
    }
   ],
   "source": [
    "data_2014 = df[df['Year'] == 2014]\n",
    "data_2014.head()"
   ]
  },
  {
   "cell_type": "code",
   "execution_count": 6,
   "metadata": {
    "collapsed": false
   },
   "outputs": [
    {
     "data": {
      "text/plain": [
       "54549.161473087821"
      ]
     },
     "execution_count": 6,
     "metadata": {},
     "output_type": "execute_result"
    }
   ],
   "source": [
    "data_2014 = df[df['Year'] == 2014]\n",
    "total_avg_2014 = data_2014['Total Individuals in Shelter'].mean()\n",
    "adults_avg_2014 = data_2014['Total Adults in Shelter'].mean()\n",
    "children_avg_2014 = data_2014['Total Children in Shelter'].mean()\n",
    "total_avg_2014"
   ]
  },
  {
   "cell_type": "code",
   "execution_count": 7,
   "metadata": {
    "collapsed": false
   },
   "outputs": [
    {
     "data": {
      "text/plain": [
       "31019.104815864022"
      ]
     },
     "execution_count": 7,
     "metadata": {},
     "output_type": "execute_result"
    }
   ],
   "source": [
    "adults_avg_2014"
   ]
  },
  {
   "cell_type": "code",
   "execution_count": 8,
   "metadata": {
    "collapsed": false
   },
   "outputs": [
    {
     "data": {
      "text/plain": [
       "23530.056657223795"
      ]
     },
     "execution_count": 8,
     "metadata": {},
     "output_type": "execute_result"
    }
   ],
   "source": [
    "children_avg_2014"
   ]
  },
  {
   "cell_type": "code",
   "execution_count": 9,
   "metadata": {
    "collapsed": false
   },
   "outputs": [
    {
     "data": {
      "text/plain": [
       "57157.477653631286"
      ]
     },
     "execution_count": 9,
     "metadata": {},
     "output_type": "execute_result"
    }
   ],
   "source": [
    "data_2015 = df[df['Year'] == 2015]\n",
    "total_avg_2015 = data_2015['Total Individuals in Shelter'].mean()\n",
    "adults_avg_2015 = data_2015['Total Adults in Shelter'].mean()\n",
    "children_avg_2015 = data_2015['Total Children in Shelter'].mean()\n",
    "total_avg_2015"
   ]
  },
  {
   "cell_type": "code",
   "execution_count": 10,
   "metadata": {
    "collapsed": false
   },
   "outputs": [
    {
     "data": {
      "text/plain": [
       "33508.382681564246"
      ]
     },
     "execution_count": 10,
     "metadata": {},
     "output_type": "execute_result"
    }
   ],
   "source": [
    "adults_avg_2015"
   ]
  },
  {
   "cell_type": "code",
   "execution_count": 11,
   "metadata": {
    "collapsed": false
   },
   "outputs": [
    {
     "data": {
      "text/plain": [
       "23649.09497206704"
      ]
     },
     "execution_count": 11,
     "metadata": {},
     "output_type": "execute_result"
    }
   ],
   "source": [
    "children_avg_2015"
   ]
  },
  {
   "cell_type": "markdown",
   "metadata": {},
   "source": [
    "## 2) % of children / total individuals in shelter per year"
   ]
  },
  {
   "cell_type": "code",
   "execution_count": 12,
   "metadata": {
    "collapsed": false
   },
   "outputs": [
    {
     "data": {
      "text/plain": [
       "43.1355057012792"
      ]
     },
     "execution_count": 12,
     "metadata": {},
     "output_type": "execute_result"
    }
   ],
   "source": [
    "children_percentage_2014 = children_avg_2014 / total_avg_2014 * 100\n",
    "children_percentage_2014"
   ]
  },
  {
   "cell_type": "code",
   "execution_count": 13,
   "metadata": {
    "collapsed": false
   },
   "outputs": [
    {
     "data": {
      "text/plain": [
       "41.375329953113464"
      ]
     },
     "execution_count": 13,
     "metadata": {},
     "output_type": "execute_result"
    }
   ],
   "source": [
    "children_percentage_2015 = children_avg_2015 / total_avg_2015 * 100\n",
    "children_percentage_2015"
   ]
  },
  {
   "cell_type": "markdown",
   "metadata": {},
   "source": [
    "## 3) How many families with children stay in shelters in average per year?"
   ]
  },
  {
   "cell_type": "code",
   "execution_count": 14,
   "metadata": {
    "collapsed": false
   },
   "outputs": [
    {
     "data": {
      "text/plain": [
       "11342.988668555241"
      ]
     },
     "execution_count": 14,
     "metadata": {},
     "output_type": "execute_result"
    }
   ],
   "source": [
    "families_avg_2014 = data_2014['Families with Children in Shelter'].mean()\n",
    "families_avg_2014"
   ]
  },
  {
   "cell_type": "code",
   "execution_count": 15,
   "metadata": {
    "collapsed": false
   },
   "outputs": [
    {
     "data": {
      "text/plain": [
       "11884.265363128492"
      ]
     },
     "execution_count": 15,
     "metadata": {},
     "output_type": "execute_result"
    }
   ],
   "source": [
    "families_avg_2015 = data_2015['Families with Children in Shelter'].mean()\n",
    "families_avg_2015"
   ]
  },
  {
   "cell_type": "markdown",
   "metadata": {},
   "source": [
    "## 4) How many single men/single women?"
   ]
  },
  {
   "cell_type": "code",
   "execution_count": 16,
   "metadata": {
    "collapsed": false
   },
   "outputs": [
    {
     "data": {
      "text/plain": [
       "7712.7365439093483"
      ]
     },
     "execution_count": 16,
     "metadata": {},
     "output_type": "execute_result"
    }
   ],
   "source": [
    "men_avg_2014 = data_2014['Single Adult Men in Shelter'].mean()\n",
    "men_avg_2014"
   ]
  },
  {
   "cell_type": "code",
   "execution_count": 17,
   "metadata": {
    "collapsed": false
   },
   "outputs": [
    {
     "data": {
      "text/plain": [
       "8682.0027932960893"
      ]
     },
     "execution_count": 17,
     "metadata": {},
     "output_type": "execute_result"
    }
   ],
   "source": [
    "men_avg_2015 = data_2015['Single Adult Men in Shelter'].mean()\n",
    "men_avg_2015"
   ]
  },
  {
   "cell_type": "code",
   "execution_count": 18,
   "metadata": {
    "collapsed": false
   },
   "outputs": [
    {
     "data": {
      "text/plain": [
       "2906.3937677053823"
      ]
     },
     "execution_count": 18,
     "metadata": {},
     "output_type": "execute_result"
    }
   ],
   "source": [
    "women_avg_2014 = data_2014['Single Adult Women in Shelter'].mean()\n",
    "women_avg_2014"
   ]
  },
  {
   "cell_type": "code",
   "execution_count": 19,
   "metadata": {
    "collapsed": false
   },
   "outputs": [
    {
     "data": {
      "text/plain": [
       "3342.81843575419"
      ]
     },
     "execution_count": 19,
     "metadata": {},
     "output_type": "execute_result"
    }
   ],
   "source": [
    "women_avg_2015 = data_2015['Single Adult Women in Shelter'].mean()\n",
    "women_avg_2015"
   ]
  },
  {
   "cell_type": "markdown",
   "metadata": {},
   "source": [
    "## 5) % of men and women/ total individuals in shelter per year"
   ]
  },
  {
   "cell_type": "code",
   "execution_count": 20,
   "metadata": {
    "collapsed": false
   },
   "outputs": [
    {
     "data": {
      "text/plain": [
       "72.630585722010593"
      ]
     },
     "execution_count": 20,
     "metadata": {},
     "output_type": "execute_result"
    }
   ],
   "source": [
    "men_percentage_2014 = men_avg_2014 / (data_2014['Total Single Adults in Shelter'].mean()) * 100\n",
    "men_percentage_2014"
   ]
  },
  {
   "cell_type": "code",
   "execution_count": 21,
   "metadata": {
    "collapsed": false
   },
   "outputs": [
    {
     "data": {
      "text/plain": [
       "72.200680807807686"
      ]
     },
     "execution_count": 21,
     "metadata": {},
     "output_type": "execute_result"
    }
   ],
   "source": [
    "men_percentage_2015 = men_avg_2015 / (data_2015['Total Single Adults in Shelter'].mean()) * 100\n",
    "men_percentage_2015"
   ]
  },
  {
   "cell_type": "code",
   "execution_count": 22,
   "metadata": {
    "collapsed": false
   },
   "outputs": [
    {
     "data": {
      "text/plain": [
       "27.369414277989399"
      ]
     },
     "execution_count": 22,
     "metadata": {},
     "output_type": "execute_result"
    }
   ],
   "source": [
    "women_percentage_2014 = women_avg_2014 / (data_2014['Total Single Adults in Shelter'].mean()) * 100\n",
    "women_percentage_2014"
   ]
  },
  {
   "cell_type": "code",
   "execution_count": 23,
   "metadata": {
    "collapsed": false
   },
   "outputs": [
    {
     "data": {
      "text/plain": [
       "27.799319192192311"
      ]
     },
     "execution_count": 23,
     "metadata": {},
     "output_type": "execute_result"
    }
   ],
   "source": [
    "women_percentage_2015 = women_avg_2015 / (data_2015['Total Single Adults in Shelter'].mean()) * 100\n",
    "women_percentage_2015"
   ]
  },
  {
   "cell_type": "markdown",
   "metadata": {},
   "source": [
    "## 6) How many members does the average family with children in shelters have? How many children?"
   ]
  },
  {
   "cell_type": "code",
   "execution_count": 24,
   "metadata": {
    "collapsed": false
   },
   "outputs": [
    {
     "data": {
      "text/plain": [
       "3.5053227977015573"
      ]
     },
     "execution_count": 24,
     "metadata": {},
     "output_type": "execute_result"
    }
   ],
   "source": [
    "avg_members_families_2014 = data_2014['Total Individuals in Families with Children in Shelter '] / data_2014['Families with Children in Shelter']\n",
    "avg_members_families_2014.mean()"
   ]
  },
  {
   "cell_type": "code",
   "execution_count": 25,
   "metadata": {
    "collapsed": false
   },
   "outputs": [
    {
     "data": {
      "text/plain": [
       "3.4173154248174549"
      ]
     },
     "execution_count": 25,
     "metadata": {},
     "output_type": "execute_result"
    }
   ],
   "source": [
    "avg_members_families_2015 = data_2015['Total Individuals in Families with Children in Shelter '] / data_2015['Families with Children in Shelter']\n",
    "avg_members_families_2015.mean()"
   ]
  },
  {
   "cell_type": "code",
   "execution_count": 26,
   "metadata": {
    "collapsed": false
   },
   "outputs": [
    {
     "data": {
      "text/plain": [
       "2.0748192495885758"
      ]
     },
     "execution_count": 26,
     "metadata": {},
     "output_type": "execute_result"
    }
   ],
   "source": [
    "avg_children_families_2014 = data_2014['Children in Families with Children in Shelter'] / data_2014['Families with Children in Shelter']\n",
    "avg_children_families_2014.mean()"
   ]
  },
  {
   "cell_type": "code",
   "execution_count": 27,
   "metadata": {
    "collapsed": false
   },
   "outputs": [
    {
     "data": {
      "text/plain": [
       "1.990002225530572"
      ]
     },
     "execution_count": 27,
     "metadata": {},
     "output_type": "execute_result"
    }
   ],
   "source": [
    "avg_children_families_2015 = data_2015['Children in Families with Children in Shelter'] / data_2015['Families with Children in Shelter']\n",
    "avg_children_families_2015.mean()"
   ]
  },
  {
   "cell_type": "markdown",
   "metadata": {},
   "source": [
    "## 7) Are there peak periods?"
   ]
  },
  {
   "cell_type": "code",
   "execution_count": 28,
   "metadata": {
    "collapsed": false
   },
   "outputs": [
    {
     "data": {
      "text/plain": [
       "Month\n",
       "December     58744.645161\n",
       "November     58210.363636\n",
       "October      57153.043478\n",
       "September    55838.642857\n",
       "August       54834.483871\n",
       "July         54288.258065\n",
       "June         53601.538462\n",
       "May          53098.000000\n",
       "April        52681.400000\n",
       "February     52510.928571\n",
       "March        52234.466667\n",
       "January      51469.709677\n",
       "Name: Total Individuals in Shelter, dtype: float64"
      ]
     },
     "execution_count": 28,
     "metadata": {},
     "output_type": "execute_result"
    }
   ],
   "source": [
    "data_2014.groupby('Month')['Total Individuals in Shelter'].mean().sort_values(ascending=False)"
   ]
  },
  {
   "cell_type": "code",
   "execution_count": 29,
   "metadata": {
    "collapsed": false
   },
   "outputs": [
    {
     "data": {
      "text/plain": [
       "Month\n",
       "January      58530.843750\n",
       "December     57855.483871\n",
       "February     57801.888889\n",
       "November     57767.275862\n",
       "October      57345.741935\n",
       "March        57248.857143\n",
       "September    57063.774194\n",
       "April        56995.517241\n",
       "May          56633.888889\n",
       "August       56460.062500\n",
       "June         56213.870968\n",
       "July         55965.600000\n",
       "Name: Total Individuals in Shelter, dtype: float64"
      ]
     },
     "execution_count": 29,
     "metadata": {},
     "output_type": "execute_result"
    }
   ],
   "source": [
    "data_2015.groupby('Month')['Total Individuals in Shelter'].mean().sort_values(ascending=False)"
   ]
  },
  {
   "cell_type": "markdown",
   "metadata": {},
   "source": [
    "## 9) More families with children in certain months?"
   ]
  },
  {
   "cell_type": "code",
   "execution_count": 30,
   "metadata": {
    "collapsed": false
   },
   "outputs": [
    {
     "data": {
      "text/plain": [
       "Month\n",
       "December     12285.870968\n",
       "November     12165.515152\n",
       "October      11910.260870\n",
       "September    11604.928571\n",
       "August       11439.193548\n",
       "July         11361.000000\n",
       "June         11217.230769\n",
       "May          11079.419355\n",
       "April        10918.166667\n",
       "March        10787.600000\n",
       "February     10744.750000\n",
       "January      10610.806452\n",
       "Name: Families with Children in Shelter, dtype: float64"
      ]
     },
     "execution_count": 30,
     "metadata": {},
     "output_type": "execute_result"
    }
   ],
   "source": [
    "data_2014.groupby('Month')['Families with Children in Shelter'].mean().sort_values(ascending=False)"
   ]
  },
  {
   "cell_type": "code",
   "execution_count": 31,
   "metadata": {
    "collapsed": false
   },
   "outputs": [
    {
     "data": {
      "text/plain": [
       "Month\n",
       "January      12145.687500\n",
       "December     12143.870968\n",
       "November     12090.931034\n",
       "February     11979.629630\n",
       "October      11973.838710\n",
       "September    11913.258065\n",
       "March        11840.607143\n",
       "April        11749.758621\n",
       "August       11748.718750\n",
       "May          11716.037037\n",
       "June         11656.967742\n",
       "July         11630.666667\n",
       "Name: Families with Children in Shelter, dtype: float64"
      ]
     },
     "execution_count": 31,
     "metadata": {},
     "output_type": "execute_result"
    }
   ],
   "source": [
    "data_2015.groupby('Month')['Families with Children in Shelter'].mean().sort_values(ascending=False)"
   ]
  },
  {
   "cell_type": "markdown",
   "metadata": {},
   "source": [
    "## 10) How many families without children in shelters in average per year?"
   ]
  },
  {
   "cell_type": "code",
   "execution_count": 32,
   "metadata": {
    "collapsed": false
   },
   "outputs": [
    {
     "data": {
      "text/plain": [
       "1979.0339943342776"
      ]
     },
     "execution_count": 32,
     "metadata": {},
     "output_type": "execute_result"
    }
   ],
   "source": [
    "families_without_children_avg_2014 = data_2014['Adult Families in Shelter'].mean()\n",
    "families_without_children_avg_2014"
   ]
  },
  {
   "cell_type": "code",
   "execution_count": 33,
   "metadata": {
    "collapsed": false
   },
   "outputs": [
    {
     "data": {
      "text/plain": [
       "2153.5754189944132"
      ]
     },
     "execution_count": 33,
     "metadata": {},
     "output_type": "execute_result"
    }
   ],
   "source": [
    "families_without_children_avg_2015 = data_2015['Adult Families in Shelter'].mean()\n",
    "families_without_children_avg_2015"
   ]
  },
  {
   "cell_type": "markdown",
   "metadata": {},
   "source": [
    "## 11) % families requesting temporary housing / total families"
   ]
  },
  {
   "cell_type": "code",
   "execution_count": 34,
   "metadata": {
    "collapsed": false
   },
   "outputs": [
    {
     "data": {
      "text/plain": [
       "0.6689379797616215"
      ]
     },
     "execution_count": 34,
     "metadata": {},
     "output_type": "execute_result"
    }
   ],
   "source": [
    "percentage_families_2014 = data_2014['Families Requesting Temporary Housing at PATH'] / (data_2014['Families with Children in Shelter'] + data_2014['Adult Families in Shelter']) * 100\n",
    "percentage_families_2014.mean()"
   ]
  },
  {
   "cell_type": "code",
   "execution_count": 35,
   "metadata": {
    "collapsed": false
   },
   "outputs": [
    {
     "data": {
      "text/plain": [
       "0.73150930881145193"
      ]
     },
     "execution_count": 35,
     "metadata": {},
     "output_type": "execute_result"
    }
   ],
   "source": [
    "percentage_families_2015 = data_2015['Families Requesting Temporary Housing at PATH'] / (data_2015['Families with Children in Shelter'] + data_2015['Adult Families in Shelter']) * 100\n",
    "percentage_families_2015.mean()"
   ]
  },
  {
   "cell_type": "markdown",
   "metadata": {},
   "source": [
    "## 12) % families without children requesting temporary housing / total families without children"
   ]
  },
  {
   "cell_type": "code",
   "execution_count": 36,
   "metadata": {
    "collapsed": false
   },
   "outputs": [
    {
     "data": {
      "text/plain": [
       "0.70815036339316262"
      ]
     },
     "execution_count": 36,
     "metadata": {},
     "output_type": "execute_result"
    }
   ],
   "source": [
    "percentage_adult_families_2014 = data_2014['Adult Families Requesting Temporary Housing at AFIC'] / data_2014['Adult Families in Shelter'] * 100\n",
    "percentage_adult_families_2014.mean()"
   ]
  },
  {
   "cell_type": "code",
   "execution_count": 37,
   "metadata": {
    "collapsed": false
   },
   "outputs": [
    {
     "data": {
      "text/plain": [
       "0.71001728498391381"
      ]
     },
     "execution_count": 37,
     "metadata": {},
     "output_type": "execute_result"
    }
   ],
   "source": [
    "percentage_adult_families_2015 = data_2015['Adult Families Requesting Temporary Housing at AFIC'] / data_2015['Adult Families in Shelter'] * 100\n",
    "percentage_adult_families_2015.mean()"
   ]
  },
  {
   "cell_type": "markdown",
   "metadata": {},
   "source": [
    "## Graph 1: peak months during the year "
   ]
  },
  {
   "cell_type": "code",
   "execution_count": 38,
   "metadata": {
    "collapsed": false
   },
   "outputs": [
    {
     "data": {
      "text/plain": [
       "<matplotlib.axes._subplots.AxesSubplot at 0x108c7f390>"
      ]
     },
     "execution_count": 38,
     "metadata": {},
     "output_type": "execute_result"
    },
    {
     "data": {
      "image/png": "[encoded data removed]",
      "text/plain": [
       "<matplotlib.figure.Figure at 0x108d19048>"
      ]
     },
     "metadata": {},
     "output_type": "display_data"
    }
   ],
   "source": [
    "data_2014.groupby('Month')['Total Individuals in Shelter'].mean().sort_values(ascending=False).plot(kind='bar')"
   ]
  },
  {
   "cell_type": "code",
   "execution_count": 39,
   "metadata": {
    "collapsed": false
   },
   "outputs": [
    {
     "data": {
      "text/plain": [
       "<matplotlib.axes._subplots.AxesSubplot at 0x108bf5080>"
      ]
     },
     "execution_count": 39,
     "metadata": {},
     "output_type": "execute_result"
    },
    {
     "data": {
      "image/png": "[encoded data removed]",
      "text/plain": [
       "<matplotlib.figure.Figure at 0x108c631d0>"
      ]
     },
     "metadata": {},
     "output_type": "display_data"
    }
   ],
   "source": [
    "data_2015.groupby('Month')['Total Individuals in Shelter'].mean().sort_values(ascending=False).plot(kind='bar')"
   ]
  },
  {
   "cell_type": "markdown",
   "metadata": {},
   "source": [
    "## Graph 2: % men vs. % women in shelters"
   ]
  },
  {
   "cell_type": "code",
   "execution_count": 56,
   "metadata": {
    "collapsed": false
   },
   "outputs": [
    {
     "data": {
      "text/html": [
       "<div>\n",
       "<table border=\"1\" class=\"dataframe\">\n",
       "  <thead>\n",
       "    <tr style=\"text-align: right;\">\n",
       "      <th></th>\n",
       "      <th>Year</th>\n",
       "      <th>% men in shelters</th>\n",
       "      <th>% women in shelters</th>\n",
       "    </tr>\n",
       "  </thead>\n",
       "  <tbody>\n",
       "    <tr>\n",
       "      <th>0</th>\n",
       "      <td>2014</td>\n",
       "      <td>73</td>\n",
       "      <td>27</td>\n",
       "    </tr>\n",
       "    <tr>\n",
       "      <th>1</th>\n",
       "      <td>2015</td>\n",
       "      <td>72</td>\n",
       "      <td>28</td>\n",
       "    </tr>\n",
       "  </tbody>\n",
       "</table>\n",
       "</div>"
      ],
      "text/plain": [
       "   Year  % men in shelters  % women in shelters\n",
       "0  2014                 73                   27\n",
       "1  2015                 72                   28"
      ]
     },
     "execution_count": 56,
     "metadata": {},
     "output_type": "execute_result"
    }
   ],
   "source": [
    "percentages = pd.DataFrame.from_items([('Year', [2014, 2015]), ('% men in shelters', [73,72]), ('% women in shelters', [27,28])])\n",
    "percentages"
   ]
  },
  {
   "cell_type": "code",
   "execution_count": 41,
   "metadata": {
    "collapsed": false
   },
   "outputs": [
    {
     "data": {
      "text/plain": [
       "<matplotlib.axes._subplots.AxesSubplot at 0x108ef8080>"
      ]
     },
     "execution_count": 41,
     "metadata": {},
     "output_type": "execute_result"
    },
    {
     "data": {
      "image/png": "[encoded data removed]",
      "text/plain": [
       "<matplotlib.figure.Figure at 0x109120630>"
      ]
     },
     "metadata": {},
     "output_type": "display_data"
    }
   ],
   "source": [
    "df.groupby('Year')['Total Children in Shelter'].mean().sort_values(ascending=False).plot(kind='bar')"
   ]
  }
 ],
 "metadata": {
  "kernelspec": {
   "display_name": "Python 3",
   "language": "python",
   "name": "python3"
  },
  "language_info": {
   "codemirror_mode": {
    "name": "ipython",
    "version": 3
   },
   "file_extension": ".py",
   "mimetype": "text/x-python",
   "name": "python",
   "nbconvert_exporter": "python",
   "pygments_lexer": "ipython3",
   "version": "3.5.1"
  }
 },
 "nbformat": 4,
 "nbformat_minor": 0
}
