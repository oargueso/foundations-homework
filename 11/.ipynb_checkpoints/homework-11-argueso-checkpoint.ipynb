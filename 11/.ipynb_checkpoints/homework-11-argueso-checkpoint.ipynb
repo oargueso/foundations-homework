{
 "cells": [
  {
   "cell_type": "code",
   "execution_count": 10,
   "metadata": {
    "collapsed": false
   },
   "outputs": [],
   "source": [
    "import pandas as pd"
   ]
  },
  {
   "cell_type": "code",
   "execution_count": 11,
   "metadata": {
    "collapsed": true
   },
   "outputs": [],
   "source": [
    "!head -n 1000 violations.csv > small-violations.csv"
   ]
  },
  {
   "cell_type": "markdown",
   "metadata": {},
   "source": [
    "## 1) I want to make sure my Plate ID is a string. Can't lose the leading zeroes!"
   ]
  },
  {
   "cell_type": "code",
   "execution_count": 12,
   "metadata": {
    "collapsed": false
   },
   "outputs": [],
   "source": [
    "col_types = {'Plate ID': 'str'}\n",
    "df = pd.read_csv(\"small-violations.csv\", dtype=col_types)"
   ]
  },
  {
   "cell_type": "code",
   "execution_count": 13,
   "metadata": {
    "collapsed": false
   },
   "outputs": [
    {
     "data": {
      "text/html": [
       "<div>\n",
       "<table border=\"1\" class=\"dataframe\">\n",
       "  <thead>\n",
       "    <tr style=\"text-align: right;\">\n",
       "      <th></th>\n",
       "      <th>Summons Number</th>\n",
       "      <th>Plate ID</th>\n",
       "      <th>Registration State</th>\n",
       "      <th>Plate Type</th>\n",
       "      <th>Issue Date</th>\n",
       "      <th>Violation Code</th>\n",
       "      <th>Vehicle Body Type</th>\n",
       "      <th>Vehicle Make</th>\n",
       "      <th>Issuing Agency</th>\n",
       "      <th>Street Code1</th>\n",
       "      <th>...</th>\n",
       "      <th>Vehicle Color</th>\n",
       "      <th>Unregistered Vehicle?</th>\n",
       "      <th>Vehicle Year</th>\n",
       "      <th>Meter Number</th>\n",
       "      <th>Feet From Curb</th>\n",
       "      <th>Violation Post Code</th>\n",
       "      <th>Violation Description</th>\n",
       "      <th>No Standing or Stopping Violation</th>\n",
       "      <th>Hydrant Violation</th>\n",
       "      <th>Double Parking Violation</th>\n",
       "    </tr>\n",
       "  </thead>\n",
       "  <tbody>\n",
       "    <tr>\n",
       "      <th>0</th>\n",
       "      <td>1283294138</td>\n",
       "      <td>GBB9093</td>\n",
       "      <td>NY</td>\n",
       "      <td>PAS</td>\n",
       "      <td>08/04/2013</td>\n",
       "      <td>46</td>\n",
       "      <td>SUBN</td>\n",
       "      <td>AUDI</td>\n",
       "      <td>P</td>\n",
       "      <td>37250</td>\n",
       "      <td>...</td>\n",
       "      <td>GY</td>\n",
       "      <td>0</td>\n",
       "      <td>2013</td>\n",
       "      <td>-</td>\n",
       "      <td>0</td>\n",
       "      <td>NaN</td>\n",
       "      <td>NaN</td>\n",
       "      <td>NaN</td>\n",
       "      <td>NaN</td>\n",
       "      <td>NaN</td>\n",
       "    </tr>\n",
       "    <tr>\n",
       "      <th>1</th>\n",
       "      <td>1283294151</td>\n",
       "      <td>62416MB</td>\n",
       "      <td>NY</td>\n",
       "      <td>COM</td>\n",
       "      <td>08/04/2013</td>\n",
       "      <td>46</td>\n",
       "      <td>VAN</td>\n",
       "      <td>FORD</td>\n",
       "      <td>P</td>\n",
       "      <td>37290</td>\n",
       "      <td>...</td>\n",
       "      <td>WH</td>\n",
       "      <td>0</td>\n",
       "      <td>2012</td>\n",
       "      <td>-</td>\n",
       "      <td>0</td>\n",
       "      <td>NaN</td>\n",
       "      <td>NaN</td>\n",
       "      <td>NaN</td>\n",
       "      <td>NaN</td>\n",
       "      <td>NaN</td>\n",
       "    </tr>\n",
       "    <tr>\n",
       "      <th>2</th>\n",
       "      <td>1283294163</td>\n",
       "      <td>78755JZ</td>\n",
       "      <td>NY</td>\n",
       "      <td>COM</td>\n",
       "      <td>08/05/2013</td>\n",
       "      <td>46</td>\n",
       "      <td>P-U</td>\n",
       "      <td>CHEVR</td>\n",
       "      <td>P</td>\n",
       "      <td>37030</td>\n",
       "      <td>...</td>\n",
       "      <td>NaN</td>\n",
       "      <td>0</td>\n",
       "      <td>0</td>\n",
       "      <td>-</td>\n",
       "      <td>0</td>\n",
       "      <td>NaN</td>\n",
       "      <td>NaN</td>\n",
       "      <td>NaN</td>\n",
       "      <td>NaN</td>\n",
       "      <td>NaN</td>\n",
       "    </tr>\n",
       "    <tr>\n",
       "      <th>3</th>\n",
       "      <td>1283294175</td>\n",
       "      <td>63009MA</td>\n",
       "      <td>NY</td>\n",
       "      <td>COM</td>\n",
       "      <td>08/05/2013</td>\n",
       "      <td>46</td>\n",
       "      <td>VAN</td>\n",
       "      <td>FORD</td>\n",
       "      <td>P</td>\n",
       "      <td>37270</td>\n",
       "      <td>...</td>\n",
       "      <td>WH</td>\n",
       "      <td>0</td>\n",
       "      <td>2010</td>\n",
       "      <td>-</td>\n",
       "      <td>0</td>\n",
       "      <td>NaN</td>\n",
       "      <td>NaN</td>\n",
       "      <td>NaN</td>\n",
       "      <td>NaN</td>\n",
       "      <td>NaN</td>\n",
       "    </tr>\n",
       "    <tr>\n",
       "      <th>4</th>\n",
       "      <td>1283294187</td>\n",
       "      <td>91648MC</td>\n",
       "      <td>NY</td>\n",
       "      <td>COM</td>\n",
       "      <td>08/08/2013</td>\n",
       "      <td>41</td>\n",
       "      <td>TRLR</td>\n",
       "      <td>GMC</td>\n",
       "      <td>P</td>\n",
       "      <td>37240</td>\n",
       "      <td>...</td>\n",
       "      <td>BR</td>\n",
       "      <td>0</td>\n",
       "      <td>2012</td>\n",
       "      <td>-</td>\n",
       "      <td>0</td>\n",
       "      <td>NaN</td>\n",
       "      <td>NaN</td>\n",
       "      <td>NaN</td>\n",
       "      <td>NaN</td>\n",
       "      <td>NaN</td>\n",
       "    </tr>\n",
       "  </tbody>\n",
       "</table>\n",
       "<p>5 rows × 43 columns</p>\n",
       "</div>"
      ],
      "text/plain": [
       "   Summons Number Plate ID Registration State Plate Type  Issue Date  \\\n",
       "0      1283294138  GBB9093                 NY        PAS  08/04/2013   \n",
       "1      1283294151  62416MB                 NY        COM  08/04/2013   \n",
       "2      1283294163  78755JZ                 NY        COM  08/05/2013   \n",
       "3      1283294175  63009MA                 NY        COM  08/05/2013   \n",
       "4      1283294187  91648MC                 NY        COM  08/08/2013   \n",
       "\n",
       "   Violation Code Vehicle Body Type Vehicle Make Issuing Agency  Street Code1  \\\n",
       "0              46              SUBN         AUDI              P         37250   \n",
       "1              46               VAN         FORD              P         37290   \n",
       "2              46               P-U        CHEVR              P         37030   \n",
       "3              46               VAN         FORD              P         37270   \n",
       "4              41              TRLR          GMC              P         37240   \n",
       "\n",
       "            ...             Vehicle Color  Unregistered Vehicle?  \\\n",
       "0           ...                        GY                      0   \n",
       "1           ...                        WH                      0   \n",
       "2           ...                       NaN                      0   \n",
       "3           ...                        WH                      0   \n",
       "4           ...                        BR                      0   \n",
       "\n",
       "   Vehicle Year  Meter Number  Feet From Curb  Violation Post Code  \\\n",
       "0          2013             -               0                  NaN   \n",
       "1          2012             -               0                  NaN   \n",
       "2             0             -               0                  NaN   \n",
       "3          2010             -               0                  NaN   \n",
       "4          2012             -               0                  NaN   \n",
       "\n",
       "   Violation Description No Standing or Stopping Violation  Hydrant Violation  \\\n",
       "0                    NaN                               NaN                NaN   \n",
       "1                    NaN                               NaN                NaN   \n",
       "2                    NaN                               NaN                NaN   \n",
       "3                    NaN                               NaN                NaN   \n",
       "4                    NaN                               NaN                NaN   \n",
       "\n",
       "  Double Parking Violation  \n",
       "0                      NaN  \n",
       "1                      NaN  \n",
       "2                      NaN  \n",
       "3                      NaN  \n",
       "4                      NaN  \n",
       "\n",
       "[5 rows x 43 columns]"
      ]
     },
     "execution_count": 13,
     "metadata": {},
     "output_type": "execute_result"
    }
   ],
   "source": [
    "df.head()"
   ]
  },
  {
   "cell_type": "markdown",
   "metadata": {},
   "source": [
    "## 2) I don't think anyone's car was built in 0AD. Discard the '0's as NaN."
   ]
  },
  {
   "cell_type": "code",
   "execution_count": 14,
   "metadata": {
    "collapsed": false
   },
   "outputs": [
    {
     "data": {
      "text/html": [
       "<div>\n",
       "<table border=\"1\" class=\"dataframe\">\n",
       "  <thead>\n",
       "    <tr style=\"text-align: right;\">\n",
       "      <th></th>\n",
       "      <th>Summons Number</th>\n",
       "      <th>Plate ID</th>\n",
       "      <th>Registration State</th>\n",
       "      <th>Plate Type</th>\n",
       "      <th>Issue Date</th>\n",
       "      <th>Violation Code</th>\n",
       "      <th>Vehicle Body Type</th>\n",
       "      <th>Vehicle Make</th>\n",
       "      <th>Issuing Agency</th>\n",
       "      <th>Street Code1</th>\n",
       "      <th>...</th>\n",
       "      <th>Vehicle Color</th>\n",
       "      <th>Unregistered Vehicle?</th>\n",
       "      <th>Vehicle Year</th>\n",
       "      <th>Meter Number</th>\n",
       "      <th>Feet From Curb</th>\n",
       "      <th>Violation Post Code</th>\n",
       "      <th>Violation Description</th>\n",
       "      <th>No Standing or Stopping Violation</th>\n",
       "      <th>Hydrant Violation</th>\n",
       "      <th>Double Parking Violation</th>\n",
       "    </tr>\n",
       "  </thead>\n",
       "  <tbody>\n",
       "    <tr>\n",
       "      <th>0</th>\n",
       "      <td>1283294138</td>\n",
       "      <td>GBB9093</td>\n",
       "      <td>NY</td>\n",
       "      <td>PAS</td>\n",
       "      <td>08/04/2013</td>\n",
       "      <td>46</td>\n",
       "      <td>SUBN</td>\n",
       "      <td>AUDI</td>\n",
       "      <td>P</td>\n",
       "      <td>37250</td>\n",
       "      <td>...</td>\n",
       "      <td>GY</td>\n",
       "      <td>0</td>\n",
       "      <td>2013.0</td>\n",
       "      <td>-</td>\n",
       "      <td>0</td>\n",
       "      <td>NaN</td>\n",
       "      <td>NaN</td>\n",
       "      <td>NaN</td>\n",
       "      <td>NaN</td>\n",
       "      <td>NaN</td>\n",
       "    </tr>\n",
       "    <tr>\n",
       "      <th>1</th>\n",
       "      <td>1283294151</td>\n",
       "      <td>62416MB</td>\n",
       "      <td>NY</td>\n",
       "      <td>COM</td>\n",
       "      <td>08/04/2013</td>\n",
       "      <td>46</td>\n",
       "      <td>VAN</td>\n",
       "      <td>FORD</td>\n",
       "      <td>P</td>\n",
       "      <td>37290</td>\n",
       "      <td>...</td>\n",
       "      <td>WH</td>\n",
       "      <td>0</td>\n",
       "      <td>2012.0</td>\n",
       "      <td>-</td>\n",
       "      <td>0</td>\n",
       "      <td>NaN</td>\n",
       "      <td>NaN</td>\n",
       "      <td>NaN</td>\n",
       "      <td>NaN</td>\n",
       "      <td>NaN</td>\n",
       "    </tr>\n",
       "    <tr>\n",
       "      <th>2</th>\n",
       "      <td>1283294163</td>\n",
       "      <td>78755JZ</td>\n",
       "      <td>NY</td>\n",
       "      <td>COM</td>\n",
       "      <td>08/05/2013</td>\n",
       "      <td>46</td>\n",
       "      <td>P-U</td>\n",
       "      <td>CHEVR</td>\n",
       "      <td>P</td>\n",
       "      <td>37030</td>\n",
       "      <td>...</td>\n",
       "      <td>NaN</td>\n",
       "      <td>0</td>\n",
       "      <td>NaN</td>\n",
       "      <td>-</td>\n",
       "      <td>0</td>\n",
       "      <td>NaN</td>\n",
       "      <td>NaN</td>\n",
       "      <td>NaN</td>\n",
       "      <td>NaN</td>\n",
       "      <td>NaN</td>\n",
       "    </tr>\n",
       "    <tr>\n",
       "      <th>3</th>\n",
       "      <td>1283294175</td>\n",
       "      <td>63009MA</td>\n",
       "      <td>NY</td>\n",
       "      <td>COM</td>\n",
       "      <td>08/05/2013</td>\n",
       "      <td>46</td>\n",
       "      <td>VAN</td>\n",
       "      <td>FORD</td>\n",
       "      <td>P</td>\n",
       "      <td>37270</td>\n",
       "      <td>...</td>\n",
       "      <td>WH</td>\n",
       "      <td>0</td>\n",
       "      <td>2010.0</td>\n",
       "      <td>-</td>\n",
       "      <td>0</td>\n",
       "      <td>NaN</td>\n",
       "      <td>NaN</td>\n",
       "      <td>NaN</td>\n",
       "      <td>NaN</td>\n",
       "      <td>NaN</td>\n",
       "    </tr>\n",
       "    <tr>\n",
       "      <th>4</th>\n",
       "      <td>1283294187</td>\n",
       "      <td>91648MC</td>\n",
       "      <td>NY</td>\n",
       "      <td>COM</td>\n",
       "      <td>08/08/2013</td>\n",
       "      <td>41</td>\n",
       "      <td>TRLR</td>\n",
       "      <td>GMC</td>\n",
       "      <td>P</td>\n",
       "      <td>37240</td>\n",
       "      <td>...</td>\n",
       "      <td>BR</td>\n",
       "      <td>0</td>\n",
       "      <td>2012.0</td>\n",
       "      <td>-</td>\n",
       "      <td>0</td>\n",
       "      <td>NaN</td>\n",
       "      <td>NaN</td>\n",
       "      <td>NaN</td>\n",
       "      <td>NaN</td>\n",
       "      <td>NaN</td>\n",
       "    </tr>\n",
       "  </tbody>\n",
       "</table>\n",
       "<p>5 rows × 43 columns</p>\n",
       "</div>"
      ],
      "text/plain": [
       "   Summons Number Plate ID Registration State Plate Type  Issue Date  \\\n",
       "0      1283294138  GBB9093                 NY        PAS  08/04/2013   \n",
       "1      1283294151  62416MB                 NY        COM  08/04/2013   \n",
       "2      1283294163  78755JZ                 NY        COM  08/05/2013   \n",
       "3      1283294175  63009MA                 NY        COM  08/05/2013   \n",
       "4      1283294187  91648MC                 NY        COM  08/08/2013   \n",
       "\n",
       "   Violation Code Vehicle Body Type Vehicle Make Issuing Agency  Street Code1  \\\n",
       "0              46              SUBN         AUDI              P         37250   \n",
       "1              46               VAN         FORD              P         37290   \n",
       "2              46               P-U        CHEVR              P         37030   \n",
       "3              46               VAN         FORD              P         37270   \n",
       "4              41              TRLR          GMC              P         37240   \n",
       "\n",
       "            ...             Vehicle Color  Unregistered Vehicle?  \\\n",
       "0           ...                        GY                      0   \n",
       "1           ...                        WH                      0   \n",
       "2           ...                       NaN                      0   \n",
       "3           ...                        WH                      0   \n",
       "4           ...                        BR                      0   \n",
       "\n",
       "   Vehicle Year  Meter Number  Feet From Curb  Violation Post Code  \\\n",
       "0        2013.0             -               0                  NaN   \n",
       "1        2012.0             -               0                  NaN   \n",
       "2           NaN             -               0                  NaN   \n",
       "3        2010.0             -               0                  NaN   \n",
       "4        2012.0             -               0                  NaN   \n",
       "\n",
       "   Violation Description No Standing or Stopping Violation  Hydrant Violation  \\\n",
       "0                    NaN                               NaN                NaN   \n",
       "1                    NaN                               NaN                NaN   \n",
       "2                    NaN                               NaN                NaN   \n",
       "3                    NaN                               NaN                NaN   \n",
       "4                    NaN                               NaN                NaN   \n",
       "\n",
       "  Double Parking Violation  \n",
       "0                      NaN  \n",
       "1                      NaN  \n",
       "2                      NaN  \n",
       "3                      NaN  \n",
       "4                      NaN  \n",
       "\n",
       "[5 rows x 43 columns]"
      ]
     },
     "execution_count": 14,
     "metadata": {},
     "output_type": "execute_result"
    }
   ],
   "source": [
    "col_types = {'Plate ID': 'str'}\n",
    "df = pd.read_csv(\"small-violations.csv\", dtype=col_types, na_values={'Vehicle Year': '0', 'Date First Observed': '0'})\n",
    "df.head()"
   ]
  },
  {
   "cell_type": "markdown",
   "metadata": {
    "collapsed": true
   },
   "source": [
    "## 3) I want the dates to be dates! Read the read_csv documentation to find out how to make pandas automatically parse dates."
   ]
  },
  {
   "cell_type": "code",
   "execution_count": 15,
   "metadata": {
    "collapsed": false
   },
   "outputs": [],
   "source": [
    "import dateutil\n",
    "def date_to_date(date):\n",
    "        date = str(date)\n",
    "        clean_date = dateutil.parser.parse(date)\n",
    "        return clean_date"
   ]
  },
  {
   "cell_type": "code",
   "execution_count": 16,
   "metadata": {
    "collapsed": false
   },
   "outputs": [
    {
     "data": {
      "text/plain": [
       "Index(['Summons Number', 'Plate ID', 'Registration State', 'Plate Type',\n",
       "       'Issue Date', 'Violation Code', 'Vehicle Body Type', 'Vehicle Make',\n",
       "       'Issuing Agency', 'Street Code1', 'Street Code2', 'Street Code3',\n",
       "       'Vehicle Expiration Date', 'Violation Location', 'Violation Precinct',\n",
       "       'Issuer Precinct', 'Issuer Code', 'Issuer Command', 'Issuer Squad',\n",
       "       'Violation Time', 'Time First Observed', 'Violation County',\n",
       "       'Violation In Front Of Or Opposite', 'House Number', 'Street Name',\n",
       "       'Intersecting Street', 'Date First Observed', 'Law Section',\n",
       "       'Sub Division', 'Violation Legal Code', 'Days Parking In Effect    ',\n",
       "       'From Hours In Effect', 'To Hours In Effect', 'Vehicle Color',\n",
       "       'Unregistered Vehicle?', 'Vehicle Year', 'Meter Number',\n",
       "       'Feet From Curb', 'Violation Post Code', 'Violation Description',\n",
       "       'No Standing or Stopping Violation', 'Hydrant Violation',\n",
       "       'Double Parking Violation'],\n",
       "      dtype='object')"
      ]
     },
     "execution_count": 16,
     "metadata": {},
     "output_type": "execute_result"
    }
   ],
   "source": [
    "df.columns"
   ]
  },
  {
   "cell_type": "code",
   "execution_count": 17,
   "metadata": {
    "collapsed": false
   },
   "outputs": [],
   "source": [
    "df['New Issue Date']= df['Issue Date'].apply(date_to_date)"
   ]
  },
  {
   "cell_type": "code",
   "execution_count": 18,
   "metadata": {
    "collapsed": true
   },
   "outputs": [],
   "source": [
    "import datetime\n",
    "def convert_to_time(time):\n",
    "    try:\n",
    "        str_time = str(time)\n",
    "        return datetime.datetime.strptime(str_time, \"%Y%m%d\")\n",
    "    except:\n",
    "        return None"
   ]
  },
  {
   "cell_type": "code",
   "execution_count": 19,
   "metadata": {
    "collapsed": false
   },
   "outputs": [
    {
     "data": {
      "text/html": [
       "<div>\n",
       "<table border=\"1\" class=\"dataframe\">\n",
       "  <thead>\n",
       "    <tr style=\"text-align: right;\">\n",
       "      <th></th>\n",
       "      <th>Summons Number</th>\n",
       "      <th>Plate ID</th>\n",
       "      <th>Registration State</th>\n",
       "      <th>Plate Type</th>\n",
       "      <th>Issue Date</th>\n",
       "      <th>Violation Code</th>\n",
       "      <th>Vehicle Body Type</th>\n",
       "      <th>Vehicle Make</th>\n",
       "      <th>Issuing Agency</th>\n",
       "      <th>Street Code1</th>\n",
       "      <th>...</th>\n",
       "      <th>Unregistered Vehicle?</th>\n",
       "      <th>Vehicle Year</th>\n",
       "      <th>Meter Number</th>\n",
       "      <th>Feet From Curb</th>\n",
       "      <th>Violation Post Code</th>\n",
       "      <th>Violation Description</th>\n",
       "      <th>No Standing or Stopping Violation</th>\n",
       "      <th>Hydrant Violation</th>\n",
       "      <th>Double Parking Violation</th>\n",
       "      <th>New Issue Date</th>\n",
       "    </tr>\n",
       "  </thead>\n",
       "  <tbody>\n",
       "    <tr>\n",
       "      <th>0</th>\n",
       "      <td>1283294138</td>\n",
       "      <td>GBB9093</td>\n",
       "      <td>NY</td>\n",
       "      <td>PAS</td>\n",
       "      <td>08/04/2013</td>\n",
       "      <td>46</td>\n",
       "      <td>SUBN</td>\n",
       "      <td>AUDI</td>\n",
       "      <td>P</td>\n",
       "      <td>37250</td>\n",
       "      <td>...</td>\n",
       "      <td>0</td>\n",
       "      <td>2013.0</td>\n",
       "      <td>-</td>\n",
       "      <td>0</td>\n",
       "      <td>NaN</td>\n",
       "      <td>NaN</td>\n",
       "      <td>NaN</td>\n",
       "      <td>NaN</td>\n",
       "      <td>NaN</td>\n",
       "      <td>2013-08-04</td>\n",
       "    </tr>\n",
       "    <tr>\n",
       "      <th>1</th>\n",
       "      <td>1283294151</td>\n",
       "      <td>62416MB</td>\n",
       "      <td>NY</td>\n",
       "      <td>COM</td>\n",
       "      <td>08/04/2013</td>\n",
       "      <td>46</td>\n",
       "      <td>VAN</td>\n",
       "      <td>FORD</td>\n",
       "      <td>P</td>\n",
       "      <td>37290</td>\n",
       "      <td>...</td>\n",
       "      <td>0</td>\n",
       "      <td>2012.0</td>\n",
       "      <td>-</td>\n",
       "      <td>0</td>\n",
       "      <td>NaN</td>\n",
       "      <td>NaN</td>\n",
       "      <td>NaN</td>\n",
       "      <td>NaN</td>\n",
       "      <td>NaN</td>\n",
       "      <td>2013-08-04</td>\n",
       "    </tr>\n",
       "    <tr>\n",
       "      <th>2</th>\n",
       "      <td>1283294163</td>\n",
       "      <td>78755JZ</td>\n",
       "      <td>NY</td>\n",
       "      <td>COM</td>\n",
       "      <td>08/05/2013</td>\n",
       "      <td>46</td>\n",
       "      <td>P-U</td>\n",
       "      <td>CHEVR</td>\n",
       "      <td>P</td>\n",
       "      <td>37030</td>\n",
       "      <td>...</td>\n",
       "      <td>0</td>\n",
       "      <td>NaN</td>\n",
       "      <td>-</td>\n",
       "      <td>0</td>\n",
       "      <td>NaN</td>\n",
       "      <td>NaN</td>\n",
       "      <td>NaN</td>\n",
       "      <td>NaN</td>\n",
       "      <td>NaN</td>\n",
       "      <td>2013-08-05</td>\n",
       "    </tr>\n",
       "    <tr>\n",
       "      <th>3</th>\n",
       "      <td>1283294175</td>\n",
       "      <td>63009MA</td>\n",
       "      <td>NY</td>\n",
       "      <td>COM</td>\n",
       "      <td>08/05/2013</td>\n",
       "      <td>46</td>\n",
       "      <td>VAN</td>\n",
       "      <td>FORD</td>\n",
       "      <td>P</td>\n",
       "      <td>37270</td>\n",
       "      <td>...</td>\n",
       "      <td>0</td>\n",
       "      <td>2010.0</td>\n",
       "      <td>-</td>\n",
       "      <td>0</td>\n",
       "      <td>NaN</td>\n",
       "      <td>NaN</td>\n",
       "      <td>NaN</td>\n",
       "      <td>NaN</td>\n",
       "      <td>NaN</td>\n",
       "      <td>2013-08-05</td>\n",
       "    </tr>\n",
       "    <tr>\n",
       "      <th>6</th>\n",
       "      <td>1283294229</td>\n",
       "      <td>GCR2838</td>\n",
       "      <td>NY</td>\n",
       "      <td>PAS</td>\n",
       "      <td>08/11/2013</td>\n",
       "      <td>14</td>\n",
       "      <td>VAN</td>\n",
       "      <td>NaN</td>\n",
       "      <td>P</td>\n",
       "      <td>37250</td>\n",
       "      <td>...</td>\n",
       "      <td>0</td>\n",
       "      <td>2011.0</td>\n",
       "      <td>-</td>\n",
       "      <td>0</td>\n",
       "      <td>NaN</td>\n",
       "      <td>NaN</td>\n",
       "      <td>NaN</td>\n",
       "      <td>NaN</td>\n",
       "      <td>NaN</td>\n",
       "      <td>2013-08-11</td>\n",
       "    </tr>\n",
       "  </tbody>\n",
       "</table>\n",
       "<p>5 rows × 44 columns</p>\n",
       "</div>"
      ],
      "text/plain": [
       "   Summons Number Plate ID Registration State Plate Type  Issue Date  \\\n",
       "0      1283294138  GBB9093                 NY        PAS  08/04/2013   \n",
       "1      1283294151  62416MB                 NY        COM  08/04/2013   \n",
       "2      1283294163  78755JZ                 NY        COM  08/05/2013   \n",
       "3      1283294175  63009MA                 NY        COM  08/05/2013   \n",
       "6      1283294229  GCR2838                 NY        PAS  08/11/2013   \n",
       "\n",
       "   Violation Code Vehicle Body Type Vehicle Make Issuing Agency  Street Code1  \\\n",
       "0              46              SUBN         AUDI              P         37250   \n",
       "1              46               VAN         FORD              P         37290   \n",
       "2              46               P-U        CHEVR              P         37030   \n",
       "3              46               VAN         FORD              P         37270   \n",
       "6              14               VAN          NaN              P         37250   \n",
       "\n",
       "       ...        Unregistered Vehicle?  Vehicle Year  Meter Number  \\\n",
       "0      ...                            0        2013.0             -   \n",
       "1      ...                            0        2012.0             -   \n",
       "2      ...                            0           NaN             -   \n",
       "3      ...                            0        2010.0             -   \n",
       "6      ...                            0        2011.0             -   \n",
       "\n",
       "   Feet From Curb  Violation Post Code  Violation Description  \\\n",
       "0               0                  NaN                    NaN   \n",
       "1               0                  NaN                    NaN   \n",
       "2               0                  NaN                    NaN   \n",
       "3               0                  NaN                    NaN   \n",
       "6               0                  NaN                    NaN   \n",
       "\n",
       "   No Standing or Stopping Violation Hydrant Violation  \\\n",
       "0                                NaN               NaN   \n",
       "1                                NaN               NaN   \n",
       "2                                NaN               NaN   \n",
       "3                                NaN               NaN   \n",
       "6                                NaN               NaN   \n",
       "\n",
       "   Double Parking Violation New Issue Date  \n",
       "0                       NaN     2013-08-04  \n",
       "1                       NaN     2013-08-04  \n",
       "2                       NaN     2013-08-05  \n",
       "3                       NaN     2013-08-05  \n",
       "6                       NaN     2013-08-11  \n",
       "\n",
       "[5 rows x 44 columns]"
      ]
     },
     "execution_count": 19,
     "metadata": {},
     "output_type": "execute_result"
    }
   ],
   "source": [
    "new_df = df[df['Vehicle Expiration Date'] != 0]\n",
    "new_df.head()"
   ]
  },
  {
   "cell_type": "code",
   "execution_count": 20,
   "metadata": {
    "collapsed": false
   },
   "outputs": [
    {
     "name": "stderr",
     "output_type": "stream",
     "text": [
      "/Users/olayaargueso/.virtualenvs/data-analysis/lib/python3.5/site-packages/ipykernel/__main__.py:1: SettingWithCopyWarning: \n",
      "A value is trying to be set on a copy of a slice from a DataFrame.\n",
      "Try using .loc[row_indexer,col_indexer] = value instead\n",
      "\n",
      "See the caveats in the documentation: http://pandas.pydata.org/pandas-docs/stable/indexing.html#indexing-view-versus-copy\n",
      "  if __name__ == '__main__':\n"
     ]
    }
   ],
   "source": [
    "new_df['New Vehicle Expiration Date']= new_df['Vehicle Expiration Date'].apply(convert_to_time)"
   ]
  },
  {
   "cell_type": "code",
   "execution_count": 21,
   "metadata": {
    "collapsed": false
   },
   "outputs": [
    {
     "data": {
      "text/html": [
       "<div>\n",
       "<table border=\"1\" class=\"dataframe\">\n",
       "  <thead>\n",
       "    <tr style=\"text-align: right;\">\n",
       "      <th></th>\n",
       "      <th>Summons Number</th>\n",
       "      <th>Plate ID</th>\n",
       "      <th>Registration State</th>\n",
       "      <th>Plate Type</th>\n",
       "      <th>Issue Date</th>\n",
       "      <th>Violation Code</th>\n",
       "      <th>Vehicle Body Type</th>\n",
       "      <th>Vehicle Make</th>\n",
       "      <th>Issuing Agency</th>\n",
       "      <th>Street Code1</th>\n",
       "      <th>...</th>\n",
       "      <th>Vehicle Year</th>\n",
       "      <th>Meter Number</th>\n",
       "      <th>Feet From Curb</th>\n",
       "      <th>Violation Post Code</th>\n",
       "      <th>Violation Description</th>\n",
       "      <th>No Standing or Stopping Violation</th>\n",
       "      <th>Hydrant Violation</th>\n",
       "      <th>Double Parking Violation</th>\n",
       "      <th>New Issue Date</th>\n",
       "      <th>New Vehicle Expiration Date</th>\n",
       "    </tr>\n",
       "  </thead>\n",
       "  <tbody>\n",
       "    <tr>\n",
       "      <th>0</th>\n",
       "      <td>1283294138</td>\n",
       "      <td>GBB9093</td>\n",
       "      <td>NY</td>\n",
       "      <td>PAS</td>\n",
       "      <td>08/04/2013</td>\n",
       "      <td>46</td>\n",
       "      <td>SUBN</td>\n",
       "      <td>AUDI</td>\n",
       "      <td>P</td>\n",
       "      <td>37250</td>\n",
       "      <td>...</td>\n",
       "      <td>2013.0</td>\n",
       "      <td>-</td>\n",
       "      <td>0</td>\n",
       "      <td>NaN</td>\n",
       "      <td>NaN</td>\n",
       "      <td>NaN</td>\n",
       "      <td>NaN</td>\n",
       "      <td>NaN</td>\n",
       "      <td>2013-08-04</td>\n",
       "      <td>2014-08-31</td>\n",
       "    </tr>\n",
       "    <tr>\n",
       "      <th>1</th>\n",
       "      <td>1283294151</td>\n",
       "      <td>62416MB</td>\n",
       "      <td>NY</td>\n",
       "      <td>COM</td>\n",
       "      <td>08/04/2013</td>\n",
       "      <td>46</td>\n",
       "      <td>VAN</td>\n",
       "      <td>FORD</td>\n",
       "      <td>P</td>\n",
       "      <td>37290</td>\n",
       "      <td>...</td>\n",
       "      <td>2012.0</td>\n",
       "      <td>-</td>\n",
       "      <td>0</td>\n",
       "      <td>NaN</td>\n",
       "      <td>NaN</td>\n",
       "      <td>NaN</td>\n",
       "      <td>NaN</td>\n",
       "      <td>NaN</td>\n",
       "      <td>2013-08-04</td>\n",
       "      <td>2014-04-30</td>\n",
       "    </tr>\n",
       "    <tr>\n",
       "      <th>2</th>\n",
       "      <td>1283294163</td>\n",
       "      <td>78755JZ</td>\n",
       "      <td>NY</td>\n",
       "      <td>COM</td>\n",
       "      <td>08/05/2013</td>\n",
       "      <td>46</td>\n",
       "      <td>P-U</td>\n",
       "      <td>CHEVR</td>\n",
       "      <td>P</td>\n",
       "      <td>37030</td>\n",
       "      <td>...</td>\n",
       "      <td>NaN</td>\n",
       "      <td>-</td>\n",
       "      <td>0</td>\n",
       "      <td>NaN</td>\n",
       "      <td>NaN</td>\n",
       "      <td>NaN</td>\n",
       "      <td>NaN</td>\n",
       "      <td>NaN</td>\n",
       "      <td>2013-08-05</td>\n",
       "      <td>2014-02-28</td>\n",
       "    </tr>\n",
       "    <tr>\n",
       "      <th>3</th>\n",
       "      <td>1283294175</td>\n",
       "      <td>63009MA</td>\n",
       "      <td>NY</td>\n",
       "      <td>COM</td>\n",
       "      <td>08/05/2013</td>\n",
       "      <td>46</td>\n",
       "      <td>VAN</td>\n",
       "      <td>FORD</td>\n",
       "      <td>P</td>\n",
       "      <td>37270</td>\n",
       "      <td>...</td>\n",
       "      <td>2010.0</td>\n",
       "      <td>-</td>\n",
       "      <td>0</td>\n",
       "      <td>NaN</td>\n",
       "      <td>NaN</td>\n",
       "      <td>NaN</td>\n",
       "      <td>NaN</td>\n",
       "      <td>NaN</td>\n",
       "      <td>2013-08-05</td>\n",
       "      <td>2014-10-31</td>\n",
       "    </tr>\n",
       "    <tr>\n",
       "      <th>6</th>\n",
       "      <td>1283294229</td>\n",
       "      <td>GCR2838</td>\n",
       "      <td>NY</td>\n",
       "      <td>PAS</td>\n",
       "      <td>08/11/2013</td>\n",
       "      <td>14</td>\n",
       "      <td>VAN</td>\n",
       "      <td>NaN</td>\n",
       "      <td>P</td>\n",
       "      <td>37250</td>\n",
       "      <td>...</td>\n",
       "      <td>2011.0</td>\n",
       "      <td>-</td>\n",
       "      <td>0</td>\n",
       "      <td>NaN</td>\n",
       "      <td>NaN</td>\n",
       "      <td>NaN</td>\n",
       "      <td>NaN</td>\n",
       "      <td>NaN</td>\n",
       "      <td>2013-08-11</td>\n",
       "      <td>2014-12-23</td>\n",
       "    </tr>\n",
       "  </tbody>\n",
       "</table>\n",
       "<p>5 rows × 45 columns</p>\n",
       "</div>"
      ],
      "text/plain": [
       "   Summons Number Plate ID Registration State Plate Type  Issue Date  \\\n",
       "0      1283294138  GBB9093                 NY        PAS  08/04/2013   \n",
       "1      1283294151  62416MB                 NY        COM  08/04/2013   \n",
       "2      1283294163  78755JZ                 NY        COM  08/05/2013   \n",
       "3      1283294175  63009MA                 NY        COM  08/05/2013   \n",
       "6      1283294229  GCR2838                 NY        PAS  08/11/2013   \n",
       "\n",
       "   Violation Code Vehicle Body Type Vehicle Make Issuing Agency  Street Code1  \\\n",
       "0              46              SUBN         AUDI              P         37250   \n",
       "1              46               VAN         FORD              P         37290   \n",
       "2              46               P-U        CHEVR              P         37030   \n",
       "3              46               VAN         FORD              P         37270   \n",
       "6              14               VAN          NaN              P         37250   \n",
       "\n",
       "              ...              Vehicle Year  Meter Number  Feet From Curb  \\\n",
       "0             ...                    2013.0             -               0   \n",
       "1             ...                    2012.0             -               0   \n",
       "2             ...                       NaN             -               0   \n",
       "3             ...                    2010.0             -               0   \n",
       "6             ...                    2011.0             -               0   \n",
       "\n",
       "   Violation Post Code  Violation Description  \\\n",
       "0                  NaN                    NaN   \n",
       "1                  NaN                    NaN   \n",
       "2                  NaN                    NaN   \n",
       "3                  NaN                    NaN   \n",
       "6                  NaN                    NaN   \n",
       "\n",
       "   No Standing or Stopping Violation  Hydrant Violation  \\\n",
       "0                                NaN                NaN   \n",
       "1                                NaN                NaN   \n",
       "2                                NaN                NaN   \n",
       "3                                NaN                NaN   \n",
       "6                                NaN                NaN   \n",
       "\n",
       "  Double Parking Violation  New Issue Date New Vehicle Expiration Date  \n",
       "0                      NaN      2013-08-04                  2014-08-31  \n",
       "1                      NaN      2013-08-04                  2014-04-30  \n",
       "2                      NaN      2013-08-05                  2014-02-28  \n",
       "3                      NaN      2013-08-05                  2014-10-31  \n",
       "6                      NaN      2013-08-11                  2014-12-23  \n",
       "\n",
       "[5 rows x 45 columns]"
      ]
     },
     "execution_count": 21,
     "metadata": {},
     "output_type": "execute_result"
    }
   ],
   "source": [
    "new_df.head()"
   ]
  },
  {
   "cell_type": "markdown",
   "metadata": {},
   "source": [
    "## 4) \"Date first observed\" is a pretty weird column, but it seems like it has a date hiding inside. Using a function with .apply, transform the string (e.g. \"20140324\") into a Python date. Make the 0's show up as NaN"
   ]
  },
  {
   "cell_type": "code",
   "execution_count": 22,
   "metadata": {
    "collapsed": false
   },
   "outputs": [
    {
     "data": {
      "text/plain": [
       "Index(['Summons Number', 'Plate ID', 'Registration State', 'Plate Type',\n",
       "       'Issue Date', 'Violation Code', 'Vehicle Body Type', 'Vehicle Make',\n",
       "       'Issuing Agency', 'Street Code1', 'Street Code2', 'Street Code3',\n",
       "       'Vehicle Expiration Date', 'Violation Location', 'Violation Precinct',\n",
       "       'Issuer Precinct', 'Issuer Code', 'Issuer Command', 'Issuer Squad',\n",
       "       'Violation Time', 'Time First Observed', 'Violation County',\n",
       "       'Violation In Front Of Or Opposite', 'House Number', 'Street Name',\n",
       "       'Intersecting Street', 'Date First Observed', 'Law Section',\n",
       "       'Sub Division', 'Violation Legal Code', 'Days Parking In Effect    ',\n",
       "       'From Hours In Effect', 'To Hours In Effect', 'Vehicle Color',\n",
       "       'Unregistered Vehicle?', 'Vehicle Year', 'Meter Number',\n",
       "       'Feet From Curb', 'Violation Post Code', 'Violation Description',\n",
       "       'No Standing or Stopping Violation', 'Hydrant Violation',\n",
       "       'Double Parking Violation', 'New Issue Date',\n",
       "       'New Vehicle Expiration Date'],\n",
       "      dtype='object')"
      ]
     },
     "execution_count": 22,
     "metadata": {},
     "output_type": "execute_result"
    }
   ],
   "source": [
    "new_df.columns"
   ]
  },
  {
   "cell_type": "code",
   "execution_count": 23,
   "metadata": {
    "collapsed": false
   },
   "outputs": [
    {
     "data": {
      "text/plain": [
       "dtype('float64')"
      ]
     },
     "execution_count": 23,
     "metadata": {},
     "output_type": "execute_result"
    }
   ],
   "source": [
    "new_df['Date First Observed'].dtypes"
   ]
  },
  {
   "cell_type": "code",
   "execution_count": 24,
   "metadata": {
    "collapsed": false
   },
   "outputs": [
    {
     "data": {
      "text/plain": [
       "990   NaN\n",
       "991   NaN\n",
       "993   NaN\n",
       "994   NaN\n",
       "995   NaN\n",
       "Name: Date First Observed, dtype: float64"
      ]
     },
     "execution_count": 24,
     "metadata": {},
     "output_type": "execute_result"
    }
   ],
   "source": [
    "new_df['Date First Observed'].tail()"
   ]
  },
  {
   "cell_type": "code",
   "execution_count": 25,
   "metadata": {
    "collapsed": true
   },
   "outputs": [],
   "source": [
    "import dateutil"
   ]
  },
  {
   "cell_type": "code",
   "execution_count": 26,
   "metadata": {
    "collapsed": false
   },
   "outputs": [
    {
     "data": {
      "text/plain": [
       "0             NaN\n",
       "1             NaN\n",
       "2             NaN\n",
       "3             NaN\n",
       "6             NaN\n",
       "8             NaN\n",
       "10            NaN\n",
       "11            NaN\n",
       "12            NaN\n",
       "13            NaN\n",
       "15            NaN\n",
       "16            NaN\n",
       "17            NaN\n",
       "18            NaN\n",
       "19            NaN\n",
       "20            NaN\n",
       "21            NaN\n",
       "23            NaN\n",
       "25            NaN\n",
       "26            NaN\n",
       "28            NaN\n",
       "29            NaN\n",
       "35            NaN\n",
       "36            NaN\n",
       "38            NaN\n",
       "39            NaN\n",
       "41            NaN\n",
       "42            NaN\n",
       "45            NaN\n",
       "47            NaN\n",
       "          ...    \n",
       "962           NaN\n",
       "963           NaN\n",
       "964           NaN\n",
       "965           NaN\n",
       "966           NaN\n",
       "967           NaN\n",
       "968           NaN\n",
       "969           NaN\n",
       "971           NaN\n",
       "972           NaN\n",
       "974           NaN\n",
       "975           NaN\n",
       "976           NaN\n",
       "977           NaN\n",
       "978           NaN\n",
       "979           NaN\n",
       "980    20130727.0\n",
       "981           NaN\n",
       "983           NaN\n",
       "984    20130817.0\n",
       "985           NaN\n",
       "986           NaN\n",
       "987           NaN\n",
       "988    20130817.0\n",
       "989           NaN\n",
       "990           NaN\n",
       "991           NaN\n",
       "993           NaN\n",
       "994           NaN\n",
       "995           NaN\n",
       "Name: Date First Observed, dtype: float64"
      ]
     },
     "execution_count": 26,
     "metadata": {},
     "output_type": "execute_result"
    }
   ],
   "source": [
    "new_df['Date First Observed']"
   ]
  },
  {
   "cell_type": "code",
   "execution_count": 27,
   "metadata": {
    "collapsed": false
   },
   "outputs": [
    {
     "data": {
      "text/plain": [
       "0    0752A\n",
       "1    1240P\n",
       "2    1243P\n",
       "3    0232P\n",
       "6    0741P\n",
       "Name: Violation Time, dtype: object"
      ]
     },
     "execution_count": 27,
     "metadata": {},
     "output_type": "execute_result"
    }
   ],
   "source": [
    "new_df['Violation Time'].head()"
   ]
  },
  {
   "cell_type": "code",
   "execution_count": 28,
   "metadata": {
    "collapsed": false
   },
   "outputs": [],
   "source": [
    "def int_to_date(integer):\n",
    "    if not pd.isnull(integer):\n",
    "        date = str(int(integer))\n",
    "        clean_date = dateutil.parser.parse(date)\n",
    "        return clean_date.strftime(\"%Y-%-m-%d\")"
   ]
  },
  {
   "cell_type": "code",
   "execution_count": 29,
   "metadata": {
    "collapsed": false
   },
   "outputs": [
    {
     "data": {
      "text/plain": [
       "0           None\n",
       "1           None\n",
       "2           None\n",
       "3           None\n",
       "6           None\n",
       "8           None\n",
       "10          None\n",
       "11          None\n",
       "12          None\n",
       "13          None\n",
       "15          None\n",
       "16          None\n",
       "17          None\n",
       "18          None\n",
       "19          None\n",
       "20          None\n",
       "21          None\n",
       "23          None\n",
       "25          None\n",
       "26          None\n",
       "28          None\n",
       "29          None\n",
       "35          None\n",
       "36          None\n",
       "38          None\n",
       "39          None\n",
       "41          None\n",
       "42          None\n",
       "45          None\n",
       "47          None\n",
       "         ...    \n",
       "962         None\n",
       "963         None\n",
       "964         None\n",
       "965         None\n",
       "966         None\n",
       "967         None\n",
       "968         None\n",
       "969         None\n",
       "971         None\n",
       "972         None\n",
       "974         None\n",
       "975         None\n",
       "976         None\n",
       "977         None\n",
       "978         None\n",
       "979         None\n",
       "980    2013-7-27\n",
       "981         None\n",
       "983         None\n",
       "984    2013-8-17\n",
       "985         None\n",
       "986         None\n",
       "987         None\n",
       "988    2013-8-17\n",
       "989         None\n",
       "990         None\n",
       "991         None\n",
       "993         None\n",
       "994         None\n",
       "995         None\n",
       "Name: Date First Observed, dtype: object"
      ]
     },
     "execution_count": 29,
     "metadata": {},
     "output_type": "execute_result"
    }
   ],
   "source": [
    "new_df['Date First Observed'].apply(int_to_date)"
   ]
  },
  {
   "cell_type": "markdown",
   "metadata": {},
   "source": [
    "## 5) \"Violation time\" is... not a time. Make it a time."
   ]
  },
  {
   "cell_type": "code",
   "execution_count": 30,
   "metadata": {
    "collapsed": false
   },
   "outputs": [],
   "source": [
    "def violation_time_to_time(time):\n",
    "    try:\n",
    "        hour = time[0:2]\n",
    "        minutes = time[2:4]\n",
    "        am_pm= time[4]\n",
    "        complete_time= hour + \":\" + minutes + \" \" + am_pm + 'm'\n",
    "        new_violation_time = dateutil.parser.parse(complete_time)\n",
    "        return new_violation_time.strftime(\"%H:%M%p\")\n",
    "    except:\n",
    "        return None   "
   ]
  },
  {
   "cell_type": "code",
   "execution_count": 31,
   "metadata": {
    "collapsed": false
   },
   "outputs": [
    {
     "data": {
      "text/plain": [
       "0      07:52AM\n",
       "1      12:40PM\n",
       "2      12:43PM\n",
       "3      14:32PM\n",
       "6      19:41PM\n",
       "8      04:37AM\n",
       "10     08:45AM\n",
       "11     09:07AM\n",
       "12     17:14PM\n",
       "13     18:56PM\n",
       "15     17:46PM\n",
       "16     11:42AM\n",
       "17     07:24AM\n",
       "18     07:58AM\n",
       "19     07:36AM\n",
       "20     08:47AM\n",
       "21     11:20AM\n",
       "23     15:24PM\n",
       "25     07:43AM\n",
       "26     08:50AM\n",
       "28     10:23AM\n",
       "29     11:20AM\n",
       "35     13:05PM\n",
       "36     16:50PM\n",
       "38     19:30PM\n",
       "39     08:45AM\n",
       "41     09:27AM\n",
       "42     11:19AM\n",
       "45     19:42PM\n",
       "47     11:35AM\n",
       "        ...   \n",
       "962    09:42AM\n",
       "963    11:31AM\n",
       "964    12:38PM\n",
       "965    12:07PM\n",
       "966    15:51PM\n",
       "967    14:05PM\n",
       "968    11:49AM\n",
       "969    14:28PM\n",
       "971    10:59AM\n",
       "972    10:50AM\n",
       "974    08:55AM\n",
       "975    19:30PM\n",
       "976    13:21PM\n",
       "977    13:15PM\n",
       "978    21:50PM\n",
       "979    01:53AM\n",
       "980    15:50PM\n",
       "981    21:53PM\n",
       "983    20:10PM\n",
       "984    20:40PM\n",
       "985    20:45PM\n",
       "986    21:25PM\n",
       "987    19:00PM\n",
       "988    19:00PM\n",
       "989    19:00PM\n",
       "990    19:40PM\n",
       "991    01:20AM\n",
       "993    00:05AM\n",
       "994    21:50PM\n",
       "995    14:31PM\n",
       "Name: Violation Time, dtype: object"
      ]
     },
     "execution_count": 31,
     "metadata": {},
     "output_type": "execute_result"
    }
   ],
   "source": [
    "new_df['Violation Time'].apply(violation_time_to_time)"
   ]
  },
  {
   "cell_type": "markdown",
   "metadata": {},
   "source": [
    "## 6) There sure are a lot of colors of cars, too bad so many of them are the same. Make \"BLK\" and \"BLACK\", \"WT\" and \"WHITE\", and any other combinations that you notice."
   ]
  },
  {
   "cell_type": "code",
   "execution_count": 32,
   "metadata": {
    "collapsed": false
   },
   "outputs": [
    {
     "data": {
      "text/plain": [
       "WHITE    85\n",
       "BLACK    75\n",
       "BLUE     53\n",
       "GRAY     48\n",
       "GREY     36\n",
       "GY       36\n",
       "BLK      33\n",
       "SILVE    29\n",
       "GREEN    29\n",
       "BK       27\n",
       "RED      24\n",
       "WH       23\n",
       "WHT      21\n",
       "TAN      16\n",
       "BL       14\n",
       "GOLD     14\n",
       "YELLO    11\n",
       "GRY      10\n",
       "SILVR     6\n",
       "BROWN     4\n",
       "MAROO     3\n",
       "G         3\n",
       "GR        3\n",
       "GN        2\n",
       "BR        2\n",
       "RD        2\n",
       "GL        2\n",
       "W         2\n",
       "TN        2\n",
       "BEIGE     2\n",
       "BURG      1\n",
       "SIVLE     1\n",
       "G/Y       1\n",
       "BLU       1\n",
       "PURPL     1\n",
       "PUR       1\n",
       "YELL      1\n",
       "BURGA     1\n",
       "RUST      1\n",
       "BIRG      1\n",
       "BRWN      1\n",
       "YW        1\n",
       "BRW       1\n",
       "OR        1\n",
       "Name: Vehicle Color, dtype: int64"
      ]
     },
     "execution_count": 32,
     "metadata": {},
     "output_type": "execute_result"
    }
   ],
   "source": [
    "new_df['Vehicle Color'].value_counts()"
   ]
  },
  {
   "cell_type": "code",
   "execution_count": 33,
   "metadata": {
    "collapsed": false
   },
   "outputs": [
    {
     "data": {
      "text/plain": [
       "0       None\n",
       "1      WHITE\n",
       "2       None\n",
       "3      WHITE\n",
       "6       None\n",
       "8      WHITE\n",
       "10      None\n",
       "11      None\n",
       "12      None\n",
       "13     WHITE\n",
       "15     WHITE\n",
       "16      None\n",
       "17      None\n",
       "18     WHITE\n",
       "19     WHITE\n",
       "20      None\n",
       "21      None\n",
       "23      None\n",
       "25     WHITE\n",
       "26     WHITE\n",
       "28      None\n",
       "29      None\n",
       "35      None\n",
       "36     WHITE\n",
       "38      None\n",
       "39      None\n",
       "41      None\n",
       "42      None\n",
       "45     BLACK\n",
       "47     BLACK\n",
       "       ...  \n",
       "962     None\n",
       "963     None\n",
       "964     None\n",
       "965    BLACK\n",
       "966     None\n",
       "967     None\n",
       "968     None\n",
       "969    WHITE\n",
       "971     None\n",
       "972    BLACK\n",
       "974     None\n",
       "975     None\n",
       "976     None\n",
       "977     None\n",
       "978     None\n",
       "979    BLACK\n",
       "980    WHITE\n",
       "981    BLACK\n",
       "983     None\n",
       "984     None\n",
       "985     None\n",
       "986     None\n",
       "987     None\n",
       "988     None\n",
       "989     None\n",
       "990     None\n",
       "991    BLACK\n",
       "993     None\n",
       "994     None\n",
       "995    WHITE\n",
       "Name: Vehicle Color, dtype: object"
      ]
     },
     "execution_count": 33,
     "metadata": {},
     "output_type": "execute_result"
    }
   ],
   "source": [
    "def color_to_name(color):\n",
    "    if (color == 'BLACK') or (color == 'BLK') or (color == 'BK'):\n",
    "        return 'BLACK'\n",
    "    elif (color == 'WHITE') or (color == 'WHT') or (color == 'WH') or (color == 'W'):\n",
    "        return 'WHITE'\n",
    "\n",
    "new_df['Vehicle Color'].apply(color_to_name)"
   ]
  },
  {
   "cell_type": "markdown",
   "metadata": {},
   "source": [
    "## 7) Join the data with the Parking Violations Code dataset from the NYC Open Data site"
   ]
  },
  {
   "cell_type": "code",
   "execution_count": 34,
   "metadata": {
    "collapsed": false
   },
   "outputs": [
    {
     "data": {
      "text/html": [
       "<div>\n",
       "<table border=\"1\" class=\"dataframe\">\n",
       "  <thead>\n",
       "    <tr style=\"text-align: right;\">\n",
       "      <th></th>\n",
       "      <th>CODE</th>\n",
       "      <th>DEFINITION</th>\n",
       "      <th>Manhattan¬† 96th St. &amp; below</th>\n",
       "      <th>All Other Areas</th>\n",
       "    </tr>\n",
       "  </thead>\n",
       "  <tbody>\n",
       "    <tr>\n",
       "      <th>0</th>\n",
       "      <td>10</td>\n",
       "      <td>Stopping, standing or parking where a sign, st...</td>\n",
       "      <td>$115</td>\n",
       "      <td>$115</td>\n",
       "    </tr>\n",
       "    <tr>\n",
       "      <th>1</th>\n",
       "      <td>11</td>\n",
       "      <td>Hotel Loading/Unloading: Standing or parking w...</td>\n",
       "      <td>$115</td>\n",
       "      <td>$115</td>\n",
       "    </tr>\n",
       "    <tr>\n",
       "      <th>2</th>\n",
       "      <td>12</td>\n",
       "      <td>Snow Emergency: Standing or parking where stan...</td>\n",
       "      <td>$95</td>\n",
       "      <td>$95</td>\n",
       "    </tr>\n",
       "    <tr>\n",
       "      <th>3</th>\n",
       "      <td>13</td>\n",
       "      <td>Taxi Stand: Standing or parking where standing...</td>\n",
       "      <td>$115</td>\n",
       "      <td>$115</td>\n",
       "    </tr>\n",
       "    <tr>\n",
       "      <th>4</th>\n",
       "      <td>14</td>\n",
       "      <td>General No Standing: Standing or parking where...</td>\n",
       "      <td>$115</td>\n",
       "      <td>$115</td>\n",
       "    </tr>\n",
       "  </tbody>\n",
       "</table>\n",
       "</div>"
      ],
      "text/plain": [
       "  CODE                                         DEFINITION  \\\n",
       "0   10  Stopping, standing or parking where a sign, st...   \n",
       "1   11  Hotel Loading/Unloading: Standing or parking w...   \n",
       "2   12  Snow Emergency: Standing or parking where stan...   \n",
       "3   13  Taxi Stand: Standing or parking where standing...   \n",
       "4   14  General No Standing: Standing or parking where...   \n",
       "\n",
       "  Manhattan¬† 96th St. & below All Other Areas  \n",
       "0                        $115            $115   \n",
       "1                        $115            $115   \n",
       "2                         $95             $95   \n",
       "3                        $115            $115   \n",
       "4                        $115            $115   "
      ]
     },
     "execution_count": 34,
     "metadata": {},
     "output_type": "execute_result"
    }
   ],
   "source": [
    "parking_violations_df = pd.read_csv(\"DOF_Parking_Violation_Codes.csv\", encoding=\"mac_roman\", error_bad_lines=False)\n",
    "parking_violations_df.head()"
   ]
  },
  {
   "cell_type": "code",
   "execution_count": 35,
   "metadata": {
    "collapsed": false
   },
   "outputs": [
    {
     "data": {
      "text/plain": [
       "count     84\n",
       "unique    84\n",
       "top       67\n",
       "freq       1\n",
       "Name: CODE, dtype: object"
      ]
     },
     "execution_count": 35,
     "metadata": {},
     "output_type": "execute_result"
    }
   ],
   "source": [
    "parking_violations_df['CODE'].describe()"
   ]
  },
  {
   "cell_type": "code",
   "execution_count": 36,
   "metadata": {
    "collapsed": false
   },
   "outputs": [
    {
     "data": {
      "text/plain": [
       "count    644.000000\n",
       "mean      26.279503\n",
       "std       16.009605\n",
       "min       14.000000\n",
       "25%       19.000000\n",
       "50%       21.000000\n",
       "75%       21.000000\n",
       "max       99.000000\n",
       "Name: Violation Code, dtype: float64"
      ]
     },
     "execution_count": 36,
     "metadata": {},
     "output_type": "execute_result"
    }
   ],
   "source": [
    "new_df['Violation Code'].describe()"
   ]
  },
  {
   "cell_type": "code",
   "execution_count": 37,
   "metadata": {
    "collapsed": true
   },
   "outputs": [],
   "source": [
    "def convert_to_str(n):\n",
    "    return str(n)"
   ]
  },
  {
   "cell_type": "code",
   "execution_count": 38,
   "metadata": {
    "collapsed": false
   },
   "outputs": [],
   "source": [
    "parking_violations_df['Code'] = parking_violations_df['CODE'].apply(convert_to_str)"
   ]
  },
  {
   "cell_type": "code",
   "execution_count": 39,
   "metadata": {
    "collapsed": false
   },
   "outputs": [
    {
     "name": "stderr",
     "output_type": "stream",
     "text": [
      "/Users/olayaargueso/.virtualenvs/data-analysis/lib/python3.5/site-packages/ipykernel/__main__.py:1: SettingWithCopyWarning: \n",
      "A value is trying to be set on a copy of a slice from a DataFrame.\n",
      "Try using .loc[row_indexer,col_indexer] = value instead\n",
      "\n",
      "See the caveats in the documentation: http://pandas.pydata.org/pandas-docs/stable/indexing.html#indexing-view-versus-copy\n",
      "  if __name__ == '__main__':\n"
     ]
    }
   ],
   "source": [
    "new_df['Violation code'] = new_df['Violation Code'].apply(convert_to_str)"
   ]
  },
  {
   "cell_type": "code",
   "execution_count": 40,
   "metadata": {
    "collapsed": false
   },
   "outputs": [
    {
     "data": {
      "text/html": [
       "<div>\n",
       "<table border=\"1\" class=\"dataframe\">\n",
       "  <thead>\n",
       "    <tr style=\"text-align: right;\">\n",
       "      <th></th>\n",
       "      <th>CODE</th>\n",
       "      <th>DEFINITION</th>\n",
       "      <th>Manhattan¬† 96th St. &amp; below</th>\n",
       "      <th>All Other Areas</th>\n",
       "      <th>Code</th>\n",
       "    </tr>\n",
       "  </thead>\n",
       "  <tbody>\n",
       "    <tr>\n",
       "      <th>0</th>\n",
       "      <td>10</td>\n",
       "      <td>Stopping, standing or parking where a sign, st...</td>\n",
       "      <td>$115</td>\n",
       "      <td>$115</td>\n",
       "      <td>10</td>\n",
       "    </tr>\n",
       "    <tr>\n",
       "      <th>1</th>\n",
       "      <td>11</td>\n",
       "      <td>Hotel Loading/Unloading: Standing or parking w...</td>\n",
       "      <td>$115</td>\n",
       "      <td>$115</td>\n",
       "      <td>11</td>\n",
       "    </tr>\n",
       "    <tr>\n",
       "      <th>2</th>\n",
       "      <td>12</td>\n",
       "      <td>Snow Emergency: Standing or parking where stan...</td>\n",
       "      <td>$95</td>\n",
       "      <td>$95</td>\n",
       "      <td>12</td>\n",
       "    </tr>\n",
       "    <tr>\n",
       "      <th>3</th>\n",
       "      <td>13</td>\n",
       "      <td>Taxi Stand: Standing or parking where standing...</td>\n",
       "      <td>$115</td>\n",
       "      <td>$115</td>\n",
       "      <td>13</td>\n",
       "    </tr>\n",
       "    <tr>\n",
       "      <th>4</th>\n",
       "      <td>14</td>\n",
       "      <td>General No Standing: Standing or parking where...</td>\n",
       "      <td>$115</td>\n",
       "      <td>$115</td>\n",
       "      <td>14</td>\n",
       "    </tr>\n",
       "  </tbody>\n",
       "</table>\n",
       "</div>"
      ],
      "text/plain": [
       "  CODE                                         DEFINITION  \\\n",
       "0   10  Stopping, standing or parking where a sign, st...   \n",
       "1   11  Hotel Loading/Unloading: Standing or parking w...   \n",
       "2   12  Snow Emergency: Standing or parking where stan...   \n",
       "3   13  Taxi Stand: Standing or parking where standing...   \n",
       "4   14  General No Standing: Standing or parking where...   \n",
       "\n",
       "  Manhattan¬† 96th St. & below All Other Areas Code  \n",
       "0                        $115            $115    10  \n",
       "1                        $115            $115    11  \n",
       "2                         $95             $95    12  \n",
       "3                        $115            $115    13  \n",
       "4                        $115            $115    14  "
      ]
     },
     "execution_count": 40,
     "metadata": {},
     "output_type": "execute_result"
    }
   ],
   "source": [
    "parking_violations_df.head()"
   ]
  },
  {
   "cell_type": "code",
   "execution_count": 41,
   "metadata": {
    "collapsed": false
   },
   "outputs": [
    {
     "data": {
      "text/html": [
       "<div>\n",
       "<table border=\"1\" class=\"dataframe\">\n",
       "  <thead>\n",
       "    <tr style=\"text-align: right;\">\n",
       "      <th></th>\n",
       "      <th>CODE</th>\n",
       "      <th>DEFINITION</th>\n",
       "      <th>Manhattan 96th &amp; below</th>\n",
       "      <th>All other areas</th>\n",
       "      <th>Code</th>\n",
       "    </tr>\n",
       "  </thead>\n",
       "  <tbody>\n",
       "    <tr>\n",
       "      <th>0</th>\n",
       "      <td>10</td>\n",
       "      <td>Stopping, standing or parking where a sign, st...</td>\n",
       "      <td>$115</td>\n",
       "      <td>$115</td>\n",
       "      <td>10</td>\n",
       "    </tr>\n",
       "    <tr>\n",
       "      <th>1</th>\n",
       "      <td>11</td>\n",
       "      <td>Hotel Loading/Unloading: Standing or parking w...</td>\n",
       "      <td>$115</td>\n",
       "      <td>$115</td>\n",
       "      <td>11</td>\n",
       "    </tr>\n",
       "    <tr>\n",
       "      <th>2</th>\n",
       "      <td>12</td>\n",
       "      <td>Snow Emergency: Standing or parking where stan...</td>\n",
       "      <td>$95</td>\n",
       "      <td>$95</td>\n",
       "      <td>12</td>\n",
       "    </tr>\n",
       "    <tr>\n",
       "      <th>3</th>\n",
       "      <td>13</td>\n",
       "      <td>Taxi Stand: Standing or parking where standing...</td>\n",
       "      <td>$115</td>\n",
       "      <td>$115</td>\n",
       "      <td>13</td>\n",
       "    </tr>\n",
       "    <tr>\n",
       "      <th>4</th>\n",
       "      <td>14</td>\n",
       "      <td>General No Standing: Standing or parking where...</td>\n",
       "      <td>$115</td>\n",
       "      <td>$115</td>\n",
       "      <td>14</td>\n",
       "    </tr>\n",
       "  </tbody>\n",
       "</table>\n",
       "</div>"
      ],
      "text/plain": [
       "  CODE                                         DEFINITION  \\\n",
       "0   10  Stopping, standing or parking where a sign, st...   \n",
       "1   11  Hotel Loading/Unloading: Standing or parking w...   \n",
       "2   12  Snow Emergency: Standing or parking where stan...   \n",
       "3   13  Taxi Stand: Standing or parking where standing...   \n",
       "4   14  General No Standing: Standing or parking where...   \n",
       "\n",
       "  Manhattan 96th & below All other areas Code  \n",
       "0                  $115            $115    10  \n",
       "1                  $115            $115    11  \n",
       "2                   $95             $95    12  \n",
       "3                  $115            $115    13  \n",
       "4                  $115            $115    14  "
      ]
     },
     "execution_count": 41,
     "metadata": {},
     "output_type": "execute_result"
    }
   ],
   "source": [
    "new_parking_violations_df = parking_violations_df.rename(columns={'Manhattan¬† 96th St. & below': 'Manhattan 96th & below', 'All Other Areas': 'All other areas'})\n",
    "new_parking_violations_df.head()"
   ]
  },
  {
   "cell_type": "code",
   "execution_count": 42,
   "metadata": {
    "collapsed": false
   },
   "outputs": [
    {
     "data": {
      "text/html": [
       "<div>\n",
       "<table border=\"1\" class=\"dataframe\">\n",
       "  <thead>\n",
       "    <tr style=\"text-align: right;\">\n",
       "      <th></th>\n",
       "      <th>Summons Number</th>\n",
       "      <th>Plate ID</th>\n",
       "      <th>Registration State</th>\n",
       "      <th>Plate Type</th>\n",
       "      <th>Issue Date</th>\n",
       "      <th>Violation Code</th>\n",
       "      <th>Vehicle Body Type</th>\n",
       "      <th>Vehicle Make</th>\n",
       "      <th>Issuing Agency</th>\n",
       "      <th>Street Code1</th>\n",
       "      <th>...</th>\n",
       "      <th>Meter Number</th>\n",
       "      <th>Feet From Curb</th>\n",
       "      <th>Violation Post Code</th>\n",
       "      <th>Violation Description</th>\n",
       "      <th>No Standing or Stopping Violation</th>\n",
       "      <th>Hydrant Violation</th>\n",
       "      <th>Double Parking Violation</th>\n",
       "      <th>New Issue Date</th>\n",
       "      <th>New Vehicle Expiration Date</th>\n",
       "      <th>Violation code</th>\n",
       "    </tr>\n",
       "  </thead>\n",
       "  <tbody>\n",
       "    <tr>\n",
       "      <th>0</th>\n",
       "      <td>1283294138</td>\n",
       "      <td>GBB9093</td>\n",
       "      <td>NY</td>\n",
       "      <td>PAS</td>\n",
       "      <td>08/04/2013</td>\n",
       "      <td>46</td>\n",
       "      <td>SUBN</td>\n",
       "      <td>AUDI</td>\n",
       "      <td>P</td>\n",
       "      <td>37250</td>\n",
       "      <td>...</td>\n",
       "      <td>-</td>\n",
       "      <td>0</td>\n",
       "      <td>NaN</td>\n",
       "      <td>NaN</td>\n",
       "      <td>NaN</td>\n",
       "      <td>NaN</td>\n",
       "      <td>NaN</td>\n",
       "      <td>2013-08-04</td>\n",
       "      <td>2014-08-31</td>\n",
       "      <td>46</td>\n",
       "    </tr>\n",
       "    <tr>\n",
       "      <th>1</th>\n",
       "      <td>1283294151</td>\n",
       "      <td>62416MB</td>\n",
       "      <td>NY</td>\n",
       "      <td>COM</td>\n",
       "      <td>08/04/2013</td>\n",
       "      <td>46</td>\n",
       "      <td>VAN</td>\n",
       "      <td>FORD</td>\n",
       "      <td>P</td>\n",
       "      <td>37290</td>\n",
       "      <td>...</td>\n",
       "      <td>-</td>\n",
       "      <td>0</td>\n",
       "      <td>NaN</td>\n",
       "      <td>NaN</td>\n",
       "      <td>NaN</td>\n",
       "      <td>NaN</td>\n",
       "      <td>NaN</td>\n",
       "      <td>2013-08-04</td>\n",
       "      <td>2014-04-30</td>\n",
       "      <td>46</td>\n",
       "    </tr>\n",
       "    <tr>\n",
       "      <th>2</th>\n",
       "      <td>1283294163</td>\n",
       "      <td>78755JZ</td>\n",
       "      <td>NY</td>\n",
       "      <td>COM</td>\n",
       "      <td>08/05/2013</td>\n",
       "      <td>46</td>\n",
       "      <td>P-U</td>\n",
       "      <td>CHEVR</td>\n",
       "      <td>P</td>\n",
       "      <td>37030</td>\n",
       "      <td>...</td>\n",
       "      <td>-</td>\n",
       "      <td>0</td>\n",
       "      <td>NaN</td>\n",
       "      <td>NaN</td>\n",
       "      <td>NaN</td>\n",
       "      <td>NaN</td>\n",
       "      <td>NaN</td>\n",
       "      <td>2013-08-05</td>\n",
       "      <td>2014-02-28</td>\n",
       "      <td>46</td>\n",
       "    </tr>\n",
       "    <tr>\n",
       "      <th>3</th>\n",
       "      <td>1283294175</td>\n",
       "      <td>63009MA</td>\n",
       "      <td>NY</td>\n",
       "      <td>COM</td>\n",
       "      <td>08/05/2013</td>\n",
       "      <td>46</td>\n",
       "      <td>VAN</td>\n",
       "      <td>FORD</td>\n",
       "      <td>P</td>\n",
       "      <td>37270</td>\n",
       "      <td>...</td>\n",
       "      <td>-</td>\n",
       "      <td>0</td>\n",
       "      <td>NaN</td>\n",
       "      <td>NaN</td>\n",
       "      <td>NaN</td>\n",
       "      <td>NaN</td>\n",
       "      <td>NaN</td>\n",
       "      <td>2013-08-05</td>\n",
       "      <td>2014-10-31</td>\n",
       "      <td>46</td>\n",
       "    </tr>\n",
       "    <tr>\n",
       "      <th>6</th>\n",
       "      <td>1283294229</td>\n",
       "      <td>GCR2838</td>\n",
       "      <td>NY</td>\n",
       "      <td>PAS</td>\n",
       "      <td>08/11/2013</td>\n",
       "      <td>14</td>\n",
       "      <td>VAN</td>\n",
       "      <td>NaN</td>\n",
       "      <td>P</td>\n",
       "      <td>37250</td>\n",
       "      <td>...</td>\n",
       "      <td>-</td>\n",
       "      <td>0</td>\n",
       "      <td>NaN</td>\n",
       "      <td>NaN</td>\n",
       "      <td>NaN</td>\n",
       "      <td>NaN</td>\n",
       "      <td>NaN</td>\n",
       "      <td>2013-08-11</td>\n",
       "      <td>2014-12-23</td>\n",
       "      <td>14</td>\n",
       "    </tr>\n",
       "  </tbody>\n",
       "</table>\n",
       "<p>5 rows × 46 columns</p>\n",
       "</div>"
      ],
      "text/plain": [
       "   Summons Number Plate ID Registration State Plate Type  Issue Date  \\\n",
       "0      1283294138  GBB9093                 NY        PAS  08/04/2013   \n",
       "1      1283294151  62416MB                 NY        COM  08/04/2013   \n",
       "2      1283294163  78755JZ                 NY        COM  08/05/2013   \n",
       "3      1283294175  63009MA                 NY        COM  08/05/2013   \n",
       "6      1283294229  GCR2838                 NY        PAS  08/11/2013   \n",
       "\n",
       "   Violation Code Vehicle Body Type Vehicle Make Issuing Agency  Street Code1  \\\n",
       "0              46              SUBN         AUDI              P         37250   \n",
       "1              46               VAN         FORD              P         37290   \n",
       "2              46               P-U        CHEVR              P         37030   \n",
       "3              46               VAN         FORD              P         37270   \n",
       "6              14               VAN          NaN              P         37250   \n",
       "\n",
       "       ...        Meter Number  Feet From Curb  Violation Post Code  \\\n",
       "0      ...                   -               0                  NaN   \n",
       "1      ...                   -               0                  NaN   \n",
       "2      ...                   -               0                  NaN   \n",
       "3      ...                   -               0                  NaN   \n",
       "6      ...                   -               0                  NaN   \n",
       "\n",
       "   Violation Description  No Standing or Stopping Violation  \\\n",
       "0                    NaN                                NaN   \n",
       "1                    NaN                                NaN   \n",
       "2                    NaN                                NaN   \n",
       "3                    NaN                                NaN   \n",
       "6                    NaN                                NaN   \n",
       "\n",
       "   Hydrant Violation  Double Parking Violation New Issue Date  \\\n",
       "0                NaN                       NaN     2013-08-04   \n",
       "1                NaN                       NaN     2013-08-04   \n",
       "2                NaN                       NaN     2013-08-05   \n",
       "3                NaN                       NaN     2013-08-05   \n",
       "6                NaN                       NaN     2013-08-11   \n",
       "\n",
       "   New Vehicle Expiration Date Violation code  \n",
       "0                   2014-08-31             46  \n",
       "1                   2014-04-30             46  \n",
       "2                   2014-02-28             46  \n",
       "3                   2014-10-31             46  \n",
       "6                   2014-12-23             14  \n",
       "\n",
       "[5 rows x 46 columns]"
      ]
     },
     "execution_count": 42,
     "metadata": {},
     "output_type": "execute_result"
    }
   ],
   "source": [
    "new_df.head()"
   ]
  },
  {
   "cell_type": "code",
   "execution_count": 43,
   "metadata": {
    "collapsed": false
   },
   "outputs": [
    {
     "data": {
      "text/html": [
       "<div>\n",
       "<table border=\"1\" class=\"dataframe\">\n",
       "  <thead>\n",
       "    <tr style=\"text-align: right;\">\n",
       "      <th></th>\n",
       "      <th>Summons Number</th>\n",
       "      <th>Plate ID</th>\n",
       "      <th>Registration State</th>\n",
       "      <th>Plate Type</th>\n",
       "      <th>Issue Date</th>\n",
       "      <th>Violation Code</th>\n",
       "      <th>Vehicle Body Type</th>\n",
       "      <th>Vehicle Make</th>\n",
       "      <th>Issuing Agency</th>\n",
       "      <th>Street Code1</th>\n",
       "      <th>...</th>\n",
       "      <th>Hydrant Violation</th>\n",
       "      <th>Double Parking Violation</th>\n",
       "      <th>New Issue Date</th>\n",
       "      <th>New Vehicle Expiration Date</th>\n",
       "      <th>Violation code</th>\n",
       "      <th>CODE</th>\n",
       "      <th>DEFINITION</th>\n",
       "      <th>Manhattan 96th &amp; below</th>\n",
       "      <th>All other areas</th>\n",
       "      <th>Code</th>\n",
       "    </tr>\n",
       "  </thead>\n",
       "  <tbody>\n",
       "    <tr>\n",
       "      <th>0</th>\n",
       "      <td>1283294138</td>\n",
       "      <td>GBB9093</td>\n",
       "      <td>NY</td>\n",
       "      <td>PAS</td>\n",
       "      <td>08/04/2013</td>\n",
       "      <td>46</td>\n",
       "      <td>SUBN</td>\n",
       "      <td>AUDI</td>\n",
       "      <td>P</td>\n",
       "      <td>37250</td>\n",
       "      <td>...</td>\n",
       "      <td>NaN</td>\n",
       "      <td>NaN</td>\n",
       "      <td>2013-08-04</td>\n",
       "      <td>2014-08-31</td>\n",
       "      <td>46</td>\n",
       "      <td>46</td>\n",
       "      <td>Standing or parking on the roadway side of a v...</td>\n",
       "      <td>$115</td>\n",
       "      <td>$115</td>\n",
       "      <td>46</td>\n",
       "    </tr>\n",
       "    <tr>\n",
       "      <th>1</th>\n",
       "      <td>1283294151</td>\n",
       "      <td>62416MB</td>\n",
       "      <td>NY</td>\n",
       "      <td>COM</td>\n",
       "      <td>08/04/2013</td>\n",
       "      <td>46</td>\n",
       "      <td>VAN</td>\n",
       "      <td>FORD</td>\n",
       "      <td>P</td>\n",
       "      <td>37290</td>\n",
       "      <td>...</td>\n",
       "      <td>NaN</td>\n",
       "      <td>NaN</td>\n",
       "      <td>2013-08-04</td>\n",
       "      <td>2014-04-30</td>\n",
       "      <td>46</td>\n",
       "      <td>46</td>\n",
       "      <td>Standing or parking on the roadway side of a v...</td>\n",
       "      <td>$115</td>\n",
       "      <td>$115</td>\n",
       "      <td>46</td>\n",
       "    </tr>\n",
       "    <tr>\n",
       "      <th>2</th>\n",
       "      <td>1283294163</td>\n",
       "      <td>78755JZ</td>\n",
       "      <td>NY</td>\n",
       "      <td>COM</td>\n",
       "      <td>08/05/2013</td>\n",
       "      <td>46</td>\n",
       "      <td>P-U</td>\n",
       "      <td>CHEVR</td>\n",
       "      <td>P</td>\n",
       "      <td>37030</td>\n",
       "      <td>...</td>\n",
       "      <td>NaN</td>\n",
       "      <td>NaN</td>\n",
       "      <td>2013-08-05</td>\n",
       "      <td>2014-02-28</td>\n",
       "      <td>46</td>\n",
       "      <td>46</td>\n",
       "      <td>Standing or parking on the roadway side of a v...</td>\n",
       "      <td>$115</td>\n",
       "      <td>$115</td>\n",
       "      <td>46</td>\n",
       "    </tr>\n",
       "    <tr>\n",
       "      <th>3</th>\n",
       "      <td>1283294175</td>\n",
       "      <td>63009MA</td>\n",
       "      <td>NY</td>\n",
       "      <td>COM</td>\n",
       "      <td>08/05/2013</td>\n",
       "      <td>46</td>\n",
       "      <td>VAN</td>\n",
       "      <td>FORD</td>\n",
       "      <td>P</td>\n",
       "      <td>37270</td>\n",
       "      <td>...</td>\n",
       "      <td>NaN</td>\n",
       "      <td>NaN</td>\n",
       "      <td>2013-08-05</td>\n",
       "      <td>2014-10-31</td>\n",
       "      <td>46</td>\n",
       "      <td>46</td>\n",
       "      <td>Standing or parking on the roadway side of a v...</td>\n",
       "      <td>$115</td>\n",
       "      <td>$115</td>\n",
       "      <td>46</td>\n",
       "    </tr>\n",
       "    <tr>\n",
       "      <th>4</th>\n",
       "      <td>1290834374</td>\n",
       "      <td>42587JW</td>\n",
       "      <td>NY</td>\n",
       "      <td>COM</td>\n",
       "      <td>07/30/2013</td>\n",
       "      <td>46</td>\n",
       "      <td>DELV</td>\n",
       "      <td>FORD</td>\n",
       "      <td>P</td>\n",
       "      <td>65590</td>\n",
       "      <td>...</td>\n",
       "      <td>NaN</td>\n",
       "      <td>NaN</td>\n",
       "      <td>2013-07-30</td>\n",
       "      <td>2014-12-19</td>\n",
       "      <td>46</td>\n",
       "      <td>46</td>\n",
       "      <td>Standing or parking on the roadway side of a v...</td>\n",
       "      <td>$115</td>\n",
       "      <td>$115</td>\n",
       "      <td>46</td>\n",
       "    </tr>\n",
       "  </tbody>\n",
       "</table>\n",
       "<p>5 rows × 51 columns</p>\n",
       "</div>"
      ],
      "text/plain": [
       "   Summons Number Plate ID Registration State Plate Type  Issue Date  \\\n",
       "0      1283294138  GBB9093                 NY        PAS  08/04/2013   \n",
       "1      1283294151  62416MB                 NY        COM  08/04/2013   \n",
       "2      1283294163  78755JZ                 NY        COM  08/05/2013   \n",
       "3      1283294175  63009MA                 NY        COM  08/05/2013   \n",
       "4      1290834374  42587JW                 NY        COM  07/30/2013   \n",
       "\n",
       "   Violation Code Vehicle Body Type Vehicle Make Issuing Agency  Street Code1  \\\n",
       "0              46              SUBN         AUDI              P         37250   \n",
       "1              46               VAN         FORD              P         37290   \n",
       "2              46               P-U        CHEVR              P         37030   \n",
       "3              46               VAN         FORD              P         37270   \n",
       "4              46              DELV         FORD              P         65590   \n",
       "\n",
       "  ...   Hydrant Violation  Double Parking Violation  New Issue Date  \\\n",
       "0 ...                 NaN                       NaN      2013-08-04   \n",
       "1 ...                 NaN                       NaN      2013-08-04   \n",
       "2 ...                 NaN                       NaN      2013-08-05   \n",
       "3 ...                 NaN                       NaN      2013-08-05   \n",
       "4 ...                 NaN                       NaN      2013-07-30   \n",
       "\n",
       "   New Vehicle Expiration Date  Violation code  CODE  \\\n",
       "0                   2014-08-31              46    46   \n",
       "1                   2014-04-30              46    46   \n",
       "2                   2014-02-28              46    46   \n",
       "3                   2014-10-31              46    46   \n",
       "4                   2014-12-19              46    46   \n",
       "\n",
       "                                          DEFINITION Manhattan 96th & below  \\\n",
       "0  Standing or parking on the roadway side of a v...                  $115    \n",
       "1  Standing or parking on the roadway side of a v...                  $115    \n",
       "2  Standing or parking on the roadway side of a v...                  $115    \n",
       "3  Standing or parking on the roadway side of a v...                  $115    \n",
       "4  Standing or parking on the roadway side of a v...                  $115    \n",
       "\n",
       "   All other areas Code  \n",
       "0            $115    46  \n",
       "1            $115    46  \n",
       "2            $115    46  \n",
       "3            $115    46  \n",
       "4            $115    46  \n",
       "\n",
       "[5 rows x 51 columns]"
      ]
     },
     "execution_count": 43,
     "metadata": {},
     "output_type": "execute_result"
    }
   ],
   "source": [
    "new_violations_df = pd.merge(new_df, new_parking_violations_df, left_on='Violation code', right_on='Code')\n",
    "new_violations_df.head()"
   ]
  },
  {
   "cell_type": "markdown",
   "metadata": {
    "collapsed": true
   },
   "source": [
    "## 8) How much money did NYC make off of parking violations?"
   ]
  },
  {
   "cell_type": "code",
   "execution_count": 44,
   "metadata": {
    "collapsed": false
   },
   "outputs": [
    {
     "data": {
      "text/plain": [
       "count      641\n",
       "unique       8\n",
       "top       $65 \n",
       "freq       344\n",
       "Name: Manhattan 96th & below, dtype: object"
      ]
     },
     "execution_count": 44,
     "metadata": {},
     "output_type": "execute_result"
    }
   ],
   "source": [
    "new_violations_df['Manhattan 96th & below'].describe()"
   ]
  },
  {
   "cell_type": "code",
   "execution_count": 45,
   "metadata": {
    "collapsed": false
   },
   "outputs": [
    {
     "data": {
      "text/plain": [
       "count      641\n",
       "unique       9\n",
       "top       $45 \n",
       "freq       246\n",
       "Name: All other areas, dtype: object"
      ]
     },
     "execution_count": 45,
     "metadata": {},
     "output_type": "execute_result"
    }
   ],
   "source": [
    "new_violations_df['All other areas'].describe()"
   ]
  },
  {
   "cell_type": "code",
   "execution_count": 46,
   "metadata": {
    "collapsed": false
   },
   "outputs": [
    {
     "data": {
      "text/plain": [
       "0    $115 \n",
       "1    $115 \n",
       "2    $115 \n",
       "3    $115 \n",
       "4    $115 \n",
       "Name: Manhattan 96th & below, dtype: object"
      ]
     },
     "execution_count": 46,
     "metadata": {},
     "output_type": "execute_result"
    }
   ],
   "source": [
    "new_violations_df['Manhattan 96th & below'].apply(convert_to_str).head()"
   ]
  },
  {
   "cell_type": "code",
   "execution_count": 47,
   "metadata": {
    "collapsed": false
   },
   "outputs": [
    {
     "data": {
      "text/plain": [
       "0    $115 \n",
       "1    $115 \n",
       "2    $115 \n",
       "3    $115 \n",
       "4    $115 \n",
       "Name: All other areas, dtype: object"
      ]
     },
     "execution_count": 47,
     "metadata": {},
     "output_type": "execute_result"
    }
   ],
   "source": [
    "new_violations_df['All other areas'].apply(convert_to_str).head()"
   ]
  },
  {
   "cell_type": "code",
   "execution_count": 48,
   "metadata": {
    "collapsed": false
   },
   "outputs": [
    {
     "data": {
      "text/html": [
       "<div>\n",
       "<table border=\"1\" class=\"dataframe\">\n",
       "  <thead>\n",
       "    <tr style=\"text-align: right;\">\n",
       "      <th></th>\n",
       "      <th>Summons Number</th>\n",
       "      <th>Plate ID</th>\n",
       "      <th>Registration State</th>\n",
       "      <th>Plate Type</th>\n",
       "      <th>Issue Date</th>\n",
       "      <th>Violation Code</th>\n",
       "      <th>Vehicle Body Type</th>\n",
       "      <th>Vehicle Make</th>\n",
       "      <th>Issuing Agency</th>\n",
       "      <th>Street Code1</th>\n",
       "      <th>...</th>\n",
       "      <th>Hydrant Violation</th>\n",
       "      <th>Double Parking Violation</th>\n",
       "      <th>New Issue Date</th>\n",
       "      <th>New Vehicle Expiration Date</th>\n",
       "      <th>Violation code</th>\n",
       "      <th>CODE</th>\n",
       "      <th>DEFINITION</th>\n",
       "      <th>Manhattan 96th &amp; below</th>\n",
       "      <th>All other areas</th>\n",
       "      <th>Code</th>\n",
       "    </tr>\n",
       "  </thead>\n",
       "  <tbody>\n",
       "    <tr>\n",
       "      <th>0</th>\n",
       "      <td>1283294138</td>\n",
       "      <td>GBB9093</td>\n",
       "      <td>NY</td>\n",
       "      <td>PAS</td>\n",
       "      <td>08/04/2013</td>\n",
       "      <td>46</td>\n",
       "      <td>SUBN</td>\n",
       "      <td>AUDI</td>\n",
       "      <td>P</td>\n",
       "      <td>37250</td>\n",
       "      <td>...</td>\n",
       "      <td>NaN</td>\n",
       "      <td>NaN</td>\n",
       "      <td>2013-08-04</td>\n",
       "      <td>2014-08-31</td>\n",
       "      <td>46</td>\n",
       "      <td>46</td>\n",
       "      <td>Standing or parking on the roadway side of a v...</td>\n",
       "      <td>$115</td>\n",
       "      <td>$115</td>\n",
       "      <td>46</td>\n",
       "    </tr>\n",
       "    <tr>\n",
       "      <th>1</th>\n",
       "      <td>1283294151</td>\n",
       "      <td>62416MB</td>\n",
       "      <td>NY</td>\n",
       "      <td>COM</td>\n",
       "      <td>08/04/2013</td>\n",
       "      <td>46</td>\n",
       "      <td>VAN</td>\n",
       "      <td>FORD</td>\n",
       "      <td>P</td>\n",
       "      <td>37290</td>\n",
       "      <td>...</td>\n",
       "      <td>NaN</td>\n",
       "      <td>NaN</td>\n",
       "      <td>2013-08-04</td>\n",
       "      <td>2014-04-30</td>\n",
       "      <td>46</td>\n",
       "      <td>46</td>\n",
       "      <td>Standing or parking on the roadway side of a v...</td>\n",
       "      <td>$115</td>\n",
       "      <td>$115</td>\n",
       "      <td>46</td>\n",
       "    </tr>\n",
       "    <tr>\n",
       "      <th>2</th>\n",
       "      <td>1283294163</td>\n",
       "      <td>78755JZ</td>\n",
       "      <td>NY</td>\n",
       "      <td>COM</td>\n",
       "      <td>08/05/2013</td>\n",
       "      <td>46</td>\n",
       "      <td>P-U</td>\n",
       "      <td>CHEVR</td>\n",
       "      <td>P</td>\n",
       "      <td>37030</td>\n",
       "      <td>...</td>\n",
       "      <td>NaN</td>\n",
       "      <td>NaN</td>\n",
       "      <td>2013-08-05</td>\n",
       "      <td>2014-02-28</td>\n",
       "      <td>46</td>\n",
       "      <td>46</td>\n",
       "      <td>Standing or parking on the roadway side of a v...</td>\n",
       "      <td>$115</td>\n",
       "      <td>$115</td>\n",
       "      <td>46</td>\n",
       "    </tr>\n",
       "    <tr>\n",
       "      <th>3</th>\n",
       "      <td>1283294175</td>\n",
       "      <td>63009MA</td>\n",
       "      <td>NY</td>\n",
       "      <td>COM</td>\n",
       "      <td>08/05/2013</td>\n",
       "      <td>46</td>\n",
       "      <td>VAN</td>\n",
       "      <td>FORD</td>\n",
       "      <td>P</td>\n",
       "      <td>37270</td>\n",
       "      <td>...</td>\n",
       "      <td>NaN</td>\n",
       "      <td>NaN</td>\n",
       "      <td>2013-08-05</td>\n",
       "      <td>2014-10-31</td>\n",
       "      <td>46</td>\n",
       "      <td>46</td>\n",
       "      <td>Standing or parking on the roadway side of a v...</td>\n",
       "      <td>$115</td>\n",
       "      <td>$115</td>\n",
       "      <td>46</td>\n",
       "    </tr>\n",
       "    <tr>\n",
       "      <th>4</th>\n",
       "      <td>1290834374</td>\n",
       "      <td>42587JW</td>\n",
       "      <td>NY</td>\n",
       "      <td>COM</td>\n",
       "      <td>07/30/2013</td>\n",
       "      <td>46</td>\n",
       "      <td>DELV</td>\n",
       "      <td>FORD</td>\n",
       "      <td>P</td>\n",
       "      <td>65590</td>\n",
       "      <td>...</td>\n",
       "      <td>NaN</td>\n",
       "      <td>NaN</td>\n",
       "      <td>2013-07-30</td>\n",
       "      <td>2014-12-19</td>\n",
       "      <td>46</td>\n",
       "      <td>46</td>\n",
       "      <td>Standing or parking on the roadway side of a v...</td>\n",
       "      <td>$115</td>\n",
       "      <td>$115</td>\n",
       "      <td>46</td>\n",
       "    </tr>\n",
       "  </tbody>\n",
       "</table>\n",
       "<p>5 rows × 51 columns</p>\n",
       "</div>"
      ],
      "text/plain": [
       "   Summons Number Plate ID Registration State Plate Type  Issue Date  \\\n",
       "0      1283294138  GBB9093                 NY        PAS  08/04/2013   \n",
       "1      1283294151  62416MB                 NY        COM  08/04/2013   \n",
       "2      1283294163  78755JZ                 NY        COM  08/05/2013   \n",
       "3      1283294175  63009MA                 NY        COM  08/05/2013   \n",
       "4      1290834374  42587JW                 NY        COM  07/30/2013   \n",
       "\n",
       "   Violation Code Vehicle Body Type Vehicle Make Issuing Agency  Street Code1  \\\n",
       "0              46              SUBN         AUDI              P         37250   \n",
       "1              46               VAN         FORD              P         37290   \n",
       "2              46               P-U        CHEVR              P         37030   \n",
       "3              46               VAN         FORD              P         37270   \n",
       "4              46              DELV         FORD              P         65590   \n",
       "\n",
       "  ...   Hydrant Violation  Double Parking Violation  New Issue Date  \\\n",
       "0 ...                 NaN                       NaN      2013-08-04   \n",
       "1 ...                 NaN                       NaN      2013-08-04   \n",
       "2 ...                 NaN                       NaN      2013-08-05   \n",
       "3 ...                 NaN                       NaN      2013-08-05   \n",
       "4 ...                 NaN                       NaN      2013-07-30   \n",
       "\n",
       "   New Vehicle Expiration Date  Violation code  CODE  \\\n",
       "0                   2014-08-31              46    46   \n",
       "1                   2014-04-30              46    46   \n",
       "2                   2014-02-28              46    46   \n",
       "3                   2014-10-31              46    46   \n",
       "4                   2014-12-19              46    46   \n",
       "\n",
       "                                          DEFINITION Manhattan 96th & below  \\\n",
       "0  Standing or parking on the roadway side of a v...                  $115    \n",
       "1  Standing or parking on the roadway side of a v...                  $115    \n",
       "2  Standing or parking on the roadway side of a v...                  $115    \n",
       "3  Standing or parking on the roadway side of a v...                  $115    \n",
       "4  Standing or parking on the roadway side of a v...                  $115    \n",
       "\n",
       "   All other areas Code  \n",
       "0            $115    46  \n",
       "1            $115    46  \n",
       "2            $115    46  \n",
       "3            $115    46  \n",
       "4            $115    46  \n",
       "\n",
       "[5 rows x 51 columns]"
      ]
     },
     "execution_count": 48,
     "metadata": {},
     "output_type": "execute_result"
    }
   ],
   "source": [
    "new_violations_df = new_violations_df[new_violations_df['Manhattan 96th & below'] != 'vary']\n",
    "new_violations_df.head()"
   ]
  },
  {
   "cell_type": "code",
   "execution_count": 49,
   "metadata": {
    "collapsed": true
   },
   "outputs": [],
   "source": [
    "import re\n",
    "def strip_and_convert_to_int(string):\n",
    "    match = re.findall(r\"^\\$?\\d*\", string)\n",
    "    if match:\n",
    "        new_string = string.replace(\"$\", \"\").split()\n",
    "        new_int = int(new_string[0])\n",
    "        return new_int\n",
    "    else:\n",
    "        return None\n",
    "    "
   ]
  },
  {
   "cell_type": "code",
   "execution_count": 50,
   "metadata": {
    "collapsed": false
   },
   "outputs": [],
   "source": [
    "new_violations_df['Manhattan 96th and below'] = new_violations_df['Manhattan 96th & below'].apply(strip_and_convert_to_int)"
   ]
  },
  {
   "cell_type": "code",
   "execution_count": 51,
   "metadata": {
    "collapsed": false
   },
   "outputs": [
    {
     "data": {
      "text/html": [
       "<div>\n",
       "<table border=\"1\" class=\"dataframe\">\n",
       "  <thead>\n",
       "    <tr style=\"text-align: right;\">\n",
       "      <th></th>\n",
       "      <th>Summons Number</th>\n",
       "      <th>Plate ID</th>\n",
       "      <th>Registration State</th>\n",
       "      <th>Plate Type</th>\n",
       "      <th>Issue Date</th>\n",
       "      <th>Violation Code</th>\n",
       "      <th>Vehicle Body Type</th>\n",
       "      <th>Vehicle Make</th>\n",
       "      <th>Issuing Agency</th>\n",
       "      <th>Street Code1</th>\n",
       "      <th>...</th>\n",
       "      <th>Double Parking Violation</th>\n",
       "      <th>New Issue Date</th>\n",
       "      <th>New Vehicle Expiration Date</th>\n",
       "      <th>Violation code</th>\n",
       "      <th>CODE</th>\n",
       "      <th>DEFINITION</th>\n",
       "      <th>Manhattan 96th &amp; below</th>\n",
       "      <th>All other areas</th>\n",
       "      <th>Code</th>\n",
       "      <th>Manhattan 96th and below</th>\n",
       "    </tr>\n",
       "  </thead>\n",
       "  <tbody>\n",
       "    <tr>\n",
       "      <th>0</th>\n",
       "      <td>1283294138</td>\n",
       "      <td>GBB9093</td>\n",
       "      <td>NY</td>\n",
       "      <td>PAS</td>\n",
       "      <td>08/04/2013</td>\n",
       "      <td>46</td>\n",
       "      <td>SUBN</td>\n",
       "      <td>AUDI</td>\n",
       "      <td>P</td>\n",
       "      <td>37250</td>\n",
       "      <td>...</td>\n",
       "      <td>NaN</td>\n",
       "      <td>2013-08-04</td>\n",
       "      <td>2014-08-31</td>\n",
       "      <td>46</td>\n",
       "      <td>46</td>\n",
       "      <td>Standing or parking on the roadway side of a v...</td>\n",
       "      <td>$115</td>\n",
       "      <td>$115</td>\n",
       "      <td>46</td>\n",
       "      <td>115</td>\n",
       "    </tr>\n",
       "    <tr>\n",
       "      <th>1</th>\n",
       "      <td>1283294151</td>\n",
       "      <td>62416MB</td>\n",
       "      <td>NY</td>\n",
       "      <td>COM</td>\n",
       "      <td>08/04/2013</td>\n",
       "      <td>46</td>\n",
       "      <td>VAN</td>\n",
       "      <td>FORD</td>\n",
       "      <td>P</td>\n",
       "      <td>37290</td>\n",
       "      <td>...</td>\n",
       "      <td>NaN</td>\n",
       "      <td>2013-08-04</td>\n",
       "      <td>2014-04-30</td>\n",
       "      <td>46</td>\n",
       "      <td>46</td>\n",
       "      <td>Standing or parking on the roadway side of a v...</td>\n",
       "      <td>$115</td>\n",
       "      <td>$115</td>\n",
       "      <td>46</td>\n",
       "      <td>115</td>\n",
       "    </tr>\n",
       "    <tr>\n",
       "      <th>2</th>\n",
       "      <td>1283294163</td>\n",
       "      <td>78755JZ</td>\n",
       "      <td>NY</td>\n",
       "      <td>COM</td>\n",
       "      <td>08/05/2013</td>\n",
       "      <td>46</td>\n",
       "      <td>P-U</td>\n",
       "      <td>CHEVR</td>\n",
       "      <td>P</td>\n",
       "      <td>37030</td>\n",
       "      <td>...</td>\n",
       "      <td>NaN</td>\n",
       "      <td>2013-08-05</td>\n",
       "      <td>2014-02-28</td>\n",
       "      <td>46</td>\n",
       "      <td>46</td>\n",
       "      <td>Standing or parking on the roadway side of a v...</td>\n",
       "      <td>$115</td>\n",
       "      <td>$115</td>\n",
       "      <td>46</td>\n",
       "      <td>115</td>\n",
       "    </tr>\n",
       "    <tr>\n",
       "      <th>3</th>\n",
       "      <td>1283294175</td>\n",
       "      <td>63009MA</td>\n",
       "      <td>NY</td>\n",
       "      <td>COM</td>\n",
       "      <td>08/05/2013</td>\n",
       "      <td>46</td>\n",
       "      <td>VAN</td>\n",
       "      <td>FORD</td>\n",
       "      <td>P</td>\n",
       "      <td>37270</td>\n",
       "      <td>...</td>\n",
       "      <td>NaN</td>\n",
       "      <td>2013-08-05</td>\n",
       "      <td>2014-10-31</td>\n",
       "      <td>46</td>\n",
       "      <td>46</td>\n",
       "      <td>Standing or parking on the roadway side of a v...</td>\n",
       "      <td>$115</td>\n",
       "      <td>$115</td>\n",
       "      <td>46</td>\n",
       "      <td>115</td>\n",
       "    </tr>\n",
       "    <tr>\n",
       "      <th>4</th>\n",
       "      <td>1290834374</td>\n",
       "      <td>42587JW</td>\n",
       "      <td>NY</td>\n",
       "      <td>COM</td>\n",
       "      <td>07/30/2013</td>\n",
       "      <td>46</td>\n",
       "      <td>DELV</td>\n",
       "      <td>FORD</td>\n",
       "      <td>P</td>\n",
       "      <td>65590</td>\n",
       "      <td>...</td>\n",
       "      <td>NaN</td>\n",
       "      <td>2013-07-30</td>\n",
       "      <td>2014-12-19</td>\n",
       "      <td>46</td>\n",
       "      <td>46</td>\n",
       "      <td>Standing or parking on the roadway side of a v...</td>\n",
       "      <td>$115</td>\n",
       "      <td>$115</td>\n",
       "      <td>46</td>\n",
       "      <td>115</td>\n",
       "    </tr>\n",
       "  </tbody>\n",
       "</table>\n",
       "<p>5 rows × 52 columns</p>\n",
       "</div>"
      ],
      "text/plain": [
       "   Summons Number Plate ID Registration State Plate Type  Issue Date  \\\n",
       "0      1283294138  GBB9093                 NY        PAS  08/04/2013   \n",
       "1      1283294151  62416MB                 NY        COM  08/04/2013   \n",
       "2      1283294163  78755JZ                 NY        COM  08/05/2013   \n",
       "3      1283294175  63009MA                 NY        COM  08/05/2013   \n",
       "4      1290834374  42587JW                 NY        COM  07/30/2013   \n",
       "\n",
       "   Violation Code Vehicle Body Type Vehicle Make Issuing Agency  Street Code1  \\\n",
       "0              46              SUBN         AUDI              P         37250   \n",
       "1              46               VAN         FORD              P         37290   \n",
       "2              46               P-U        CHEVR              P         37030   \n",
       "3              46               VAN         FORD              P         37270   \n",
       "4              46              DELV         FORD              P         65590   \n",
       "\n",
       "            ...             Double Parking Violation  New Issue Date  \\\n",
       "0           ...                                  NaN      2013-08-04   \n",
       "1           ...                                  NaN      2013-08-04   \n",
       "2           ...                                  NaN      2013-08-05   \n",
       "3           ...                                  NaN      2013-08-05   \n",
       "4           ...                                  NaN      2013-07-30   \n",
       "\n",
       "   New Vehicle Expiration Date  Violation code  CODE  \\\n",
       "0                   2014-08-31              46    46   \n",
       "1                   2014-04-30              46    46   \n",
       "2                   2014-02-28              46    46   \n",
       "3                   2014-10-31              46    46   \n",
       "4                   2014-12-19              46    46   \n",
       "\n",
       "                                          DEFINITION  Manhattan 96th & below  \\\n",
       "0  Standing or parking on the roadway side of a v...                   $115    \n",
       "1  Standing or parking on the roadway side of a v...                   $115    \n",
       "2  Standing or parking on the roadway side of a v...                   $115    \n",
       "3  Standing or parking on the roadway side of a v...                   $115    \n",
       "4  Standing or parking on the roadway side of a v...                   $115    \n",
       "\n",
       "  All other areas  Code Manhattan 96th and below  \n",
       "0           $115     46                      115  \n",
       "1           $115     46                      115  \n",
       "2           $115     46                      115  \n",
       "3           $115     46                      115  \n",
       "4           $115     46                      115  \n",
       "\n",
       "[5 rows x 52 columns]"
      ]
     },
     "execution_count": 51,
     "metadata": {},
     "output_type": "execute_result"
    }
   ],
   "source": [
    "new_violations_df.head()"
   ]
  },
  {
   "cell_type": "code",
   "execution_count": 52,
   "metadata": {
    "collapsed": false
   },
   "outputs": [
    {
     "data": {
      "text/html": [
       "<div>\n",
       "<table border=\"1\" class=\"dataframe\">\n",
       "  <thead>\n",
       "    <tr style=\"text-align: right;\">\n",
       "      <th></th>\n",
       "      <th>Summons Number</th>\n",
       "      <th>Plate ID</th>\n",
       "      <th>Registration State</th>\n",
       "      <th>Plate Type</th>\n",
       "      <th>Issue Date</th>\n",
       "      <th>Violation Code</th>\n",
       "      <th>Vehicle Body Type</th>\n",
       "      <th>Vehicle Make</th>\n",
       "      <th>Issuing Agency</th>\n",
       "      <th>Street Code1</th>\n",
       "      <th>...</th>\n",
       "      <th>New Issue Date</th>\n",
       "      <th>New Vehicle Expiration Date</th>\n",
       "      <th>Violation code</th>\n",
       "      <th>CODE</th>\n",
       "      <th>DEFINITION</th>\n",
       "      <th>Manhattan 96th &amp; below</th>\n",
       "      <th>All other areas</th>\n",
       "      <th>Code</th>\n",
       "      <th>Manhattan 96th and below</th>\n",
       "      <th>All Other Areas</th>\n",
       "    </tr>\n",
       "  </thead>\n",
       "  <tbody>\n",
       "    <tr>\n",
       "      <th>635</th>\n",
       "      <td>1333609826</td>\n",
       "      <td>GCL1507</td>\n",
       "      <td>NY</td>\n",
       "      <td>PAS</td>\n",
       "      <td>07/18/2013</td>\n",
       "      <td>75</td>\n",
       "      <td>SDN</td>\n",
       "      <td>NISSA</td>\n",
       "      <td>T</td>\n",
       "      <td>89930</td>\n",
       "      <td>...</td>\n",
       "      <td>2013-07-18</td>\n",
       "      <td>2015-04-29</td>\n",
       "      <td>75</td>\n",
       "      <td>75</td>\n",
       "      <td>Standing or parking a vehicle in which the Lic...</td>\n",
       "      <td>$65</td>\n",
       "      <td>$65</td>\n",
       "      <td>75</td>\n",
       "      <td>65</td>\n",
       "      <td>65</td>\n",
       "    </tr>\n",
       "    <tr>\n",
       "      <th>636</th>\n",
       "      <td>1308157320</td>\n",
       "      <td>GFS4162</td>\n",
       "      <td>NY</td>\n",
       "      <td>PAS</td>\n",
       "      <td>07/19/2013</td>\n",
       "      <td>80</td>\n",
       "      <td>SUBN</td>\n",
       "      <td>CADIL</td>\n",
       "      <td>P</td>\n",
       "      <td>60810</td>\n",
       "      <td>...</td>\n",
       "      <td>2013-07-19</td>\n",
       "      <td>2014-01-21</td>\n",
       "      <td>80</td>\n",
       "      <td>80</td>\n",
       "      <td>Standing or parking a vehicle¬†without head la...</td>\n",
       "      <td>$60</td>\n",
       "      <td>$45</td>\n",
       "      <td>80</td>\n",
       "      <td>60</td>\n",
       "      <td>45</td>\n",
       "    </tr>\n",
       "    <tr>\n",
       "      <th>637</th>\n",
       "      <td>1308157344</td>\n",
       "      <td>GER6778</td>\n",
       "      <td>NY</td>\n",
       "      <td>PAS</td>\n",
       "      <td>07/19/2013</td>\n",
       "      <td>61</td>\n",
       "      <td>SDN</td>\n",
       "      <td>HYUND</td>\n",
       "      <td>P</td>\n",
       "      <td>22210</td>\n",
       "      <td>...</td>\n",
       "      <td>2013-07-19</td>\n",
       "      <td>2015-02-01</td>\n",
       "      <td>61</td>\n",
       "      <td>61</td>\n",
       "      <td>Except where angle parking is allowed, stoppin...</td>\n",
       "      <td>$65</td>\n",
       "      <td>$45</td>\n",
       "      <td>61</td>\n",
       "      <td>65</td>\n",
       "      <td>45</td>\n",
       "    </tr>\n",
       "    <tr>\n",
       "      <th>638</th>\n",
       "      <td>1334736820</td>\n",
       "      <td>GGN3919</td>\n",
       "      <td>NY</td>\n",
       "      <td>OMS</td>\n",
       "      <td>08/13/2013</td>\n",
       "      <td>61</td>\n",
       "      <td>SDN</td>\n",
       "      <td>FORD</td>\n",
       "      <td>X</td>\n",
       "      <td>6380</td>\n",
       "      <td>...</td>\n",
       "      <td>2013-08-13</td>\n",
       "      <td>2014-09-30</td>\n",
       "      <td>61</td>\n",
       "      <td>61</td>\n",
       "      <td>Except where angle parking is allowed, stoppin...</td>\n",
       "      <td>$65</td>\n",
       "      <td>$45</td>\n",
       "      <td>61</td>\n",
       "      <td>65</td>\n",
       "      <td>45</td>\n",
       "    </tr>\n",
       "    <tr>\n",
       "      <th>639</th>\n",
       "      <td>1333925347</td>\n",
       "      <td>97431JZ</td>\n",
       "      <td>NY</td>\n",
       "      <td>COM</td>\n",
       "      <td>08/09/2013</td>\n",
       "      <td>45</td>\n",
       "      <td>DELV</td>\n",
       "      <td>HINO</td>\n",
       "      <td>T</td>\n",
       "      <td>18170</td>\n",
       "      <td>...</td>\n",
       "      <td>2013-08-09</td>\n",
       "      <td>2013-12-31</td>\n",
       "      <td>45</td>\n",
       "      <td>45</td>\n",
       "      <td>Stopping, standing or parking in a traffic lan...</td>\n",
       "      <td>$115</td>\n",
       "      <td>$115</td>\n",
       "      <td>45</td>\n",
       "      <td>115</td>\n",
       "      <td>115</td>\n",
       "    </tr>\n",
       "  </tbody>\n",
       "</table>\n",
       "<p>5 rows × 53 columns</p>\n",
       "</div>"
      ],
      "text/plain": [
       "     Summons Number Plate ID Registration State Plate Type  Issue Date  \\\n",
       "635      1333609826  GCL1507                 NY        PAS  07/18/2013   \n",
       "636      1308157320  GFS4162                 NY        PAS  07/19/2013   \n",
       "637      1308157344  GER6778                 NY        PAS  07/19/2013   \n",
       "638      1334736820  GGN3919                 NY        OMS  08/13/2013   \n",
       "639      1333925347  97431JZ                 NY        COM  08/09/2013   \n",
       "\n",
       "     Violation Code Vehicle Body Type Vehicle Make Issuing Agency  \\\n",
       "635              75               SDN        NISSA              T   \n",
       "636              80              SUBN        CADIL              P   \n",
       "637              61               SDN        HYUND              P   \n",
       "638              61               SDN         FORD              X   \n",
       "639              45              DELV         HINO              T   \n",
       "\n",
       "     Street Code1       ...        New Issue Date  \\\n",
       "635         89930       ...            2013-07-18   \n",
       "636         60810       ...            2013-07-19   \n",
       "637         22210       ...            2013-07-19   \n",
       "638          6380       ...            2013-08-13   \n",
       "639         18170       ...            2013-08-09   \n",
       "\n",
       "     New Vehicle Expiration Date  Violation code  CODE  \\\n",
       "635                   2015-04-29              75    75   \n",
       "636                   2014-01-21              80    80   \n",
       "637                   2015-02-01              61    61   \n",
       "638                   2014-09-30              61    61   \n",
       "639                   2013-12-31              45    45   \n",
       "\n",
       "                                            DEFINITION  \\\n",
       "635  Standing or parking a vehicle in which the Lic...   \n",
       "636  Standing or parking a vehicle¬†without head la...   \n",
       "637  Except where angle parking is allowed, stoppin...   \n",
       "638  Except where angle parking is allowed, stoppin...   \n",
       "639  Stopping, standing or parking in a traffic lan...   \n",
       "\n",
       "     Manhattan 96th & below  All other areas Code  Manhattan 96th and below  \\\n",
       "635                    $65              $65    75                        65   \n",
       "636                    $60              $45    80                        60   \n",
       "637                    $65              $45    61                        65   \n",
       "638                    $65              $45    61                        65   \n",
       "639                   $115             $115    45                       115   \n",
       "\n",
       "    All Other Areas  \n",
       "635              65  \n",
       "636              45  \n",
       "637              45  \n",
       "638              45  \n",
       "639             115  \n",
       "\n",
       "[5 rows x 53 columns]"
      ]
     },
     "execution_count": 52,
     "metadata": {},
     "output_type": "execute_result"
    }
   ],
   "source": [
    "new_violations_df['All Other Areas'] = new_violations_df['All other areas'].apply(strip_and_convert_to_int)\n",
    "new_violations_df.tail()"
   ]
  },
  {
   "cell_type": "code",
   "execution_count": 53,
   "metadata": {
    "collapsed": false
   },
   "outputs": [
    {
     "data": {
      "text/plain": [
       "45     246\n",
       "115    210\n",
       "60      83\n",
       "95      75\n",
       "65      16\n",
       "Name: All Other Areas, dtype: int64"
      ]
     },
     "execution_count": 53,
     "metadata": {},
     "output_type": "execute_result"
    }
   ],
   "source": [
    "new_violations_df['All Other Areas'].value_counts().head()"
   ]
  },
  {
   "cell_type": "code",
   "execution_count": 72,
   "metadata": {
    "collapsed": false
   },
   "outputs": [
    {
     "data": {
      "text/plain": [
       "50150"
      ]
     },
     "execution_count": 72,
     "metadata": {},
     "output_type": "execute_result"
    }
   ],
   "source": [
    "violations_per_code_manhattan = new_violations_df.groupby('Violation code')['All Other Areas'].sum()\n",
    "violations_per_code_manhattan.sum()"
   ]
  },
  {
   "cell_type": "code",
   "execution_count": 55,
   "metadata": {
    "collapsed": false
   },
   "outputs": [
    {
     "data": {
      "text/plain": [
       "55180"
      ]
     },
     "execution_count": 55,
     "metadata": {},
     "output_type": "execute_result"
    }
   ],
   "source": [
    "violations_per_code_rest = new_violations_df.groupby('Violation code')['Manhattan 96th and below'].sum()\n",
    "violations_per_code_rest.sum()"
   ]
  },
  {
   "cell_type": "code",
   "execution_count": 56,
   "metadata": {
    "collapsed": true
   },
   "outputs": [],
   "source": [
    "total_violations_income = violations_per_code_rest.sum() + violations_per_code_manhattan.sum()"
   ]
  },
  {
   "cell_type": "code",
   "execution_count": 57,
   "metadata": {
    "collapsed": false
   },
   "outputs": [
    {
     "data": {
      "text/plain": [
       "105330"
      ]
     },
     "execution_count": 57,
     "metadata": {},
     "output_type": "execute_result"
    }
   ],
   "source": [
    "total_violations_income"
   ]
  },
  {
   "cell_type": "markdown",
   "metadata": {},
   "source": [
    "## 9) What's the most lucrative kind of parking violation? The most frequent?"
   ]
  },
  {
   "cell_type": "code",
   "execution_count": 58,
   "metadata": {
    "collapsed": false
   },
   "outputs": [
    {
     "data": {
      "text/plain": [
       "Violation code\n",
       "21    10935\n",
       "14     8165\n",
       "19     6440\n",
       "17     5510\n",
       "46     5405\n",
       "20     3180\n",
       "40     2760\n",
       "24     1740\n",
       "67      825\n",
       "51      690\n",
       "94      600\n",
       "98      570\n",
       "63      570\n",
       "16      475\n",
       "71      455\n",
       "27      360\n",
       "50      345\n",
       "74      325\n",
       "78      195\n",
       "31      115\n",
       "18      115\n",
       "45      115\n",
       "61       90\n",
       "75       65\n",
       "39       60\n",
       "80       45\n",
       "Name: All Other Areas, dtype: int64"
      ]
     },
     "execution_count": 58,
     "metadata": {},
     "output_type": "execute_result"
    }
   ],
   "source": [
    "violations_per_code_manhattan.sort_values(ascending=False)"
   ]
  },
  {
   "cell_type": "code",
   "execution_count": 59,
   "metadata": {
    "collapsed": false
   },
   "outputs": [
    {
     "data": {
      "text/plain": [
       "Violation code\n",
       "21    15795\n",
       "14     8165\n",
       "19     6440\n",
       "17     5510\n",
       "46     5405\n",
       "20     3445\n",
       "40     2760\n",
       "24     1885\n",
       "67      825\n",
       "51      690\n",
       "98      570\n",
       "63      570\n",
       "16      475\n",
       "71      455\n",
       "27      360\n",
       "50      345\n",
       "74      325\n",
       "94      300\n",
       "78      195\n",
       "61      130\n",
       "31      115\n",
       "18      115\n",
       "45      115\n",
       "39       65\n",
       "75       65\n",
       "80       60\n",
       "Name: Manhattan 96th and below, dtype: int64"
      ]
     },
     "execution_count": 59,
     "metadata": {},
     "output_type": "execute_result"
    }
   ],
   "source": [
    "violations_per_code_rest.sort_values(ascending=False)"
   ]
  },
  {
   "cell_type": "code",
   "execution_count": 60,
   "metadata": {
    "collapsed": false
   },
   "outputs": [
    {
     "data": {
      "text/plain": [
       "21    243\n",
       "14     71\n",
       "17     58\n",
       "19     56\n",
       "20     53\n",
       "46     47\n",
       "24     29\n",
       "40     24\n",
       "71      7\n",
       "51      6\n",
       "63      6\n",
       "98      6\n",
       "74      5\n",
       "67      5\n",
       "16      5\n",
       "78      3\n",
       "50      3\n",
       "94      3\n",
       "27      2\n",
       "61      2\n",
       "39      1\n",
       "45      1\n",
       "31      1\n",
       "75      1\n",
       "18      1\n",
       "80      1\n",
       "Name: Violation code, dtype: int64"
      ]
     },
     "execution_count": 60,
     "metadata": {},
     "output_type": "execute_result"
    }
   ],
   "source": [
    "new_violations_df['Violation code'].value_counts()"
   ]
  },
  {
   "cell_type": "markdown",
   "metadata": {},
   "source": [
    "## 10) New Jersey has bad drivers, but does it have bad parkers, too? How much money does NYC make off of all non-New York vehicles?"
   ]
  },
  {
   "cell_type": "code",
   "execution_count": 61,
   "metadata": {
    "collapsed": false
   },
   "outputs": [
    {
     "data": {
      "text/html": [
       "<div>\n",
       "<table border=\"1\" class=\"dataframe\">\n",
       "  <thead>\n",
       "    <tr style=\"text-align: right;\">\n",
       "      <th></th>\n",
       "      <th>Summons Number</th>\n",
       "      <th>Plate ID</th>\n",
       "      <th>Registration State</th>\n",
       "      <th>Plate Type</th>\n",
       "      <th>Issue Date</th>\n",
       "      <th>Violation Code</th>\n",
       "      <th>Vehicle Body Type</th>\n",
       "      <th>Vehicle Make</th>\n",
       "      <th>Issuing Agency</th>\n",
       "      <th>Street Code1</th>\n",
       "      <th>...</th>\n",
       "      <th>New Issue Date</th>\n",
       "      <th>New Vehicle Expiration Date</th>\n",
       "      <th>Violation code</th>\n",
       "      <th>CODE</th>\n",
       "      <th>DEFINITION</th>\n",
       "      <th>Manhattan 96th &amp; below</th>\n",
       "      <th>All other areas</th>\n",
       "      <th>Code</th>\n",
       "      <th>Manhattan 96th and below</th>\n",
       "      <th>All Other Areas</th>\n",
       "    </tr>\n",
       "  </thead>\n",
       "  <tbody>\n",
       "    <tr>\n",
       "      <th>17</th>\n",
       "      <td>1307452590</td>\n",
       "      <td>40470JU</td>\n",
       "      <td>99</td>\n",
       "      <td>COM</td>\n",
       "      <td>08/12/2013</td>\n",
       "      <td>46</td>\n",
       "      <td>DELV</td>\n",
       "      <td>MERCU</td>\n",
       "      <td>P</td>\n",
       "      <td>10110</td>\n",
       "      <td>...</td>\n",
       "      <td>2013-08-12</td>\n",
       "      <td>2014-06-30</td>\n",
       "      <td>46</td>\n",
       "      <td>46</td>\n",
       "      <td>Standing or parking on the roadway side of a v...</td>\n",
       "      <td>$115</td>\n",
       "      <td>$115</td>\n",
       "      <td>46</td>\n",
       "      <td>115</td>\n",
       "      <td>115</td>\n",
       "    </tr>\n",
       "    <tr>\n",
       "      <th>30</th>\n",
       "      <td>1295551032</td>\n",
       "      <td>YZR9642</td>\n",
       "      <td>PA</td>\n",
       "      <td>PAS</td>\n",
       "      <td>07/29/2013</td>\n",
       "      <td>46</td>\n",
       "      <td>DELV</td>\n",
       "      <td>FREIT</td>\n",
       "      <td>P</td>\n",
       "      <td>28265</td>\n",
       "      <td>...</td>\n",
       "      <td>2013-07-29</td>\n",
       "      <td>2013-08-31</td>\n",
       "      <td>46</td>\n",
       "      <td>46</td>\n",
       "      <td>Standing or parking on the roadway side of a v...</td>\n",
       "      <td>$115</td>\n",
       "      <td>$115</td>\n",
       "      <td>46</td>\n",
       "      <td>115</td>\n",
       "      <td>115</td>\n",
       "    </tr>\n",
       "    <tr>\n",
       "      <th>44</th>\n",
       "      <td>1334596608</td>\n",
       "      <td>GEB5618</td>\n",
       "      <td>99</td>\n",
       "      <td>PAS</td>\n",
       "      <td>08/13/2013</td>\n",
       "      <td>46</td>\n",
       "      <td>SUBN</td>\n",
       "      <td>HONDA</td>\n",
       "      <td>S</td>\n",
       "      <td>36690</td>\n",
       "      <td>...</td>\n",
       "      <td>2013-08-13</td>\n",
       "      <td>2015-01-11</td>\n",
       "      <td>46</td>\n",
       "      <td>46</td>\n",
       "      <td>Standing or parking on the roadway side of a v...</td>\n",
       "      <td>$115</td>\n",
       "      <td>$115</td>\n",
       "      <td>46</td>\n",
       "      <td>115</td>\n",
       "      <td>115</td>\n",
       "    </tr>\n",
       "    <tr>\n",
       "      <th>77</th>\n",
       "      <td>1333711451</td>\n",
       "      <td>GPJ3413</td>\n",
       "      <td>PA</td>\n",
       "      <td>PAS</td>\n",
       "      <td>07/07/2013</td>\n",
       "      <td>14</td>\n",
       "      <td>SDN</td>\n",
       "      <td>ACURA</td>\n",
       "      <td>T</td>\n",
       "      <td>34850</td>\n",
       "      <td>...</td>\n",
       "      <td>2013-07-07</td>\n",
       "      <td>NaT</td>\n",
       "      <td>14</td>\n",
       "      <td>14</td>\n",
       "      <td>General No Standing: Standing or parking where...</td>\n",
       "      <td>$115</td>\n",
       "      <td>$115</td>\n",
       "      <td>14</td>\n",
       "      <td>115</td>\n",
       "      <td>115</td>\n",
       "    </tr>\n",
       "    <tr>\n",
       "      <th>129</th>\n",
       "      <td>1308415473</td>\n",
       "      <td>H2749F</td>\n",
       "      <td>99</td>\n",
       "      <td>999</td>\n",
       "      <td>07/17/2013</td>\n",
       "      <td>24</td>\n",
       "      <td>SUBN</td>\n",
       "      <td>JEEP</td>\n",
       "      <td>X</td>\n",
       "      <td>0</td>\n",
       "      <td>...</td>\n",
       "      <td>2013-07-17</td>\n",
       "      <td>2013-11-30</td>\n",
       "      <td>24</td>\n",
       "      <td>24</td>\n",
       "      <td>Authorized Vehicles Only: No parking where par...</td>\n",
       "      <td>$65</td>\n",
       "      <td>$60</td>\n",
       "      <td>24</td>\n",
       "      <td>65</td>\n",
       "      <td>60</td>\n",
       "    </tr>\n",
       "  </tbody>\n",
       "</table>\n",
       "<p>5 rows × 53 columns</p>\n",
       "</div>"
      ],
      "text/plain": [
       "     Summons Number Plate ID Registration State Plate Type  Issue Date  \\\n",
       "17       1307452590  40470JU                 99        COM  08/12/2013   \n",
       "30       1295551032  YZR9642                 PA        PAS  07/29/2013   \n",
       "44       1334596608  GEB5618                 99        PAS  08/13/2013   \n",
       "77       1333711451  GPJ3413                 PA        PAS  07/07/2013   \n",
       "129      1308415473   H2749F                 99        999  07/17/2013   \n",
       "\n",
       "     Violation Code Vehicle Body Type Vehicle Make Issuing Agency  \\\n",
       "17               46              DELV        MERCU              P   \n",
       "30               46              DELV        FREIT              P   \n",
       "44               46              SUBN        HONDA              S   \n",
       "77               14               SDN        ACURA              T   \n",
       "129              24              SUBN         JEEP              X   \n",
       "\n",
       "     Street Code1       ...        New Issue Date  \\\n",
       "17          10110       ...            2013-08-12   \n",
       "30          28265       ...            2013-07-29   \n",
       "44          36690       ...            2013-08-13   \n",
       "77          34850       ...            2013-07-07   \n",
       "129             0       ...            2013-07-17   \n",
       "\n",
       "     New Vehicle Expiration Date  Violation code  CODE  \\\n",
       "17                    2014-06-30              46    46   \n",
       "30                    2013-08-31              46    46   \n",
       "44                    2015-01-11              46    46   \n",
       "77                           NaT              14    14   \n",
       "129                   2013-11-30              24    24   \n",
       "\n",
       "                                            DEFINITION  \\\n",
       "17   Standing or parking on the roadway side of a v...   \n",
       "30   Standing or parking on the roadway side of a v...   \n",
       "44   Standing or parking on the roadway side of a v...   \n",
       "77   General No Standing: Standing or parking where...   \n",
       "129  Authorized Vehicles Only: No parking where par...   \n",
       "\n",
       "     Manhattan 96th & below  All other areas Code  Manhattan 96th and below  \\\n",
       "17                    $115             $115    46                       115   \n",
       "30                    $115             $115    46                       115   \n",
       "44                    $115             $115    46                       115   \n",
       "77                    $115             $115    14                       115   \n",
       "129                    $65              $60    24                        65   \n",
       "\n",
       "    All Other Areas  \n",
       "17              115  \n",
       "30              115  \n",
       "44              115  \n",
       "77              115  \n",
       "129              60  \n",
       "\n",
       "[5 rows x 53 columns]"
      ]
     },
     "execution_count": 61,
     "metadata": {},
     "output_type": "execute_result"
    }
   ],
   "source": [
    "non_ny_vehicles_df = new_violations_df[new_violations_df['Registration State'] != 'NY']\n",
    "non_ny_vehicles_df.head()"
   ]
  },
  {
   "cell_type": "code",
   "execution_count": 62,
   "metadata": {
    "collapsed": false
   },
   "outputs": [
    {
     "data": {
      "text/plain": [
       "7215"
      ]
     },
     "execution_count": 62,
     "metadata": {},
     "output_type": "execute_result"
    }
   ],
   "source": [
    "violations_per_code_non_ny_other = non_ny_vehicles_df.groupby('Violation code')['All Other Areas'].sum()\n",
    "violations_per_code_non_ny_other.sum()"
   ]
  },
  {
   "cell_type": "code",
   "execution_count": 63,
   "metadata": {
    "collapsed": false
   },
   "outputs": [
    {
     "data": {
      "text/plain": [
       "7960"
      ]
     },
     "execution_count": 63,
     "metadata": {},
     "output_type": "execute_result"
    }
   ],
   "source": [
    "violations_per_code_non_ny_manhattan= non_ny_vehicles_df.groupby('Violation code')['Manhattan 96th and below'].sum()\n",
    "violations_per_code_non_ny_manhattan.sum()"
   ]
  },
  {
   "cell_type": "code",
   "execution_count": 64,
   "metadata": {
    "collapsed": false
   },
   "outputs": [
    {
     "data": {
      "text/plain": [
       "15175"
      ]
     },
     "execution_count": 64,
     "metadata": {},
     "output_type": "execute_result"
    }
   ],
   "source": [
    "all_violations_non_ny = violations_per_code_non_ny_other.sum()+violations_per_code_non_ny_manhattan.sum()\n",
    "all_violations_non_ny"
   ]
  },
  {
   "cell_type": "markdown",
   "metadata": {},
   "source": [
    "## 11) Make a chart of the top few"
   ]
  },
  {
   "cell_type": "code",
   "execution_count": 65,
   "metadata": {
    "collapsed": true
   },
   "outputs": [],
   "source": [
    "%matplotlib inline"
   ]
  },
  {
   "cell_type": "code",
   "execution_count": 66,
   "metadata": {
    "collapsed": false
   },
   "outputs": [
    {
     "data": {
      "text/plain": [
       "<matplotlib.axes._subplots.AxesSubplot at 0x10a2927f0>"
      ]
     },
     "execution_count": 66,
     "metadata": {},
     "output_type": "execute_result"
    },
    {
     "data": {
      "image/png": "[encoded data removed]",
      "text/plain": [
       "<matplotlib.figure.Figure at 0x10a1ed438>"
      ]
     },
     "metadata": {},
     "output_type": "display_data"
    }
   ],
   "source": [
    "violations_per_code_non_ny_other.sort_values(ascending=False).plot(kind='bar', x='Violation code')"
   ]
  },
  {
   "cell_type": "code",
   "execution_count": 67,
   "metadata": {
    "collapsed": false
   },
   "outputs": [
    {
     "data": {
      "text/plain": [
       "<matplotlib.axes._subplots.AxesSubplot at 0x10a2ac780>"
      ]
     },
     "execution_count": 67,
     "metadata": {},
     "output_type": "execute_result"
    },
    {
     "data": {
      "image/png": "[encoded data removed]",
      "text/plain": [
       "<matplotlib.figure.Figure at 0x10a30dc50>"
      ]
     },
     "metadata": {},
     "output_type": "display_data"
    }
   ],
   "source": [
    "violations_per_code_non_ny_manhattan.sort_values(ascending=False).plot(kind='bar', x='Violation code')"
   ]
  },
  {
   "cell_type": "markdown",
   "metadata": {},
   "source": [
    "## 12) What time of day do people usually get their tickets? You can break the day up into several blocks - for example12am-6am, 6am-12pm, 12pm-6pm, 6pm-12am."
   ]
  },
  {
   "cell_type": "markdown",
   "metadata": {
    "collapsed": true
   },
   "source": [
    "## 13) What's the average ticket cost in NYC?"
   ]
  },
  {
   "cell_type": "code",
   "execution_count": 68,
   "metadata": {
    "collapsed": false
   },
   "outputs": [
    {
     "data": {
      "text/plain": [
       "164.578125"
      ]
     },
     "execution_count": 68,
     "metadata": {},
     "output_type": "execute_result"
    }
   ],
   "source": [
    "average_ticket_cost = total_violations_income / new_violations_df['Violation code'].value_counts().sum()\n",
    "average_ticket_cost"
   ]
  },
  {
   "cell_type": "markdown",
   "metadata": {
    "collapsed": true
   },
   "source": [
    "## 14) Make a graph of the number of tickets per day."
   ]
  },
  {
   "cell_type": "code",
   "execution_count": 69,
   "metadata": {
    "collapsed": false
   },
   "outputs": [
    {
     "data": {
      "text/plain": [
       "<matplotlib.axes._subplots.AxesSubplot at 0x10a399780>"
      ]
     },
     "execution_count": 69,
     "metadata": {},
     "output_type": "execute_result"
    },
    {
     "data": {
      "image/png": "[encoded data removed]",
      "text/plain": [
       "<matplotlib.figure.Figure at 0x10a39efd0>"
      ]
     },
     "metadata": {},
     "output_type": "display_data"
    }
   ],
   "source": [
    "new_violations_df['Issue Date'].value_counts().head(10).plot(kind='barh')"
   ]
  },
  {
   "cell_type": "markdown",
   "metadata": {},
   "source": [
    "## 15) Make a graph of the amount of revenue collected per day."
   ]
  },
  {
   "cell_type": "code",
   "execution_count": 144,
   "metadata": {
    "collapsed": false
   },
   "outputs": [
    {
     "data": {
      "text/plain": [
       "<matplotlib.axes._subplots.AxesSubplot at 0x10ac440f0>"
      ]
     },
     "execution_count": 144,
     "metadata": {},
     "output_type": "execute_result"
    },
    {
     "data": {
      "image/png": "[encoded data removed]",
      "text/plain": [
       "<matplotlib.figure.Figure at 0x10ab84320>"
      ]
     },
     "metadata": {},
     "output_type": "display_data"
    }
   ],
   "source": [
    "revenue_per_day = total_violations_income / new_violations_df['New Issue Date'].value_counts()\n",
    "revenue_per_day.sort_values(ascending=False).head(20).plot(kind='bar')"
   ]
  },
  {
   "cell_type": "markdown",
   "metadata": {},
   "source": [
    "## 16) Manually construct a dataframe out of https://dmv.ny.gov/statistic/2015licinforce-web.pdf (only NYC boroughts - bronx, queens, manhattan, staten island, brooklyn), having columns for borough name, abbreviation, and number of licensed drivers."
   ]
  },
  {
   "cell_type": "code",
   "execution_count": 93,
   "metadata": {
    "collapsed": false
   },
   "outputs": [
    {
     "data": {
      "text/html": [
       "<div>\n",
       "<table border=\"1\" class=\"dataframe\">\n",
       "  <thead>\n",
       "    <tr style=\"text-align: right;\">\n",
       "      <th></th>\n",
       "      <th>Borough</th>\n",
       "      <th>Abbreviation</th>\n",
       "      <th>Total</th>\n",
       "    </tr>\n",
       "  </thead>\n",
       "  <tbody>\n",
       "    <tr>\n",
       "      <th>0</th>\n",
       "      <td>Bronx</td>\n",
       "      <td>BX</td>\n",
       "      <td>456847</td>\n",
       "    </tr>\n",
       "    <tr>\n",
       "      <th>1</th>\n",
       "      <td>Kings</td>\n",
       "      <td>K</td>\n",
       "      <td>983769</td>\n",
       "    </tr>\n",
       "    <tr>\n",
       "      <th>2</th>\n",
       "      <td>New York</td>\n",
       "      <td>NY</td>\n",
       "      <td>748583</td>\n",
       "    </tr>\n",
       "    <tr>\n",
       "      <th>3</th>\n",
       "      <td>Queens</td>\n",
       "      <td>Q</td>\n",
       "      <td>1134064</td>\n",
       "    </tr>\n",
       "    <tr>\n",
       "      <th>4</th>\n",
       "      <td>Richmond</td>\n",
       "      <td>R</td>\n",
       "      <td>304250</td>\n",
       "    </tr>\n",
       "  </tbody>\n",
       "</table>\n",
       "</div>"
      ],
      "text/plain": [
       "    Borough Abbreviation    Total\n",
       "0     Bronx           BX   456847\n",
       "1     Kings            K   983769\n",
       "2  New York           NY   748583\n",
       "3    Queens            Q  1134064\n",
       "4  Richmond            R   304250"
      ]
     },
     "execution_count": 93,
     "metadata": {},
     "output_type": "execute_result"
    }
   ],
   "source": [
    "nyc_licenses_per_borough = pd.read_excel(\"NYC.xlsx\")\n",
    "nyc_licenses_per_borough"
   ]
  },
  {
   "cell_type": "markdown",
   "metadata": {},
   "source": [
    "## 17) What's the parking-ticket-$-per-licensed-driver in each borough of NYC? Do this with pandas and the dataframe you just made, not with your head!"
   ]
  },
  {
   "cell_type": "code",
   "execution_count": 79,
   "metadata": {
    "collapsed": false
   },
   "outputs": [
    {
     "data": {
      "text/plain": [
       "Index(['Summons Number', 'Plate ID', 'Registration State', 'Plate Type',\n",
       "       'Issue Date', 'Violation Code', 'Vehicle Body Type', 'Vehicle Make',\n",
       "       'Issuing Agency', 'Street Code1', 'Street Code2', 'Street Code3',\n",
       "       'Vehicle Expiration Date', 'Violation Location', 'Violation Precinct',\n",
       "       'Issuer Precinct', 'Issuer Code', 'Issuer Command', 'Issuer Squad',\n",
       "       'Violation Time', 'Time First Observed', 'Violation County',\n",
       "       'Violation In Front Of Or Opposite', 'House Number', 'Street Name',\n",
       "       'Intersecting Street', 'Date First Observed', 'Law Section',\n",
       "       'Sub Division', 'Violation Legal Code', 'Days Parking In Effect    ',\n",
       "       'From Hours In Effect', 'To Hours In Effect', 'Vehicle Color',\n",
       "       'Unregistered Vehicle?', 'Vehicle Year', 'Meter Number',\n",
       "       'Feet From Curb', 'Violation Post Code', 'Violation Description',\n",
       "       'No Standing or Stopping Violation', 'Hydrant Violation',\n",
       "       'Double Parking Violation', 'New Issue Date',\n",
       "       'New Vehicle Expiration Date', 'Violation code', 'CODE', 'DEFINITION',\n",
       "       'Manhattan 96th & below', 'All other areas', 'Code',\n",
       "       'Manhattan 96th and below', 'All Other Areas'],\n",
       "      dtype='object')"
      ]
     },
     "execution_count": 79,
     "metadata": {},
     "output_type": "execute_result"
    }
   ],
   "source": [
    "new_violations_df.columns"
   ]
  },
  {
   "cell_type": "code",
   "execution_count": 80,
   "metadata": {
    "collapsed": false
   },
   "outputs": [
    {
     "data": {
      "text/plain": [
       "K     240\n",
       "NY    152\n",
       "Q     138\n",
       "BX     53\n",
       "R      12\n",
       "Name: Violation County, dtype: int64"
      ]
     },
     "execution_count": 80,
     "metadata": {},
     "output_type": "execute_result"
    }
   ],
   "source": [
    "new_violations_df['Violation County'].value_counts()"
   ]
  },
  {
   "cell_type": "code",
   "execution_count": 124,
   "metadata": {
    "collapsed": false
   },
   "outputs": [
    {
     "data": {
      "text/plain": [
       "0    89.753831\n",
       "Name: Total, dtype: float64"
      ]
     },
     "execution_count": 124,
     "metadata": {},
     "output_type": "execute_result"
    }
   ],
   "source": [
    "violations_bronx = new_violations_df[new_violations_df['Violation County'] == 'BX']\n",
    "licenses_bronx = nyc_licenses_per_borough['Total'][nyc_licenses_per_borough['Abbreviation'] == 'BX']\n",
    "tickets_bronx = violations_bronx.groupby('Violation code')['All Other Areas'].sum()\n",
    "ticket_per_driver_bronx = licenses_bronx / tickets_bronx.sum()\n",
    "ticket_per_driver_bronx"
   ]
  },
  {
   "cell_type": "code",
   "execution_count": 125,
   "metadata": {
    "collapsed": false
   },
   "outputs": [
    {
     "data": {
      "text/plain": [
       "3    85.751531\n",
       "Name: Total, dtype: float64"
      ]
     },
     "execution_count": 125,
     "metadata": {},
     "output_type": "execute_result"
    }
   ],
   "source": [
    "violations_queens = new_violations_df[new_violations_df['Violation County'] == 'Q']\n",
    "licenses_queens = nyc_licenses_per_borough['Total'][nyc_licenses_per_borough['Abbreviation'] == 'Q']\n",
    "tickets_queens = violations_queens.groupby('Violation code')['All Other Areas'].sum()\n",
    "ticket_per_driver_queens = licenses_queens / tickets_queens.sum()\n",
    "ticket_per_driver_queens"
   ]
  },
  {
   "cell_type": "code",
   "execution_count": 126,
   "metadata": {
    "collapsed": false
   },
   "outputs": [
    {
     "data": {
      "text/plain": [
       "2    57.783327\n",
       "Name: Total, dtype: float64"
      ]
     },
     "execution_count": 126,
     "metadata": {},
     "output_type": "execute_result"
    }
   ],
   "source": [
    "violations_ny = new_violations_df[new_violations_df['Violation County'] == 'NY']\n",
    "licenses_ny = nyc_licenses_per_borough['Total'][nyc_licenses_per_borough['Abbreviation'] == 'NY']\n",
    "tickets_ny = violations_ny.groupby('Violation code')['Manhattan 96th and below'].sum()\n",
    "ticket_per_driver_ny = licenses_ny / tickets_ny.sum()\n",
    "ticket_per_driver_ny"
   ]
  },
  {
   "cell_type": "code",
   "execution_count": 129,
   "metadata": {
    "collapsed": false
   },
   "outputs": [
    {
     "data": {
      "text/plain": [
       "4    281.712963\n",
       "Name: Total, dtype: float64"
      ]
     },
     "execution_count": 129,
     "metadata": {},
     "output_type": "execute_result"
    }
   ],
   "source": [
    "violations_richmond = new_violations_df[new_violations_df['Violation County'] == 'R']\n",
    "licenses_richmond = nyc_licenses_per_borough['Total'][nyc_licenses_per_borough['Abbreviation'] == 'R']\n",
    "tickets_richmond = violations_richmond.groupby('Violation code')['All Other Areas'].sum()\n",
    "ticket_per_driver_richmond = licenses_richmond / tickets_richmond.sum()\n",
    "ticket_per_driver_richmond"
   ]
  },
  {
   "cell_type": "code",
   "execution_count": 128,
   "metadata": {
    "collapsed": false
   },
   "outputs": [
    {
     "data": {
      "text/plain": [
       "1    70.143957\n",
       "Name: Total, dtype: float64"
      ]
     },
     "execution_count": 128,
     "metadata": {},
     "output_type": "execute_result"
    }
   ],
   "source": [
    "violations_kings = new_violations_df[new_violations_df['Violation County'] == 'K']\n",
    "licenses_kings = nyc_licenses_per_borough['Total'][nyc_licenses_per_borough['Abbreviation'] == 'K']\n",
    "tickets_kings = violations_kings.groupby('Violation code')['All Other Areas'].sum()\n",
    "ticket_per_driver_kings = licenses_kings / tickets_kings.sum()\n",
    "ticket_per_driver_kings"
   ]
  }
 ],
 "metadata": {
  "kernelspec": {
   "display_name": "Python 3",
   "language": "python",
   "name": "python3"
  },
  "language_info": {
   "codemirror_mode": {
    "name": "ipython",
    "version": 3
   },
   "file_extension": ".py",
   "mimetype": "text/x-python",
   "name": "python",
   "nbconvert_exporter": "python",
   "pygments_lexer": "ipython3",
   "version": "3.5.1"
  }
 },
 "nbformat": 4,
 "nbformat_minor": 0
}
