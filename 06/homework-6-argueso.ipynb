{
 "cells": [
  {
   "cell_type": "markdown",
   "metadata": {},
   "source": [
    "## Dark Sky Forecast API"
   ]
  },
  {
   "cell_type": "markdown",
   "metadata": {},
   "source": [
    "1) Make a request from the Forecast.io API for where you were born (or lived, or want to visit!)."
   ]
  },
  {
   "cell_type": "code",
   "execution_count": 2,
   "metadata": {
    "collapsed": true
   },
   "outputs": [],
   "source": [
    "import requests\n",
    "response = requests.get(\"https://api.forecast.io/forecast/5fc508d3ca49d5487be36a7e027c4f86/43.360259,-5.844758\")\n",
    "data = response.json()"
   ]
  },
  {
   "cell_type": "code",
   "execution_count": 6,
   "metadata": {
    "collapsed": false
   },
   "outputs": [
    {
     "data": {
      "text/plain": [
       "dict"
      ]
     },
     "execution_count": 6,
     "metadata": {},
     "output_type": "execute_result"
    }
   ],
   "source": [
    "type(data)"
   ]
  },
  {
   "cell_type": "code",
   "execution_count": 4,
   "metadata": {
    "collapsed": false
   },
   "outputs": [
    {
     "data": {
      "text/plain": [
       "dict_keys(['flags', 'daily', 'timezone', 'currently', 'hourly', 'longitude', 'offset', 'latitude'])"
      ]
     },
     "execution_count": 4,
     "metadata": {},
     "output_type": "execute_result"
    }
   ],
   "source": [
    "data.keys()"
   ]
  },
  {
   "cell_type": "code",
   "execution_count": 5,
   "metadata": {
    "collapsed": false
   },
   "outputs": [
    {
     "data": {
      "text/plain": [
       "'Europe/Madrid'"
      ]
     },
     "execution_count": 5,
     "metadata": {},
     "output_type": "execute_result"
    }
   ],
   "source": [
    "data['timezone']"
   ]
  },
  {
   "cell_type": "code",
   "execution_count": 7,
   "metadata": {
    "collapsed": false
   },
   "outputs": [
    {
     "data": {
      "text/plain": [
       "dict"
      ]
     },
     "execution_count": 7,
     "metadata": {},
     "output_type": "execute_result"
    }
   ],
   "source": [
    "type(data['currently'])"
   ]
  },
  {
   "cell_type": "code",
   "execution_count": 8,
   "metadata": {
    "collapsed": false
   },
   "outputs": [
    {
     "data": {
      "text/plain": [
       "dict_keys(['dewPoint', 'windSpeed', 'precipIntensity', 'temperature', 'time', 'apparentTemperature', 'precipProbability', 'windBearing', 'summary', 'ozone', 'cloudCover', 'humidity', 'pressure', 'icon'])"
      ]
     },
     "execution_count": 8,
     "metadata": {},
     "output_type": "execute_result"
    }
   ],
   "source": [
    "data['currently'].keys()"
   ]
  },
  {
   "cell_type": "markdown",
   "metadata": {},
   "source": [
    "2) What's the current wind speed? How much warmer does it feel than it actually is?"
   ]
  },
  {
   "cell_type": "code",
   "execution_count": 9,
   "metadata": {
    "collapsed": false
   },
   "outputs": [
    {
     "data": {
      "text/plain": [
       "1.02"
      ]
     },
     "execution_count": 9,
     "metadata": {},
     "output_type": "execute_result"
    }
   ],
   "source": [
    "data['currently']['windSpeed']"
   ]
  },
  {
   "cell_type": "code",
   "execution_count": 18,
   "metadata": {
    "collapsed": false
   },
   "outputs": [
    {
     "name": "stdout",
     "output_type": "stream",
     "text": [
      "The apparent temperature and the actual temperature in Avilés are the same: 52.14 degrees Fahrenheit.\n"
     ]
    }
   ],
   "source": [
    "if data['currently']['temperature'] == data['currently']['apparentTemperature']:\n",
    "    print(\"The apparent temperature and the actual temperature in Avilés are the same:\", data['currently']['temperature'], \"degrees Fahrenheit.\")\n",
    "elif data['currently']['temperature'] > data['currently']['apparentTemperature']:\n",
    "    print(\"The actual temperature in Avilés is\", data['currently']['temperature'] - data['currently']['apparentTemperature'], \"degrees Fahrenheit higher than the apparent temperature.\")\n",
    "else:\n",
    "     print(\"The actual temperature in Avilés is\", data['currently']['apparentTemperature'] - data['currently']['temperature'], \"degrees Fahrenheit lower than the apparent temperature.\")"
   ]
  },
  {
   "cell_type": "markdown",
   "metadata": {},
   "source": [
    "3) The first daily forecast is the forecast for today. For the place you decided on up above, how much of the moon is\n",
    "currently visible?"
   ]
  },
  {
   "cell_type": "code",
   "execution_count": 41,
   "metadata": {
    "collapsed": false
   },
   "outputs": [
    {
     "data": {
      "text/plain": [
       "dict_keys(['data', 'summary', 'icon'])"
      ]
     },
     "execution_count": 41,
     "metadata": {},
     "output_type": "execute_result"
    }
   ],
   "source": [
    "data['daily'].keys()"
   ]
  },
  {
   "cell_type": "code",
   "execution_count": 54,
   "metadata": {
    "collapsed": false
   },
   "outputs": [
    {
     "name": "stdout",
     "output_type": "stream",
     "text": [
      "{'dewPoint': 59.19, 'windSpeed': 7.06, 'precipIntensity': 0, 'temperatureMin': 55.19, 'sunsetTime': 1465502026, 'apparentTemperatureMin': 55.19, 'pressure': 1020, 'precipIntensityMax': 0, 'visibility': 6.21, 'windBearing': 23, 'sunriseTime': 1465444133, 'apparentTemperatureMinTime': 1465444800, 'ozone': 336.45, 'cloudCover': 0.03, 'humidity': 0.83, 'icon': 'clear-day', 'apparentTemperatureMax': 74.46, 'temperatureMaxTime': 1465484400, 'moonPhase': 0.16, 'apparentTemperatureMaxTime': 1465484400, 'time': 1465423200, 'precipProbability': 0, 'temperatureMax': 74.46, 'summary': 'Clear throughout the day.', 'temperatureMinTime': 1465444800}\n"
     ]
    }
   ],
   "source": [
    "daily_forecast = data['daily']['data']\n",
    "print(daily_forecast[0])"
   ]
  },
  {
   "cell_type": "code",
   "execution_count": 53,
   "metadata": {
    "collapsed": false
   },
   "outputs": [
    {
     "name": "stdout",
     "output_type": "stream",
     "text": [
      "In Avilés today, only 0.16 of the moon is visible.\n"
     ]
    }
   ],
   "source": [
    "print(\"In Avilés today, only\", daily_forecast[0]['moonPhase'], \"of the moon is visible.\")"
   ]
  },
  {
   "cell_type": "markdown",
   "metadata": {},
   "source": [
    "4) What's the difference between the high and low temperatures for today?"
   ]
  },
  {
   "cell_type": "code",
   "execution_count": 60,
   "metadata": {
    "collapsed": false
   },
   "outputs": [
    {
     "name": "stdout",
     "output_type": "stream",
     "text": [
      "The difference between the high and low temperature today in Avilés is 20 degrees Fahrenheit.\n"
     ]
    }
   ],
   "source": [
    "import math\n",
    "\n",
    "max_temperature = daily_forecast[0]['temperatureMax']\n",
    "min_temperature = daily_forecast[0]['temperatureMin']\n",
    "temperature_difference = math.ceil(max_temperature - min_temperature)\n",
    "print(\"The difference between the high and low temperature today in Avilés is\", temperature_difference, \"degrees Fahrenheit.\")"
   ]
  },
  {
   "cell_type": "markdown",
   "metadata": {},
   "source": [
    "5) Loop through the daily forecast, printing out the next week's worth of predictions. I'd like to know the high temperature\n",
    "for each day, and whether it's hot, warm, or cold, based on what temperatures you think are hot, warm or cold."
   ]
  },
  {
   "cell_type": "code",
   "execution_count": 74,
   "metadata": {
    "collapsed": false
   },
   "outputs": [
    {
     "name": "stdout",
     "output_type": "stream",
     "text": [
      "It will be a hot day in Avilés today. The highest temperature will be 74.46\n",
      "It will be a hot day in Avilés today. The highest temperature will be 73.77\n",
      "It will be a warm day in Avilés today. The highest temperature will be 65.29\n",
      "It will be a warm day in Avilés today. The highest temperature will be 66.03\n",
      "It will be a warm day in Avilés today. The highest temperature will be 65.96\n",
      "It will be a warm day in Avilés today. The highest temperature will be 62.4\n",
      "It will be a warm day in Avilés today. The highest temperature will be 65.29\n",
      "It will be a warm day in Avilés today. The highest temperature will be 66.11\n"
     ]
    }
   ],
   "source": [
    "for day in daily_forecast:\n",
    "    if day['temperatureMax'] < 60:\n",
    "        print(\"It will be a cold day in Avilés today. The highest temperature will be\", day['temperatureMax'])\n",
    "    elif (day['temperatureMax'] > 60) and (day['temperatureMax'] < 70):\n",
    "        print(\"It will be a warm day in Avilés today. The highest temperature will be\", day['temperatureMax'])\n",
    "    else:\n",
    "        print(\"It will be a hot day in Avilés today. The highest temperature will be\", day['temperatureMax'])"
   ]
  },
  {
   "cell_type": "markdown",
   "metadata": {},
   "source": [
    "6) What's the weather looking like for the rest of today in Miami, Florida? I'd like to know the temperature for every hour,\n",
    "and if it's going to have cloud cover of more than 0.5 say \"{temperature} and cloudy\" instead of just the temperature."
   ]
  },
  {
   "cell_type": "code",
   "execution_count": 72,
   "metadata": {
    "collapsed": false
   },
   "outputs": [
    {
     "data": {
      "text/plain": [
       "dict"
      ]
     },
     "execution_count": 72,
     "metadata": {},
     "output_type": "execute_result"
    }
   ],
   "source": [
    "response = requests.get(\"https://api.forecast.io/forecast/5fc508d3ca49d5487be36a7e027c4f86/25.7742700,-80.1936600\")\n",
    "data = response.json()\n",
    "type(data)"
   ]
  },
  {
   "cell_type": "code",
   "execution_count": 73,
   "metadata": {
    "collapsed": false
   },
   "outputs": [
    {
     "data": {
      "text/plain": [
       "dict_keys(['flags', 'daily', 'timezone', 'currently', 'hourly', 'longitude', 'minutely', 'offset', 'latitude'])"
      ]
     },
     "execution_count": 73,
     "metadata": {},
     "output_type": "execute_result"
    }
   ],
   "source": [
    "data.keys()"
   ]
  },
  {
   "cell_type": "code",
   "execution_count": 96,
   "metadata": {
    "collapsed": false
   },
   "outputs": [
    {
     "name": "stdout",
     "output_type": "stream",
     "text": [
      "<class 'dict'>\n"
     ]
    },
    {
     "data": {
      "text/plain": [
       "dict_keys(['data', 'summary', 'icon'])"
      ]
     },
     "execution_count": 96,
     "metadata": {},
     "output_type": "execute_result"
    }
   ],
   "source": [
    "hourly_forecast = data['hourly']\n",
    "print(type(hourly_forecast))\n",
    "hourly_forecast.keys()"
   ]
  },
  {
   "cell_type": "code",
   "execution_count": 97,
   "metadata": {
    "collapsed": false
   },
   "outputs": [
    {
     "data": {
      "text/plain": [
       "list"
      ]
     },
     "execution_count": 97,
     "metadata": {},
     "output_type": "execute_result"
    }
   ],
   "source": [
    "hourly_data = hourly_forecast['data']\n",
    "type(hourly_data)"
   ]
  },
  {
   "cell_type": "code",
   "execution_count": 98,
   "metadata": {
    "collapsed": false
   },
   "outputs": [
    {
     "name": "stdout",
     "output_type": "stream",
     "text": [
      "{'dewPoint': 75.08, 'cloudCover': 0.58, 'windSpeed': 5.86, 'precipIntensity': 0.0124, 'temperature': 79.8, 'time': 1465430400, 'apparentTemperature': 79.8, 'visibility': 6.31, 'precipType': 'rain', 'windBearing': 267, 'summary': 'Light Rain', 'ozone': 269.76, 'precipProbability': 0.49, 'humidity': 0.86, 'pressure': 1014.45, 'icon': 'rain'}\n"
     ]
    }
   ],
   "source": [
    "print(hourly_data[0])"
   ]
  },
  {
   "cell_type": "code",
   "execution_count": 101,
   "metadata": {
    "collapsed": false
   },
   "outputs": [
    {
     "name": "stdout",
     "output_type": "stream",
     "text": [
      "The temperature in Miami is 79.8 degrees Fahrenheit and it is cloudy.\n",
      "The temperature in Miami is 79.6 degrees Fahrenheit and it is cloudy.\n",
      "The temperature in Miami is 78.95 degrees Fahrenheit and it is cloudy.\n",
      "The temperature in Miami is 78.4 degrees Fahrenheit and it is cloudy.\n",
      "The temperature in Miami is 78.79 degrees Fahrenheit and it is cloudy.\n",
      "The temperature in Miami is 76.25 degrees Fahrenheit and it is cloudy.\n",
      "The temperature in Miami is 76.67 degrees Fahrenheit and it is cloudy.\n",
      "The temperature in Miami is 77.17 degrees Fahrenheit and it is cloudy.\n",
      "The temperature in Miami is 77.74 degrees Fahrenheit and it is cloudy.\n",
      "The temperature in Miami is 78.31 degrees Fahrenheit and it is cloudy.\n",
      "The temperature in Miami is 78.61 degrees Fahrenheit and it is cloudy.\n",
      "The temperature in Miami is 78.97 degrees Fahrenheit and it is cloudy.\n",
      "The temperature in Miami is 79.55 degrees Fahrenheit and it is cloudy.\n",
      "The temperature in Miami is 80.77 degrees Fahrenheit and it is cloudy.\n",
      "The temperature in Miami is 82.33 degrees Fahrenheit and it is cloudy.\n",
      "The temperature in Miami is 83.68 degrees Fahrenheit and it is cloudy.\n",
      "The temperature in Miami is 84.72 degrees Fahrenheit and it is cloudy.\n",
      "The temperature in Miami is 85.52 degrees Fahrenheit and it is cloudy.\n",
      "The temperature in Miami is 86.99 degrees Fahrenheit and it is cloudy.\n",
      "The temperature in Miami is 87.75 degrees Fahrenheit and it is cloudy.\n",
      "The temperature in Miami is 87.12 degrees Fahrenheit and it is cloudy.\n",
      "The temperature in Miami is 86.13 degrees Fahrenheit and it is cloudy.\n",
      "The temperature in Miami is 85.58 degrees Fahrenheit and it is cloudy.\n",
      "The temperature in Miami is 84.53 degrees Fahrenheit and it is cloudy.\n",
      "The temperature in Miami is 83.66 degrees Fahrenheit and it is cloudy.\n",
      "The temperature in Miami is 82.92 degrees Fahrenheit and it is cloudy.\n",
      "The temperature in Miami is 82.22 degrees Fahrenheit and it is cloudy.\n",
      "The temperature in Miami is 81.46 degrees Fahrenheit and it is cloudy.\n",
      "The temperature in Miami is 80.57 degrees Fahrenheit and it is cloudy.\n",
      "The temperature in Miami is 79.52 degrees Fahrenheit.\n",
      "The temperature in Miami is 78.57 degrees Fahrenheit.\n",
      "The temperature in Miami is 77.95 degrees Fahrenheit.\n",
      "The temperature in Miami is 78.49 degrees Fahrenheit and it is cloudy.\n",
      "The temperature in Miami is 79.37 degrees Fahrenheit and it is cloudy.\n",
      "The temperature in Miami is 80.22 degrees Fahrenheit and it is cloudy.\n",
      "The temperature in Miami is 80.91 degrees Fahrenheit and it is cloudy.\n",
      "The temperature in Miami is 81.53 degrees Fahrenheit and it is cloudy.\n",
      "The temperature in Miami is 82.31 degrees Fahrenheit and it is cloudy.\n",
      "The temperature in Miami is 83.51 degrees Fahrenheit and it is cloudy.\n",
      "The temperature in Miami is 84.9 degrees Fahrenheit and it is cloudy.\n",
      "The temperature in Miami is 86.31 degrees Fahrenheit and it is cloudy.\n",
      "The temperature in Miami is 87.75 degrees Fahrenheit and it is cloudy.\n",
      "The temperature in Miami is 88.65 degrees Fahrenheit and it is cloudy.\n",
      "The temperature in Miami is 88.28 degrees Fahrenheit and it is cloudy.\n",
      "The temperature in Miami is 87.45 degrees Fahrenheit and it is cloudy.\n",
      "The temperature in Miami is 86.46 degrees Fahrenheit and it is cloudy.\n",
      "The temperature in Miami is 85.36 degrees Fahrenheit and it is cloudy.\n",
      "The temperature in Miami is 84.23 degrees Fahrenheit and it is cloudy.\n",
      "The temperature in Miami is 83.29 degrees Fahrenheit and it is cloudy.\n"
     ]
    }
   ],
   "source": [
    "for hour in hourly_data:\n",
    "    if hour['cloudCover'] > 0.5:\n",
    "        print(\"The temperature in Miami is\", hour['temperature'], \"degrees Fahrenheit and it is cloudy.\")\n",
    "    else:\n",
    "        print(\"The temperature in Miami is\", hour['temperature'], \"degrees Fahrenheit.\")"
   ]
  },
  {
   "cell_type": "markdown",
   "metadata": {},
   "source": [
    "7) What was the temperature in Central Park on Christmas Day, 1980? How about 1990? 2000?"
   ]
  },
  {
   "cell_type": "markdown",
   "metadata": {},
   "source": [
    "Since there are only values for the highest and lowest temperature during the day in the case of past dates, I have chosen the highest temperature for this exercise."
   ]
  },
  {
   "cell_type": "code",
   "execution_count": 104,
   "metadata": {
    "collapsed": false
   },
   "outputs": [
    {
     "data": {
      "text/plain": [
       "dict_keys(['flags', 'daily', 'timezone', 'currently', 'hourly', 'longitude', 'offset', 'latitude'])"
      ]
     },
     "execution_count": 104,
     "metadata": {},
     "output_type": "execute_result"
    }
   ],
   "source": [
    "response = requests.get(\"https://api.forecast.io/forecast/5fc508d3ca49d5487be36a7e027c4f86/40.785091,-73.968285,346550400\")\n",
    "data = response.json()\n",
    "data.keys()"
   ]
  },
  {
   "cell_type": "code",
   "execution_count": 106,
   "metadata": {
    "collapsed": false
   },
   "outputs": [
    {
     "data": {
      "text/plain": [
       "dict"
      ]
     },
     "execution_count": 106,
     "metadata": {},
     "output_type": "execute_result"
    }
   ],
   "source": [
    "type(data['daily'])"
   ]
  },
  {
   "cell_type": "code",
   "execution_count": 107,
   "metadata": {
    "collapsed": false
   },
   "outputs": [
    {
     "data": {
      "text/plain": [
       "dict_keys(['data'])"
      ]
     },
     "execution_count": 107,
     "metadata": {},
     "output_type": "execute_result"
    }
   ],
   "source": [
    "data['daily'].keys()"
   ]
  },
  {
   "cell_type": "code",
   "execution_count": 108,
   "metadata": {
    "collapsed": false
   },
   "outputs": [
    {
     "data": {
      "text/plain": [
       "list"
      ]
     },
     "execution_count": 108,
     "metadata": {},
     "output_type": "execute_result"
    }
   ],
   "source": [
    "type(data['daily']['data'])"
   ]
  },
  {
   "cell_type": "code",
   "execution_count": 110,
   "metadata": {
    "collapsed": false
   },
   "outputs": [
    {
     "data": {
      "text/plain": [
       "[{'apparentTemperatureMax': 30.28,\n",
       "  'apparentTemperatureMaxTime': 346532400,\n",
       "  'apparentTemperatureMin': 14.64,\n",
       "  'apparentTemperatureMinTime': 346564800,\n",
       "  'cloudCover': 0.8,\n",
       "  'dewPoint': 29.05,\n",
       "  'humidity': 0.88,\n",
       "  'icon': 'rain',\n",
       "  'moonPhase': 0.6,\n",
       "  'precipIntensity': 0.0076,\n",
       "  'precipIntensityMax': 0.0869,\n",
       "  'precipIntensityMaxTime': 346543200,\n",
       "  'precipProbability': 0.71,\n",
       "  'precipType': 'rain',\n",
       "  'pressure': 1011.02,\n",
       "  'summary': 'Rain starting in the afternoon, continuing until evening, and windy overnight.',\n",
       "  'sunriseTime': 346508378,\n",
       "  'sunsetTime': 346541675,\n",
       "  'temperatureMax': 36.87,\n",
       "  'temperatureMaxTime': 346532400,\n",
       "  'temperatureMin': 28.46,\n",
       "  'temperatureMinTime': 346510800,\n",
       "  'time': 346482000,\n",
       "  'visibility': 3.84,\n",
       "  'windBearing': 264,\n",
       "  'windSpeed': 8.01}]"
      ]
     },
     "execution_count": 110,
     "metadata": {},
     "output_type": "execute_result"
    }
   ],
   "source": [
    "data['daily']['data']"
   ]
  },
  {
   "cell_type": "code",
   "execution_count": 112,
   "metadata": {
    "collapsed": false
   },
   "outputs": [
    {
     "name": "stdout",
     "output_type": "stream",
     "text": [
      "The highest temperature in Central Park on Christmas Day, 1980 was 36.87\n"
     ]
    }
   ],
   "source": [
    "data_christmas_day = data['daily']['data'][0]\n",
    "print(\"The highest temperature in Central Park on Christmas Day, 1980 was\", data_christmas_day['temperatureMax'])"
   ]
  },
  {
   "cell_type": "code",
   "execution_count": 113,
   "metadata": {
    "collapsed": true
   },
   "outputs": [],
   "source": [
    "response = requests.get(\"https://api.forecast.io/forecast/5fc508d3ca49d5487be36a7e027c4f86/40.785091,-73.968285,662083200\")\n",
    "data = response.json()"
   ]
  },
  {
   "cell_type": "code",
   "execution_count": 115,
   "metadata": {
    "collapsed": false
   },
   "outputs": [
    {
     "name": "stdout",
     "output_type": "stream",
     "text": [
      "The highest temperature in Central Park on Christmas Day, 1990 was 59.95\n"
     ]
    }
   ],
   "source": [
    "data_christmas_day = data['daily']['data'][0]\n",
    "print(\"The highest temperature in Central Park on Christmas Day, 1990 was\", data_christmas_day['temperatureMax'])"
   ]
  },
  {
   "cell_type": "code",
   "execution_count": 116,
   "metadata": {
    "collapsed": true
   },
   "outputs": [],
   "source": [
    "response = requests.get(\"https://api.forecast.io/forecast/5fc508d3ca49d5487be36a7e027c4f86/40.785091,-73.968285,977702400\")\n",
    "data = response.json()"
   ]
  },
  {
   "cell_type": "code",
   "execution_count": 117,
   "metadata": {
    "collapsed": false
   },
   "outputs": [
    {
     "name": "stdout",
     "output_type": "stream",
     "text": [
      "The highest temperature in Central Park on Christmas Day, 2000 was 31.26\n"
     ]
    }
   ],
   "source": [
    "data_christmas_day = data['daily']['data'][0]\n",
    "print(\"The highest temperature in Central Park on Christmas Day, 2000 was\", data_christmas_day['temperatureMax'])"
   ]
  }
 ],
 "metadata": {
  "kernelspec": {
   "display_name": "Python 3",
   "language": "python",
   "name": "python3"
  },
  "language_info": {
   "codemirror_mode": {
    "name": "ipython",
    "version": 3
   },
   "file_extension": ".py",
   "mimetype": "text/x-python",
   "name": "python",
   "nbconvert_exporter": "python",
   "pygments_lexer": "ipython3",
   "version": "3.5.1"
  }
 },
 "nbformat": 4,
 "nbformat_minor": 0
}
