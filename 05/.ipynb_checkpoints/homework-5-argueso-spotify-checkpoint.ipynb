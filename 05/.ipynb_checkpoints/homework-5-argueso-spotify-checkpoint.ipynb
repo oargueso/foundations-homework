{
 "cells": [
  {
   "cell_type": "markdown",
   "metadata": {},
   "source": [
    "## Spotify API"
   ]
  },
  {
   "cell_type": "markdown",
   "metadata": {},
   "source": [
    "1) With \"Lil Wayne\" and \"Lil Kim\" there are a lot of \"Lil\" musicians. Do a search and print a list of 50 that are playable in\n",
    "the USA (or the country of your choice), along with their popularity score."
   ]
  },
  {
   "cell_type": "markdown",
   "metadata": {},
   "source": [
    "2) Edit your previous printout to also display a list of their genres\n",
    "in the format \"GENRE_1, GENRE_2, GENRE_3\". If there are no genres, print \"No genres listed\"."
   ]
  },
  {
   "cell_type": "code",
   "execution_count": 2,
   "metadata": {
    "collapsed": false
   },
   "outputs": [
    {
     "name": "stdout",
     "output_type": "stream",
     "text": [
      "Lil Wayne 86 dirty south rap, pop rap, southern hip hop, trap music\n",
      "Lil Uzi Vert 73 No genres listed\n",
      "Lil Yachty 73 No genres listed\n",
      "Lil Dicky 68 No genres listed\n",
      "Lil Jon 72 crunk, dirty south rap, southern hip hop\n",
      "Boosie Badazz 67 No genres listed\n",
      "King Lil G 61 No genres listed\n",
      "Lil Durk 60 No genres listed\n",
      "Lily Allen 68 pop\n",
      "Lil Jon & The East Side Boyz 60 No genres listed\n",
      "Lil' Kim 62 hip pop\n",
      "Bow Wow 57 hip pop, pop rap\n",
      "Lil Bibby 54 No genres listed\n",
      "G Herbo 53 No genres listed\n",
      "Lilly Wood and The Prick 65 No genres listed\n",
      "Lil Wyte 50 juggalo\n",
      "Lil Rob 50 chicano rap, latin hip hop\n",
      "Lil Reese 50 No genres listed\n",
      "Lil' Flip 49 crunk, dirty south rap\n",
      "Lil Keke 48 No genres listed\n",
      "Lil' Mo 50 hip pop\n",
      "Lil Scrappy 49 crunk, dirty south rap, southern hip hop, trap music\n",
      "Lil' Troy 47 No genres listed\n",
      "Lil Blood 45 No genres listed\n",
      "Lilly Goodman 53 latin christian\n",
      "Lil Snupe 45 No genres listed\n",
      "Lily & Madeleine 58 No genres listed\n",
      "Lil Mama 45 hip pop\n",
      "Fenne Lily 51 No genres listed\n",
      "Lilli Cooper 43 broadway\n",
      "Lil B 44 No genres listed\n",
      "Lil Cuete 40 chicano rap\n",
      "Lil Phat 39 No genres listed\n",
      "Lillias White 48 No genres listed\n",
      "Lila Downs 55 No genres listed\n",
      "Lil Boom 41 No genres listed\n",
      "Lil Debbie 43 No genres listed\n",
      "Tu lily Nguyen 42 No genres listed\n",
      "DJ Lilman 39 No genres listed\n",
      "Lil Twist 39 jerk\n",
      "Lil Trill 37 deep trap\n",
      "Lilla Crawford 40 No genres listed\n",
      "Lil AJ 36 No genres listed\n",
      "Lil Lonnie 37 No genres listed\n",
      "Mr. Lil One 36 chicano rap\n",
      "Lil Twon 37 No genres listed\n",
      "Ashley Lilley 45 No genres listed\n",
      "Lily Elise 38 deep talent show\n",
      "Lil Wayne, DJ Drama 35 No genres listed\n",
      "Lil Haiti 36 No genres listed\n"
     ]
    }
   ],
   "source": [
    "import requests\n",
    "response = requests.get('https://api.spotify.com/v1/search?q=lil*&type=artist&market=US&limit=50')\n",
    "data = response.json()\n",
    "data.keys()\n",
    "artists_data = data['artists']['items']\n",
    "for artist in artists_data:\n",
    "    if artist['genres'] == []:\n",
    "        print(artist['name'], artist['popularity'],\"No genres listed\")\n",
    "    else:\n",
    "        print(artist['name'], artist['popularity'], \", \".join(artist['genres']))"
   ]
  },
  {
   "cell_type": "markdown",
   "metadata": {},
   "source": [
    "2) What genres are most represented in the search results?\n",
    "\n",
    "**Note**: I know this is not the correct way to do it - and therefore the results are not the ones expected -, but since Soma already gave us the right answer, I don't think it is honest to change it. \n",
    "\n",
    "TA"
   ]
  },
  {
   "cell_type": "code",
   "execution_count": 3,
   "metadata": {
    "collapsed": false
   },
   "outputs": [
    {
     "name": "stdout",
     "output_type": "stream",
     "text": [
      "broadway 1\n",
      "crunk 3\n",
      "trap music 2\n",
      "pop 1\n",
      "latin hip hop 1\n",
      "jerk 1\n",
      "chicano rap 3\n",
      "deep trap 1\n",
      "juggalo 1\n",
      "latin christian 1\n",
      "hip pop 4\n",
      "deep talent show 1\n",
      "southern hip hop 3\n",
      "pop rap 2\n",
      "dirty south rap 4\n"
     ]
    }
   ],
   "source": [
    "genres_list = []\n",
    "for artist in artists_data:\n",
    "    genres_list = artist['genres'] + genres_list\n",
    "\n",
    "unique_genres = set(genres_list)\n",
    "for item in unique_genres:\n",
    "    print(item, genres_list.count(item))"
   ]
  },
  {
   "cell_type": "markdown",
   "metadata": {},
   "source": [
    "3) Use a for loop to determine who BESIDES Lil Wayne has the highest popularity rating. Is it the same artist who has the\n",
    "largest number of followers?"
   ]
  },
  {
   "cell_type": "code",
   "execution_count": 4,
   "metadata": {
    "collapsed": false
   },
   "outputs": [
    {
     "name": "stdout",
     "output_type": "stream",
     "text": [
      "Lil Haiti 73\n"
     ]
    }
   ],
   "source": [
    "largest_popularity = 0\n",
    "for artist in artists_data:\n",
    "    if (artist['popularity'] > largest_popularity) & (artist['name'] != 'Lil Wayne'):\n",
    "        largest_popularity = artist['popularity']\n",
    "print(artist['name'], largest_popularity)"
   ]
  },
  {
   "cell_type": "code",
   "execution_count": 5,
   "metadata": {
    "collapsed": false
   },
   "outputs": [
    {
     "data": {
      "text/plain": [
       "dict"
      ]
     },
     "execution_count": 5,
     "metadata": {},
     "output_type": "execute_result"
    }
   ],
   "source": [
    "type(artist['followers'])"
   ]
  },
  {
   "cell_type": "code",
   "execution_count": 6,
   "metadata": {
    "collapsed": false
   },
   "outputs": [
    {
     "data": {
      "text/plain": [
       "dict_keys(['total', 'href'])"
      ]
     },
     "execution_count": 6,
     "metadata": {},
     "output_type": "execute_result"
    }
   ],
   "source": [
    "artist['followers'].keys()"
   ]
  },
  {
   "cell_type": "code",
   "execution_count": 7,
   "metadata": {
    "collapsed": false
   },
   "outputs": [
    {
     "name": "stdout",
     "output_type": "stream",
     "text": [
      "Lil Haiti 591881\n"
     ]
    }
   ],
   "source": [
    "largest_followers = 0\n",
    "for artist in artists_data:\n",
    "    if (artist['followers']['total'] > largest_followers) & (artist['name'] != 'Lil Wayne'):\n",
    "        largest_followers = artist['followers']['total']\n",
    "print(artist['name'], largest_followers)"
   ]
  },
  {
   "cell_type": "markdown",
   "metadata": {},
   "source": [
    "4) Print a list of Lil's that are more popular than Lil' Kim."
   ]
  },
  {
   "cell_type": "markdown",
   "metadata": {},
   "source": [
    "**Note**: Since we already went through this one in class, I am skipping it."
   ]
  },
  {
   "cell_type": "markdown",
   "metadata": {},
   "source": [
    "5) Pick two of your favorite Lils to fight it out, and use their IDs to print out their top tracks."
   ]
  },
  {
   "cell_type": "code",
   "execution_count": 38,
   "metadata": {
    "collapsed": false
   },
   "outputs": [
    {
     "data": {
      "text/plain": [
       "list"
      ]
     },
     "execution_count": 38,
     "metadata": {},
     "output_type": "execute_result"
    }
   ],
   "source": [
    "type(artists_data)"
   ]
  },
  {
   "cell_type": "code",
   "execution_count": 39,
   "metadata": {
    "collapsed": false
   },
   "outputs": [
    {
     "data": {
      "text/plain": [
       "'42FaEHFfyxTdZQ5W28dXnj'"
      ]
     },
     "execution_count": 39,
     "metadata": {},
     "output_type": "execute_result"
    }
   ],
   "source": [
    "artists_data[25]['id']"
   ]
  },
  {
   "cell_type": "code",
   "execution_count": 40,
   "metadata": {
    "collapsed": false
   },
   "outputs": [
    {
     "data": {
      "text/plain": [
       "'Lil Snupe'"
      ]
     },
     "execution_count": 40,
     "metadata": {},
     "output_type": "execute_result"
    }
   ],
   "source": [
    "artists_data[25]['name']"
   ]
  },
  {
   "cell_type": "code",
   "execution_count": 41,
   "metadata": {
    "collapsed": false
   },
   "outputs": [
    {
     "data": {
      "text/plain": [
       "'3QnIBUOS4mUzs67rZ8r4c9'"
      ]
     },
     "execution_count": 41,
     "metadata": {},
     "output_type": "execute_result"
    }
   ],
   "source": [
    "artists_data[32]['id']"
   ]
  },
  {
   "cell_type": "code",
   "execution_count": 42,
   "metadata": {
    "collapsed": false
   },
   "outputs": [
    {
     "data": {
      "text/plain": [
       "'Lil Phat'"
      ]
     },
     "execution_count": 42,
     "metadata": {},
     "output_type": "execute_result"
    }
   ],
   "source": [
    "artists_data[32]['name']"
   ]
  },
  {
   "cell_type": "code",
   "execution_count": 43,
   "metadata": {
    "collapsed": false
   },
   "outputs": [],
   "source": [
    "response = requests.get(\"https://api.spotify.com/v1/artists/42FaEHFfyxTdZQ5W28dXnj/top-tracks?country=US\")\n",
    "artist_25_data = response.json()"
   ]
  },
  {
   "cell_type": "code",
   "execution_count": 44,
   "metadata": {
    "collapsed": false
   },
   "outputs": [],
   "source": [
    "response = requests.get(\"https://api.spotify.com/v1/artists/3QnIBUOS4mUzs67rZ8r4c9/top-tracks?country=US\")\n",
    "artist_25_data = response.json()"
   ]
  },
  {
   "cell_type": "code",
   "execution_count": 49,
   "metadata": {
    "collapsed": false
   },
   "outputs": [
    {
     "name": "stdout",
     "output_type": "stream",
     "text": [
      "Lil Snupe's top tracks are:\n",
      "Count My Money Backwards\n",
      "Cuttin Up\n",
      "Bet Dat Up\n",
      "F**k Luv\n",
      "What Dey Gonna Do\n",
      "NBA Ballers\n",
      "Do It Then\n",
      "My Glock\n",
      "Feel My Pain\n",
      "Lord\n"
     ]
    }
   ],
   "source": [
    "artist_25_top_tracks = artist_25_data['tracks']\n",
    "print(\"Lil Snupe's top tracks are:\")\n",
    "for track in artist_25_top_tracks:\n",
    "    print(track['name'])"
   ]
  },
  {
   "cell_type": "code",
   "execution_count": 50,
   "metadata": {
    "collapsed": false
   },
   "outputs": [
    {
     "name": "stdout",
     "output_type": "stream",
     "text": [
      "Lil Phat's top tracks are:\n",
      "Count My Money Backwards\n",
      "Cuttin Up\n",
      "Bet Dat Up\n",
      "F**k Luv\n",
      "What Dey Gonna Do\n",
      "NBA Ballers\n",
      "Do It Then\n",
      "My Glock\n",
      "Feel My Pain\n",
      "Lord\n"
     ]
    }
   ],
   "source": [
    "artist_32_top_tracks = artist_32_data['tracks']\n",
    "print(\"Lil Phat's top tracks are:\")\n",
    "for track in artist_32_top_tracks:\n",
    "    print(track['name'])"
   ]
  },
  {
   "cell_type": "markdown",
   "metadata": {},
   "source": [
    "6) Will the world explode if a musicians swears? Get an average popularity for their explicit songs vs. their non-explicit\n",
    "songs. How many minutes of explicit songs do they have? Non-explicit?"
   ]
  },
  {
   "cell_type": "code",
   "execution_count": 51,
   "metadata": {
    "collapsed": false
   },
   "outputs": [
    {
     "data": {
      "text/plain": [
       "dict"
      ]
     },
     "execution_count": 51,
     "metadata": {},
     "output_type": "execute_result"
    }
   ],
   "source": [
    "type(artist_25_data)"
   ]
  },
  {
   "cell_type": "code",
   "execution_count": 52,
   "metadata": {
    "collapsed": false
   },
   "outputs": [
    {
     "data": {
      "text/plain": [
       "dict_keys(['tracks'])"
      ]
     },
     "execution_count": 52,
     "metadata": {},
     "output_type": "execute_result"
    }
   ],
   "source": [
    "artist_25_data.keys()"
   ]
  },
  {
   "cell_type": "code",
   "execution_count": 53,
   "metadata": {
    "collapsed": false
   },
   "outputs": [
    {
     "data": {
      "text/plain": [
       "list"
      ]
     },
     "execution_count": 53,
     "metadata": {},
     "output_type": "execute_result"
    }
   ],
   "source": [
    "type(artist_25_data['tracks'])"
   ]
  },
  {
   "cell_type": "code",
   "execution_count": 55,
   "metadata": {
    "collapsed": false
   },
   "outputs": [
    {
     "data": {
      "text/plain": [
       "dict"
      ]
     },
     "execution_count": 55,
     "metadata": {},
     "output_type": "execute_result"
    }
   ],
   "source": [
    "first_artist_25_track = artist_25_data['tracks'][0]\n",
    "type(first_artist_25_track)"
   ]
  },
  {
   "cell_type": "code",
   "execution_count": 56,
   "metadata": {
    "collapsed": false
   },
   "outputs": [
    {
     "data": {
      "text/plain": [
       "dict_keys(['external_urls', 'type', 'id', 'name', 'external_ids', 'explicit', 'disc_number', 'available_markets', 'preview_url', 'track_number', 'artists', 'popularity', 'uri', 'href', 'duration_ms', 'album'])"
      ]
     },
     "execution_count": 56,
     "metadata": {},
     "output_type": "execute_result"
    }
   ],
   "source": [
    "first_artist_25_track.keys()"
   ]
  },
  {
   "cell_type": "code",
   "execution_count": 57,
   "metadata": {
    "collapsed": false
   },
   "outputs": [
    {
     "name": "stdout",
     "output_type": "stream",
     "text": [
      "Lil Snupe has 10 explicit songs and 0 non-explicit songs.\n",
      "Lil Snupe's explicit songs have an average popularity of: 24.9\n"
     ]
    }
   ],
   "source": [
    "explicit_count = 0\n",
    "non_explicit_count = 0\n",
    "explicit_popularity = 0\n",
    "non_explicit_popularity = 0\n",
    "for track in artist_25_top_tracks:\n",
    "    if track['explicit'] == True:\n",
    "        explicit_count = explicit_count + 1\n",
    "        explicit_popularity = explicit_popularity + track['popularity']\n",
    "    elif track['explicit'] == False:\n",
    "        non_explicit_count = non_explicit_count + 1\n",
    "        non_explicit_popularity = non_explicit_popularity + track['popularity']\n",
    "print(\"Lil Snupe has\", explicit_count, \"explicit songs and\", non_explicit_count, \"non-explicit songs.\")\n",
    "\n",
    "if explicit_count != 0:\n",
    "    explicit_average_popularity = explicit_popularity / explicit_count\n",
    "    print(\"Lil Snupe's explicit songs have an average popularity of:\", explicit_average_popularity )\n",
    "else:\n",
    "    pass\n",
    "\n",
    "if non_explicit_count != 0:\n",
    "    non_explicit_average_popularity = non_explicit_popularity / non_explicit_count\n",
    "    print(\"Lil Snupe's explicit songs have an average popularity of:\", non_explicit_average_popularity)\n",
    "else:\n",
    "    pass"
   ]
  },
  {
   "cell_type": "code",
   "execution_count": 58,
   "metadata": {
    "collapsed": false
   },
   "outputs": [
    {
     "name": "stdout",
     "output_type": "stream",
     "text": [
      "Lil Phat has 10 explicit songs and 0 non-explicit songs.\n",
      "Lil Phat's explicit songs have an average popularity of: 24.9\n"
     ]
    }
   ],
   "source": [
    "explicit_count = 0\n",
    "non_explicit_count = 0\n",
    "explicit_popularity = 0\n",
    "non_explicit_popularity = 0\n",
    "for track in artist_32_top_tracks:\n",
    "    if track['explicit'] == True:\n",
    "        explicit_count = explicit_count + 1\n",
    "        explicit_popularity = explicit_popularity + track['popularity']\n",
    "    elif track['explicit'] == False:\n",
    "        non_explicit_count = non_explicit_count + 1\n",
    "        non_explicit_popularity = non_explicit_popularity + track['popularity']\n",
    "print(\"Lil Phat has\", explicit_count, \"explicit songs and\", non_explicit_count, \"non-explicit songs.\")\n",
    "\n",
    "if explicit_count != 0:\n",
    "    explicit_average_popularity = explicit_popularity / explicit_count\n",
    "    print(\"Lil Phat's explicit songs have an average popularity of:\", explicit_average_popularity )\n",
    "else:\n",
    "    pass\n",
    "\n",
    "if non_explicit_count != 0:\n",
    "    non_explicit_average_popularity = non_explicit_popularity / non_explicit_count\n",
    "    print(\"Lil Phat's explicit songs have an average popularity of:\", non_explicit_average_popularity)\n",
    "else:\n",
    "    pass"
   ]
  },
  {
   "cell_type": "code",
   "execution_count": 59,
   "metadata": {
    "collapsed": false
   },
   "outputs": [
    {
     "name": "stdout",
     "output_type": "stream",
     "text": [
      "Lil Snupe has total of 4 minutes of explicit songs and a total of 0 minutes of non-explicit songs.\n"
     ]
    }
   ],
   "source": [
    "import math\n",
    "\n",
    "explicit_minutes = 0\n",
    "non_explicit_minutes = 0\n",
    "for track in artist_25_top_tracks:\n",
    "    if track['explicit'] == True:\n",
    "        explicit_minutes = (explicit_minutes + track['duration_ms']) / 60000\n",
    "    elif track['explicit'] == False:\n",
    "        non_explicit_minutes = non_explicit_minutes + track['duration_ms'] / 60000\n",
    "print(\"Lil Snupe has total of\", math.ceil(explicit_minutes), \"minutes of explicit songs and a total of\", math.ceil(non_explicit_minutes), \"minutes of non-explicit songs.\")\n"
   ]
  },
  {
   "cell_type": "code",
   "execution_count": 60,
   "metadata": {
    "collapsed": false
   },
   "outputs": [
    {
     "name": "stdout",
     "output_type": "stream",
     "text": [
      "Lil Phat has total of 35 minutes of explicit songs and a total of 0 minutes of non-explicit songs.\n"
     ]
    }
   ],
   "source": [
    "explicit_minutes = 0\n",
    "non_explicit_minutes = 0\n",
    "for track in artist_32_top_tracks:\n",
    "    if track['explicit'] == True:\n",
    "        explicit_minutes = explicit_minutes + track['duration_ms'] / 60000\n",
    "    elif track['explicit'] == False:\n",
    "        non_explicit_minutes = non_explicit_minutes + track['duration_ms'] / 60000\n",
    "print(\"Lil Phat has total of\", math.ceil(explicit_minutes), \"minutes of explicit songs and a total of\", math.ceil(non_explicit_minutes), \"minutes of non-explicit songs.\")"
   ]
  },
  {
   "cell_type": "markdown",
   "metadata": {
    "collapsed": true
   },
   "source": [
    "7) Since we're talking about Lils, what about Biggies? How many total \"Biggie\" artists are there? How many total \"Lil\"s? If\n",
    "you made 1 request every 5 seconds, how long would it take to download information on all the Lils vs the Biggies?"
   ]
  },
  {
   "cell_type": "code",
   "execution_count": 61,
   "metadata": {
    "collapsed": false
   },
   "outputs": [],
   "source": [
    "response = requests.get('https://api.spotify.com/v1/search?q=lil*&type=artist&market=US&limit=50')\n",
    "lil_data = response.json()"
   ]
  },
  {
   "cell_type": "code",
   "execution_count": 62,
   "metadata": {
    "collapsed": true
   },
   "outputs": [],
   "source": [
    "response = requests.get('https://api.spotify.com/v1/search?q=biggie*&type=artist&market=US&limit=50')\n",
    "biggie_data = response.json()"
   ]
  },
  {
   "cell_type": "code",
   "execution_count": 63,
   "metadata": {
    "collapsed": false
   },
   "outputs": [],
   "source": [
    "total_lils = lil_data['artists']['total']\n",
    "total_biggies = biggie_data ['artists']['total']"
   ]
  },
  {
   "cell_type": "code",
   "execution_count": 64,
   "metadata": {
    "collapsed": false
   },
   "outputs": [
    {
     "name": "stdout",
     "output_type": "stream",
     "text": [
      "There are 7285 artists called Lil\n",
      "There is/are 146 result page(s) for artists called Lil\n",
      "It would take 13 minute(s) to download all the results for the artist called Lil\n",
      "There are 50 artists called Biggie\n",
      "There is/are 1 result page(s) for artists called Biggie\n",
      "It would take 1 minute(s) to download all the results for the artist called Biggie\n"
     ]
    }
   ],
   "source": [
    "lils = {'name': 'Lil', 'total': total_lils}\n",
    "biggies = {'name': 'Biggie', 'total': total_biggies}\n",
    "our_artists = [lils, biggies]\n",
    "for artist in our_artists:\n",
    "    print(\"There are\", artist['total'], \"artists called\", artist['name'])\n",
    "    total_pages = math.ceil(artist['total'] / 50)\n",
    "    print(\"There is/are\", total_pages, \"result page(s) for artists called\", artist['name']) \n",
    "    total_download = math.ceil((total_pages * 5) / 60)\n",
    "    print(\"It would take\", total_download, \"minute(s) to download all the results for the artist called\", artist['name'])\n",
    "     "
   ]
  },
  {
   "cell_type": "markdown",
   "metadata": {},
   "source": [
    "8) Out of the top 50 \"Lil\"s and the top 50 \"Biggie\"s, who is more popular on average?"
   ]
  },
  {
   "cell_type": "code",
   "execution_count": 65,
   "metadata": {
    "collapsed": false
   },
   "outputs": [
    {
     "name": "stdout",
     "output_type": "stream",
     "text": [
      "The average popularity of the first 50 artists called 'Lil' is 51\n"
     ]
    }
   ],
   "source": [
    "lil_info = lil_data['artists']['items']\n",
    "popularity = 0\n",
    "artist_count = 0\n",
    "for item in lil_info:\n",
    "    popularity = popularity + item['popularity']\n",
    "    artist_count = artist_count + 1\n",
    "print(\"The average popularity of the first 50 artists called 'Lil' is\", math.ceil(popularity / artist_count))"
   ]
  },
  {
   "cell_type": "code",
   "execution_count": 66,
   "metadata": {
    "collapsed": false
   },
   "outputs": [
    {
     "name": "stdout",
     "output_type": "stream",
     "text": [
      "The average popularity of the first 50 artists called 'Biggie' is 4\n"
     ]
    }
   ],
   "source": [
    "biggie_info = biggie_data['artists']['items']\n",
    "popularity = 0\n",
    "artist_count = 0\n",
    "for item in biggie_info:\n",
    "    popularity = popularity + item['popularity']\n",
    "    artist_count = artist_count + 1\n",
    "print(\"The average popularity of the first 50 artists called 'Biggie' is\", math.ceil(popularity / artist_count))"
   ]
  },
  {
   "cell_type": "code",
   "execution_count": null,
   "metadata": {
    "collapsed": true
   },
   "outputs": [],
   "source": []
  }
 ],
 "metadata": {
  "kernelspec": {
   "display_name": "Python 3",
   "language": "python",
   "name": "python3"
  },
  "language_info": {
   "codemirror_mode": {
    "name": "ipython",
    "version": 3
   },
   "file_extension": ".py",
   "mimetype": "text/x-python",
   "name": "python",
   "nbconvert_exporter": "python",
   "pygments_lexer": "ipython3",
   "version": "3.5.1"
  }
 },
 "nbformat": 4,
 "nbformat_minor": 0
}
