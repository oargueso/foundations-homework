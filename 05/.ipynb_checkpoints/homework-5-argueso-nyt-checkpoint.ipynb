{
 "cells": [
  {
   "cell_type": "markdown",
   "metadata": {
    "collapsed": true
   },
   "source": [
    "## NYT API"
   ]
  },
  {
   "cell_type": "markdown",
   "metadata": {},
   "source": [
    "All API's: http://developer.nytimes.com/\n",
    "\n",
    "Article search API: http://developer.nytimes.com/article_search_v2.json\n",
    "\n",
    "Best-seller API: http://developer.nytimes.com/books_api.json#/Documentation\n",
    "\n",
    "Test/build queries: http://developer.nytimes.com/"
   ]
  },
  {
   "cell_type": "markdown",
   "metadata": {},
   "source": [
    "1) What books topped the Hardcover Fiction NYT best-sellers list on Mother's Day in 2009 and 2010? How about Father's\n",
    "Day?"
   ]
  },
  {
   "cell_type": "code",
   "execution_count": 1,
   "metadata": {
    "collapsed": false
   },
   "outputs": [],
   "source": [
    "import requests\n",
    "\n",
    "response = requests.get(\"http://api.nytimes.com/svc/books/v2/lists/2009-05-10/hardcover-fiction.json?&api-key=1b885fdd890744e9bead47185227063d\")\n",
    "mothersday_09_data = response.json()"
   ]
  },
  {
   "cell_type": "code",
   "execution_count": 2,
   "metadata": {
    "collapsed": true
   },
   "outputs": [],
   "source": [
    "response = requests.get(\"http://api.nytimes.com/svc/books/v2/lists/2010-05-09/hardcover-fiction.json?&api-key=1b885fdd890744e9bead47185227063d\")\n",
    "mothersday_10_data = response.json()"
   ]
  },
  {
   "cell_type": "code",
   "execution_count": 3,
   "metadata": {
    "collapsed": true
   },
   "outputs": [],
   "source": [
    "response = requests.get(\"http://api.nytimes.com/svc/books/v2/lists/2009-05-21/hardcover-fiction.json?&api-key=1b885fdd890744e9bead47185227063d\")\n",
    "fathersday_09_data = response.json()"
   ]
  },
  {
   "cell_type": "code",
   "execution_count": 4,
   "metadata": {
    "collapsed": true
   },
   "outputs": [],
   "source": [
    "response = requests.get(\"http://api.nytimes.com/svc/books/v2/lists/2010-05-20/hardcover-fiction.json?&api-key=1b885fdd890744e9bead47185227063d\")\n",
    "fathersday_10_data = response.json()"
   ]
  },
  {
   "cell_type": "code",
   "execution_count": 5,
   "metadata": {
    "collapsed": false
   },
   "outputs": [
    {
     "data": {
      "text/plain": [
       "dict"
      ]
     },
     "execution_count": 5,
     "metadata": {},
     "output_type": "execute_result"
    }
   ],
   "source": [
    "type(mothersday_09_data)"
   ]
  },
  {
   "cell_type": "code",
   "execution_count": 6,
   "metadata": {
    "collapsed": false
   },
   "outputs": [
    {
     "data": {
      "text/plain": [
       "dict_keys(['results', 'status', 'copyright', 'last_modified', 'num_results'])"
      ]
     },
     "execution_count": 6,
     "metadata": {},
     "output_type": "execute_result"
    }
   ],
   "source": [
    "mothersday_09_data.keys()"
   ]
  },
  {
   "cell_type": "code",
   "execution_count": 7,
   "metadata": {
    "collapsed": false
   },
   "outputs": [
    {
     "data": {
      "text/plain": [
       "list"
      ]
     },
     "execution_count": 7,
     "metadata": {},
     "output_type": "execute_result"
    }
   ],
   "source": [
    "type(mothersday_09_data['results'])"
   ]
  },
  {
   "cell_type": "code",
   "execution_count": 8,
   "metadata": {
    "collapsed": false
   },
   "outputs": [
    {
     "data": {
      "text/plain": [
       "{'asterisk': 0,\n",
       " 'bestsellers_date': '2009-04-25',\n",
       " 'book_details': [{'age_group': '',\n",
       "   'amazon_product_url': 'http://www.amazon.com/First-Family-Maxwell-David-Baldacci/dp/0446539740?tag=thenewyorktim-20',\n",
       "   'author': 'David Baldacci',\n",
       "   'book_image': 'https://s1.nyt.com/du/books/images/9780446539746.jpg',\n",
       "   'contributor': 'by David Baldacci',\n",
       "   'contributor_note': '',\n",
       "   'description': 'Former Secret Service agents, now P.I.’s, search for a child abducted from a party at Camp David.',\n",
       "   'price': 27.99,\n",
       "   'primary_isbn10': '044654695X',\n",
       "   'primary_isbn13': '9780446546959',\n",
       "   'publisher': 'Grand Central',\n",
       "   'title': 'FIRST FAMILY'}],\n",
       " 'dagger': 0,\n",
       " 'display_name': 'Hardcover Fiction',\n",
       " 'isbns': [{'isbn10': '0446539740', 'isbn13': '9780446539746'}],\n",
       " 'list_image': '9780446539746.jpg',\n",
       " 'list_image_height': 500,\n",
       " 'list_image_width': 279,\n",
       " 'list_name': 'Hardcover Fiction',\n",
       " 'list_name_encoded': 'hardcover-fiction',\n",
       " 'normal_list_ends_at': 16,\n",
       " 'published_date': '2009-05-10',\n",
       " 'published_date_range': '2008-06-08:2016-06-26',\n",
       " 'rank': 1,\n",
       " 'rank_last_week': 0,\n",
       " 'reviews': [{'article_chapter_link': '',\n",
       "   'book_review_link': '',\n",
       "   'first_chapter_link': '',\n",
       "   'sunday_review_link': ''}],\n",
       " 'updated': 'WEEKLY',\n",
       " 'weeks_on_list': 1}"
      ]
     },
     "execution_count": 8,
     "metadata": {},
     "output_type": "execute_result"
    }
   ],
   "source": [
    "mothersday_09_data['results'][0]"
   ]
  },
  {
   "cell_type": "code",
   "execution_count": 9,
   "metadata": {
    "collapsed": false
   },
   "outputs": [
    {
     "name": "stdout",
     "output_type": "stream",
     "text": [
      "Mother's Day 2009:\n",
      "David Baldacci FIRST FAMILY\n",
      "Alexander McCall Smith TEA TIME FOR THE TRADITIONALLY BUILT\n",
      "Stuart Woods LOITERING WITH INTENT\n",
      "Mary Higgins Clark JUST TAKE MY HEART\n",
      "Amanda Quick THE PERFECT POISON\n",
      "Stephenie Meyer THE HOST\n",
      "Lisa Scottoline LOOK AGAIN\n",
      "Iris Johansen DEADLOCK\n",
      "Harlan Coben LONG LOST\n",
      "Jim Butcher TURN COAT\n",
      "John Grisham THE ASSOCIATE\n",
      "Jodi Picoult HANDLE WITH CARE\n",
      "Kathryn Stockett THE HELP\n",
      "Mary Ann Shaffer and Annie Barrows THE GUERNSEY LITERARY AND POTATO PEEL PIE SOCIETY\n",
      "Diane Mott Davidson FATALLY FLAKY\n",
      "Christie Golden ARTHAS\n",
      "Robert Goolrick A RELIABLE WIFE\n",
      "Nevada Barr BORDERLINE\n",
      "William R Forstchen ONE SECOND AFTER\n",
      "Ted Dekker BONEMAN'S DAUGHTERS\n"
     ]
    }
   ],
   "source": [
    "mothersday_09_results_list = mothersday_09_data['results']\n",
    "mothersday_09_book_details_list = []\n",
    "for item in mothersday_09_results_list:\n",
    "    mothersday_09_book_details_list.append(item['book_details'])\n",
    "print(\"Mother's Day 2009:\")\n",
    "for item in mothersday_09_book_details_list:\n",
    "    for book in item:\n",
    "        print(book['author'], book['title'])"
   ]
  },
  {
   "cell_type": "code",
   "execution_count": 10,
   "metadata": {
    "collapsed": false
   },
   "outputs": [
    {
     "name": "stdout",
     "output_type": "stream",
     "text": [
      "Mother's Day 2010:\n",
      "David Baldacci DELIVER US FROM EVIL\n",
      "Kathryn Stockett THE HELP\n",
      "Alexander McCall Smith THE DOUBLE COMFORT SAFARI CLUB\n",
      "Elizabeth George THIS BODY OF DEATH\n",
      "Stuart Woods LUCID INTERVALS\n",
      "Mary Higgins Clark THE SHADOW OF YOUR SMILE\n",
      "Amanda Quick BURNING LAMP\n",
      "Anna Quindlen EVERY LAST ONE\n",
      "Iris Johansen EIGHT DAYS TO LIVE\n",
      "Jim Butcher CHANGES\n",
      "Harlan Coben CAUGHT\n",
      "Jodi Picoult HOUSE RULES\n",
      "Karl Marlantes MATTERHORN\n",
      "Richard Paul Evans THE WALK\n",
      "Jonathan Kellerman DECEPTION\n",
      "Yann Martel BEATRICE AND VIRGIL\n",
      "Carol Higgins Clark WRECKED\n",
      "Patricia Briggs SILVER BORNE\n",
      "Seth Grahame-Smith ABRAHAM LINCOLN: VAMPIRE HUNTER\n",
      "Elizabeth Peters A RIVER IN THE SKY\n"
     ]
    }
   ],
   "source": [
    "mothersday_10_results_list = mothersday_10_data['results']\n",
    "mothersday_10_book_details_list = []\n",
    "for item in mothersday_10_results_list:\n",
    "    mothersday_10_book_details_list.append(item['book_details'])\n",
    "print(\"Mother's Day 2010:\")\n",
    "for item in mothersday_10_book_details_list:\n",
    "    for book in item:\n",
    "        print(book['author'], book['title'])"
   ]
  },
  {
   "cell_type": "code",
   "execution_count": 11,
   "metadata": {
    "collapsed": false
   },
   "outputs": [
    {
     "name": "stdout",
     "output_type": "stream",
     "text": [
      "Father's Day 2009:\n",
      "Charlaine Harris DEAD AND GONE\n",
      "James Patterson and Maxine Paetro THE 8TH CONFESSION\n",
      "Chuck Palahniuk PYGMY\n",
      "David Baldacci FIRST FAMILY\n",
      "Alexander McCall Smith TEA TIME FOR THE TRADITIONALLY BUILT\n",
      "Mary Higgins Clark JUST TAKE MY HEART\n",
      "Debbie Macomber SUMMER ON BLOSSOM STREET\n",
      "Stephenie Meyer THE HOST\n",
      "JR Ward LOVER AVENGED\n",
      "J R R Tolkien THE LEGEND OF SIGURD AND GUDRUN\n",
      "Robert B Parker BRIMSTONE\n",
      "Kathryn Stockett THE HELP\n",
      "Stuart Woods LOITERING WITH INTENT\n",
      "John Grisham THE ASSOCIATE\n",
      "Jodi Picoult HANDLE WITH CARE\n",
      "Lisa Scottoline LOOK AGAIN\n",
      "Colm Toibin BROOKLYN\n",
      "Amanda Quick THE PERFECT POISON\n",
      "Elizabeth Berg HOME SAFE\n",
      "Jim Butcher TURN COAT\n"
     ]
    }
   ],
   "source": [
    "fathersday_09_results_list = fathersday_09_data['results']\n",
    "fathersday_09_book_details_list = []\n",
    "for item in fathersday_09_results_list:\n",
    "    fathersday_09_book_details_list.append(item['book_details'])\n",
    "print(\"Father's Day 2009:\")\n",
    "for item in fathersday_09_book_details_list:\n",
    "    for book in item:\n",
    "        print(book['author'], book['title'])"
   ]
  },
  {
   "cell_type": "code",
   "execution_count": 12,
   "metadata": {
    "collapsed": false
   },
   "outputs": [
    {
     "name": "stdout",
     "output_type": "stream",
     "text": [
      "Father's Day 2009:\n",
      "Charlaine Harris DEAD IN THE FAMILY\n",
      "James Patterson and Maxine Paetro THE 9TH JUDGMENT\n",
      "Scott Turow INNOCENT\n",
      "Kathryn Stockett THE HELP\n",
      "David Baldacci DELIVER US FROM EVIL\n",
      "J R Ward LOVER MINE\n",
      "Mary Higgins Clark THE SHADOW OF YOUR SMILE\n",
      "Debbie Macomber HANNAH'S LIST\n",
      "Robert B Parker BLUE-EYED DEVIL\n",
      "Chuck Palahniuk TELL-ALL\n",
      "Alexander McCall Smith THE DOUBLE COMFORT SAFARI CLUB\n",
      "Anna Quindlen EVERY LAST ONE\n",
      "Tom Rachman THE IMPERFECTIONISTS\n",
      "Isabel Allende ISLAND BENEATH THE SEA\n",
      "Elizabeth George THIS BODY OF DEATH\n",
      "Karl Marlantes MATTERHORN\n",
      "Jodi Picoult HOUSE RULES\n",
      "Stuart Woods LUCID INTERVALS\n",
      "Nancy Pickard THE SCENT OF RAIN AND LIGHTNING\n",
      "Richard Paul Evans THE WALK\n"
     ]
    }
   ],
   "source": [
    "fathersday_10_results_list = fathersday_10_data['results']\n",
    "fathersday_10_book_details_list = []\n",
    "for item in fathersday_10_results_list:\n",
    "    fathersday_10_book_details_list.append(item['book_details'])\n",
    "print(\"Father's Day 2009:\")\n",
    "for item in fathersday_10_book_details_list:\n",
    "    for book in item:\n",
    "        print(book['author'], book['title'])"
   ]
  },
  {
   "cell_type": "markdown",
   "metadata": {},
   "source": [
    "2) What are all the different book categories the NYT ranked in June 6, 2009? How about June 6, 2015?"
   ]
  },
  {
   "cell_type": "code",
   "execution_count": 13,
   "metadata": {
    "collapsed": true
   },
   "outputs": [],
   "source": [
    "response = requests.get(\"https://api.nytimes.com/svc/books/v3/lists/names.json?&api-key=1b885fdd890744e9bead47185227063d\")\n",
    "lists_data = response.json()"
   ]
  },
  {
   "cell_type": "code",
   "execution_count": 14,
   "metadata": {
    "collapsed": false
   },
   "outputs": [
    {
     "data": {
      "text/plain": [
       "dict"
      ]
     },
     "execution_count": 14,
     "metadata": {},
     "output_type": "execute_result"
    }
   ],
   "source": [
    "type(lists_data)"
   ]
  },
  {
   "cell_type": "code",
   "execution_count": 15,
   "metadata": {
    "collapsed": false
   },
   "outputs": [
    {
     "data": {
      "text/plain": [
       "dict_keys(['results', 'status', 'copyright', 'num_results'])"
      ]
     },
     "execution_count": 15,
     "metadata": {},
     "output_type": "execute_result"
    }
   ],
   "source": [
    "lists_data.keys()"
   ]
  },
  {
   "cell_type": "code",
   "execution_count": 16,
   "metadata": {
    "collapsed": false
   },
   "outputs": [
    {
     "data": {
      "text/plain": [
       "{'display_name': 'Combined Print & E-Book Fiction',\n",
       " 'list_name': 'Combined Print and E-Book Fiction',\n",
       " 'list_name_encoded': 'combined-print-and-e-book-fiction',\n",
       " 'newest_published_date': '2016-06-26',\n",
       " 'oldest_published_date': '2011-02-13',\n",
       " 'updated': 'WEEKLY'}"
      ]
     },
     "execution_count": 16,
     "metadata": {},
     "output_type": "execute_result"
    }
   ],
   "source": [
    "lists_data['results'][0]"
   ]
  },
  {
   "cell_type": "code",
   "execution_count": 17,
   "metadata": {
    "collapsed": false
   },
   "outputs": [
    {
     "data": {
      "text/plain": [
       "{'display_name': 'Paperback Nonfiction',\n",
       " 'list_name': 'Paperback Nonfiction',\n",
       " 'list_name_encoded': 'paperback-nonfiction',\n",
       " 'newest_published_date': '2016-06-26',\n",
       " 'oldest_published_date': '2008-06-08',\n",
       " 'updated': 'WEEKLY'}"
      ]
     },
     "execution_count": 17,
     "metadata": {},
     "output_type": "execute_result"
    }
   ],
   "source": [
    "lists_data['results'][6]"
   ]
  },
  {
   "cell_type": "code",
   "execution_count": 18,
   "metadata": {
    "collapsed": false
   },
   "outputs": [
    {
     "name": "stdout",
     "output_type": "stream",
     "text": [
      "Hardcover Fiction 2016-06-26 2008-06-08\n",
      "Hardcover Nonfiction 2016-06-26 2008-06-08\n",
      "Trade Fiction Paperback 2016-06-26 2008-06-08\n",
      "Mass Market Paperback 2016-06-26 2008-06-08\n",
      "Paperback Nonfiction 2016-06-26 2008-06-08\n",
      "Hardcover Advice 2013-04-21 2008-06-08\n",
      "Paperback Advice 2013-04-21 2008-06-08\n",
      "Chapter Books 2012-12-09 2008-06-08\n",
      "Paperback Books 2012-12-09 2008-06-08\n",
      "Picture Books 2016-06-26 2008-06-08\n",
      "Series Books 2016-06-26 2008-06-08\n",
      "Hardcover Graphic Books 2016-06-26 2009-03-15\n",
      "Paperback Graphic Books 2016-06-26 2009-03-15\n",
      "Manga 2016-06-26 2009-03-15\n"
     ]
    }
   ],
   "source": [
    "for item in lists_data['results']:\n",
    "    if item['oldest_published_date'] < '2009-06-06' and item['newest_published_date'] >= '2009-06-06':\n",
    "        print(item['list_name'], item['newest_published_date'], item['oldest_published_date'])"
   ]
  },
  {
   "cell_type": "code",
   "execution_count": 19,
   "metadata": {
    "collapsed": false
   },
   "outputs": [
    {
     "name": "stdout",
     "output_type": "stream",
     "text": [
      "Combined Print and E-Book Fiction 2016-06-26 2011-02-13\n",
      "Combined Print and E-Book Nonfiction 2016-06-26 2011-02-13\n",
      "Hardcover Fiction 2016-06-26 2008-06-08\n",
      "Hardcover Nonfiction 2016-06-26 2008-06-08\n",
      "Trade Fiction Paperback 2016-06-26 2008-06-08\n",
      "Mass Market Paperback 2016-06-26 2008-06-08\n",
      "Paperback Nonfiction 2016-06-26 2008-06-08\n",
      "E-Book Fiction 2016-06-26 2011-02-13\n",
      "E-Book Nonfiction 2016-06-26 2011-02-13\n",
      "Advice How-To and Miscellaneous 2016-06-26 2013-04-28\n",
      "Childrens Middle Grade 2015-08-23 2012-12-16\n",
      "Picture Books 2016-06-26 2008-06-08\n",
      "Series Books 2016-06-26 2008-06-08\n",
      "Young Adult 2015-08-23 2012-12-16\n",
      "Hardcover Graphic Books 2016-06-26 2009-03-15\n",
      "Paperback Graphic Books 2016-06-26 2009-03-15\n",
      "Manga 2016-06-26 2009-03-15\n",
      "Animals 2016-06-12 2014-09-07\n",
      "Business Books 2016-06-12 2013-11-03\n",
      "Celebrities 2016-06-12 2014-09-07\n",
      "Crime and Punishment 2016-06-12 2014-10-12\n",
      "Culture 2016-06-12 2014-10-12\n",
      "Education 2016-06-12 2014-10-12\n",
      "Espionage 2016-06-12 2014-12-14\n",
      "Expeditions Disasters and Adventures 2016-06-12 2014-12-14\n",
      "Fashion Manners and Customs 2016-06-12 2014-10-12\n",
      "Food and Fitness 2016-06-12 2013-09-01\n",
      "Games and Activities 2016-06-12 2014-10-12\n",
      "Health 2016-06-12 2014-10-12\n",
      "Humor 2016-06-12 2014-09-07\n",
      "Indigenous Americans 2016-01-10 2014-12-14\n",
      "Relationships 2016-06-12 2014-09-07\n",
      "Family 2016-06-12 2014-09-07\n",
      "Hardcover Political Books 2016-06-12 2011-07-03\n",
      "Race and Civil Rights 2016-06-12 2014-12-14\n",
      "Religion Spirituality and Faith 2016-06-12 2014-09-07\n",
      "Science 2016-06-12 2013-04-14\n",
      "Sports 2016-06-12 2014-03-02\n",
      "Travel 2016-06-12 2014-09-07\n"
     ]
    }
   ],
   "source": [
    "for item in lists_data['results']:\n",
    "    if item['oldest_published_date'] < '2015-06-06' and item['newest_published_date'] >= '2015-06-06':\n",
    "        print(item['list_name'], item['newest_published_date'], item['oldest_published_date'])"
   ]
  },
  {
   "cell_type": "markdown",
   "metadata": {},
   "source": [
    "3) Muammar Gaddafi's name can be transliterated many many ways. His last name is often a source of a million and one\n",
    "versions - Gadafi, Gaddafi, Kadafi, and Qaddafi to name a few. How many times has the New York Times referred to him\n",
    "by each of those names? Tip: Add \"Libya\" to your search to make sure (-ish) you're talking about the right guy."
   ]
  },
  {
   "cell_type": "code",
   "execution_count": 20,
   "metadata": {
    "collapsed": true
   },
   "outputs": [],
   "source": [
    "response = requests.get(\"https://api.nytimes.com/svc/search/v2/articlesearch.json?&q=Gaddafi+Libya&apikey=1b885fdd890744e9bead47185227063d\")\n",
    "gaddafi_data = response.json()"
   ]
  },
  {
   "cell_type": "code",
   "execution_count": 21,
   "metadata": {
    "collapsed": false
   },
   "outputs": [
    {
     "data": {
      "text/plain": [
       "dict"
      ]
     },
     "execution_count": 21,
     "metadata": {},
     "output_type": "execute_result"
    }
   ],
   "source": [
    "type(gaddafi_data)"
   ]
  },
  {
   "cell_type": "code",
   "execution_count": 22,
   "metadata": {
    "collapsed": false
   },
   "outputs": [
    {
     "data": {
      "text/plain": [
       "dict_keys(['status', 'copyright', 'response'])"
      ]
     },
     "execution_count": 22,
     "metadata": {},
     "output_type": "execute_result"
    }
   ],
   "source": [
    "gaddafi_data.keys()"
   ]
  },
  {
   "cell_type": "code",
   "execution_count": 23,
   "metadata": {
    "collapsed": false
   },
   "outputs": [
    {
     "data": {
      "text/plain": [
       "dict"
      ]
     },
     "execution_count": 23,
     "metadata": {},
     "output_type": "execute_result"
    }
   ],
   "source": [
    "type(gaddafi_data['response'])"
   ]
  },
  {
   "cell_type": "code",
   "execution_count": 24,
   "metadata": {
    "collapsed": false
   },
   "outputs": [
    {
     "data": {
      "text/plain": [
       "dict_keys(['docs', 'meta'])"
      ]
     },
     "execution_count": 24,
     "metadata": {},
     "output_type": "execute_result"
    }
   ],
   "source": [
    "gaddafi_data['response'].keys()"
   ]
  },
  {
   "cell_type": "code",
   "execution_count": 25,
   "metadata": {
    "collapsed": false,
    "scrolled": true
   },
   "outputs": [
    {
     "data": {
      "text/plain": [
       "dict"
      ]
     },
     "execution_count": 25,
     "metadata": {},
     "output_type": "execute_result"
    }
   ],
   "source": [
    "type(gaddafi_data['response']['meta'])"
   ]
  },
  {
   "cell_type": "code",
   "execution_count": 26,
   "metadata": {
    "collapsed": false
   },
   "outputs": [
    {
     "data": {
      "text/plain": [
       "dict_keys(['offset', 'hits', 'time'])"
      ]
     },
     "execution_count": 26,
     "metadata": {},
     "output_type": "execute_result"
    }
   ],
   "source": [
    "gaddafi_data['response']['meta'].keys()"
   ]
  },
  {
   "cell_type": "code",
   "execution_count": 27,
   "metadata": {
    "collapsed": false
   },
   "outputs": [
    {
     "data": {
      "text/plain": [
       "int"
      ]
     },
     "execution_count": 27,
     "metadata": {},
     "output_type": "execute_result"
    }
   ],
   "source": [
    "type(gaddafi_data['response']['meta']['hits'])"
   ]
  },
  {
   "cell_type": "code",
   "execution_count": 28,
   "metadata": {
    "collapsed": false
   },
   "outputs": [
    {
     "name": "stdout",
     "output_type": "stream",
     "text": [
      "There are 1080 results for 'Gaddafi'.\n"
     ]
    }
   ],
   "source": [
    "print(\"There are\", gaddafi_data['response']['meta']['hits'], \"results for 'Gaddafi'.\")"
   ]
  },
  {
   "cell_type": "code",
   "execution_count": 29,
   "metadata": {
    "collapsed": true
   },
   "outputs": [],
   "source": [
    "response = requests.get(\"https://api.nytimes.com/svc/search/v2/articlesearch.json?&q=Gadafi+Libya&apikey=1b885fdd890744e9bead47185227063d\")\n",
    "gadafi_data = response.json()"
   ]
  },
  {
   "cell_type": "code",
   "execution_count": 30,
   "metadata": {
    "collapsed": false
   },
   "outputs": [
    {
     "name": "stdout",
     "output_type": "stream",
     "text": [
      "There are 0 results for 'Gadafi'.\n"
     ]
    }
   ],
   "source": [
    "print(\"There are\", gadafi_data['response']['meta']['hits'], \"results for 'Gadafi'.\")"
   ]
  },
  {
   "cell_type": "code",
   "execution_count": 31,
   "metadata": {
    "collapsed": true
   },
   "outputs": [],
   "source": [
    "response = requests.get(\"https://api.nytimes.com/svc/search/v2/articlesearch.json?&q=Kadafi+Libya&apikey=1b885fdd890744e9bead47185227063d\")\n",
    "kadafi_data = response.json()"
   ]
  },
  {
   "cell_type": "code",
   "execution_count": 32,
   "metadata": {
    "collapsed": false
   },
   "outputs": [
    {
     "name": "stdout",
     "output_type": "stream",
     "text": [
      "There are 4 results for 'Kadafi'.\n"
     ]
    }
   ],
   "source": [
    "print(\"There are\", kadafi_data['response']['meta']['hits'], \"results for 'Kadafi'.\")"
   ]
  },
  {
   "cell_type": "code",
   "execution_count": 33,
   "metadata": {
    "collapsed": true
   },
   "outputs": [],
   "source": [
    "response = requests.get(\"https://api.nytimes.com/svc/search/v2/articlesearch.json?&q=Qaddafi+Libya&apikey=1b885fdd890744e9bead47185227063d\")\n",
    "qaddafi_data = response.json()"
   ]
  },
  {
   "cell_type": "code",
   "execution_count": 34,
   "metadata": {
    "collapsed": false
   },
   "outputs": [
    {
     "name": "stdout",
     "output_type": "stream",
     "text": [
      "There are 5761 results for 'Qaddafi'.\n"
     ]
    }
   ],
   "source": [
    "print(\"There are\", qaddafi_data['response']['meta']['hits'], \"results for 'Qaddafi'.\")"
   ]
  },
  {
   "cell_type": "markdown",
   "metadata": {},
   "source": [
    "4) What's the title of the first story to mention the word 'hipster' in 1995? What's the first paragraph?"
   ]
  },
  {
   "cell_type": "code",
   "execution_count": 35,
   "metadata": {
    "collapsed": false
   },
   "outputs": [],
   "source": [
    "response = requests.get(\"https://api.nytimes.com/svc/search/v2/articlesearch.json?&apikey=1b885fdd890744e9bead47185227063d&q=hipster&begin_date=19950101&end_date=19951231\")\n",
    "hipster_data = response.json()"
   ]
  },
  {
   "cell_type": "code",
   "execution_count": 36,
   "metadata": {
    "collapsed": false
   },
   "outputs": [
    {
     "data": {
      "text/plain": [
       "{'_id': '4fd1ecab8eb7c8105d73e5ad',\n",
       " 'abstract': None,\n",
       " 'blog': [],\n",
       " 'byline': None,\n",
       " 'document_type': 'article',\n",
       " 'headline': {'kicker': 'SURFACING', 'main': 'SOUND'},\n",
       " 'keywords': [{'name': 'subject', 'value': 'RECORDING EQUIPMENT'}],\n",
       " 'lead_paragraph': \"Portable record players with built-in speakers, from the 1960's, are the latest points on hipster score cards. In some cases, they are the only way to listen to many of the old LP or 45-r.p.m. recordings still around but not released on cassette or CD. Usually available in white plastic or metal, they can be found in flea markets and secondhand stores. One style has the arm cast in the shape of a cobra. (Don Hogan Charles/The New York Times)\",\n",
       " 'multimedia': [],\n",
       " 'news_desk': 'Style Desk',\n",
       " 'print_page': '52',\n",
       " 'pub_date': '1995-02-05T00:00:00Z',\n",
       " 'section_name': 'Style',\n",
       " 'slideshow_credits': None,\n",
       " 'snippet': \"Portable record players with built-in speakers, from the 1960's, are the latest points on hipster score cards. In some cases, they are the only way to listen to many of the old LP or 45-r.p.m. recordings still around but not released on cassette or...\",\n",
       " 'source': 'The New York Times',\n",
       " 'subsection_name': None,\n",
       " 'type_of_material': 'News',\n",
       " 'web_url': 'http://www.nytimes.com/1995/02/05/style/surfacing-sound.html',\n",
       " 'word_count': 81}"
      ]
     },
     "execution_count": 36,
     "metadata": {},
     "output_type": "execute_result"
    }
   ],
   "source": [
    "hipster_data['response']['docs'][0]"
   ]
  },
  {
   "cell_type": "code",
   "execution_count": 37,
   "metadata": {
    "collapsed": false
   },
   "outputs": [
    {
     "name": "stdout",
     "output_type": "stream",
     "text": [
      "['1995-02-05T00:00:00Z', '1995-03-19T00:00:00Z', '1995-04-06T00:00:00Z', '1995-04-25T00:00:00Z', '1995-04-28T00:00:00Z', '1995-10-16T00:00:00Z', '1995-11-01T00:00:00Z', '1995-11-02T00:00:00Z', '1995-12-12T00:00:00Z', '1995-12-19T00:00:00Z']\n"
     ]
    }
   ],
   "source": [
    "pub_dates = []\n",
    "for item in hipster_data['response']['docs']:\n",
    "    pub_dates.append(item['pub_date'])\n",
    "pub_dates = sorted(pub_dates)\n",
    "print(pub_dates)"
   ]
  },
  {
   "cell_type": "code",
   "execution_count": 38,
   "metadata": {
    "collapsed": false
   },
   "outputs": [
    {
     "name": "stdout",
     "output_type": "stream",
     "text": [
      "Headline: SOUND SURFACING\n",
      "First paragraph: Portable record players with built-in speakers, from the 1960's, are the latest points on hipster score cards. In some cases, they are the only way to listen to many of the old LP or 45-r.p.m. recordings still around but not released on cassette or CD. Usually available in white plastic or metal, they can be found in flea markets and secondhand stores. One style has the arm cast in the shape of a cobra. (Don Hogan Charles/The New York Times)\n",
      "Publication date: 1995-02-05T00:00:00Z\n"
     ]
    }
   ],
   "source": [
    "for item in hipster_data['response']['docs']:\n",
    "    if item['pub_date'] == '1995-02-05T00:00:00Z':\n",
    "        print(\"Headline:\", item['headline']['main'], item['headline']['kicker']) \n",
    "        print(\"First paragraph:\", item['lead_paragraph']) \n",
    "        print(\"Publication date:\", item['pub_date'])"
   ]
  },
  {
   "cell_type": "markdown",
   "metadata": {},
   "source": [
    "5) How many times was gay marriage mentioned in the NYT between 1950-1959, 1960-1969, 1970-1978, 1980-1989,\n",
    "1990-2099, 2000-2009, and 2010-present? \n",
    "Tip: You'll want to put quotes around the search term so it isn't just looking for \"gay\" and \"marriage\" in the same artic\n",
    "Tip: Write code to find the number of mentions between Jan 1, 1950 and Dec 31, 1959."
   ]
  },
  {
   "cell_type": "code",
   "execution_count": 39,
   "metadata": {
    "collapsed": false
   },
   "outputs": [
    {
     "name": "stdout",
     "output_type": "stream",
     "text": [
      "Between 19600101 and 19691231 'gay marriage' was mentioned 360 times in the NYT.\n",
      "Between 19700101 and 19791231 'gay marriage' was mentioned 420 times in the NYT.\n",
      "Between 19800101 and 19891231 'gay marriage' was mentioned 368 times in the NYT.\n",
      "Between 19900101 and 19991231 'gay marriage' was mentioned 1110 times in the NYT.\n",
      "Between 20000101 and 20091231 'gay marriage' was mentioned 4853 times in the NYT.\n",
      "Between 20100101 and 20191231 'gay marriage' was mentioned 8788 times in the NYT.\n"
     ]
    }
   ],
   "source": [
    "#TA-Stephan: Careful - this didn't display 1950 to 1959\n",
    "\n",
    "begin_date = 19500101\n",
    "end_date = 19591231\n",
    "all_urls = []\n",
    "for item in range(6):\n",
    "    begin_date = begin_date + 100000\n",
    "    end_date = end_date + 100000\n",
    "    url = \"https://api.nytimes.com/svc/search/v2/articlesearch.json?&apikey=1b885fdd890744e9bead47185227063d&q='gay+marriage'&begin_date=\" + str(begin_date) + \"&end_date=\" + str(end_date) \n",
    "    all_urls.append(url)\n",
    "    for url in all_urls:\n",
    "        response = requests.get(url)\n",
    "        data = response.json()\n",
    "    print(\"Between\", begin_date, \"and\", end_date, \"'gay marriage' was mentioned\", data['response']['meta']['hits'], \"times in the NYT.\")"
   ]
  },
  {
   "cell_type": "markdown",
   "metadata": {},
   "source": [
    "6) What section talks about motorcycles the most?\n",
    "Tip: You'll be using facets"
   ]
  },
  {
   "cell_type": "code",
   "execution_count": 40,
   "metadata": {
    "collapsed": true
   },
   "outputs": [],
   "source": [
    "response = requests.get(\"https://api.nytimes.com/svc/search/v2/articlesearch.json?&q=motorcycles&facet_field=section_name&apikey=1b885fdd890744e9bead47185227063d\")\n",
    "motorcycle_data = response.json()"
   ]
  },
  {
   "cell_type": "code",
   "execution_count": 41,
   "metadata": {
    "collapsed": false
   },
   "outputs": [
    {
     "data": {
      "text/plain": [
       "dict"
      ]
     },
     "execution_count": 41,
     "metadata": {},
     "output_type": "execute_result"
    }
   ],
   "source": [
    "type(motorcycle_data)"
   ]
  },
  {
   "cell_type": "code",
   "execution_count": 42,
   "metadata": {
    "collapsed": false
   },
   "outputs": [
    {
     "data": {
      "text/plain": [
       "dict_keys(['status', 'copyright', 'response'])"
      ]
     },
     "execution_count": 42,
     "metadata": {},
     "output_type": "execute_result"
    }
   ],
   "source": [
    "motorcycle_data.keys()"
   ]
  },
  {
   "cell_type": "code",
   "execution_count": 43,
   "metadata": {
    "collapsed": false
   },
   "outputs": [
    {
     "data": {
      "text/plain": [
       "dict"
      ]
     },
     "execution_count": 43,
     "metadata": {},
     "output_type": "execute_result"
    }
   ],
   "source": [
    "type(motorcycle_data['response'])"
   ]
  },
  {
   "cell_type": "code",
   "execution_count": 44,
   "metadata": {
    "collapsed": false
   },
   "outputs": [
    {
     "data": {
      "text/plain": [
       "dict_keys(['docs', 'meta', 'facets'])"
      ]
     },
     "execution_count": 44,
     "metadata": {},
     "output_type": "execute_result"
    }
   ],
   "source": [
    "motorcycle_data['response'].keys()"
   ]
  },
  {
   "cell_type": "code",
   "execution_count": 45,
   "metadata": {
    "collapsed": false
   },
   "outputs": [
    {
     "data": {
      "text/plain": [
       "dict"
      ]
     },
     "execution_count": 45,
     "metadata": {},
     "output_type": "execute_result"
    }
   ],
   "source": [
    "type(motorcycle_data['response']['facets'])"
   ]
  },
  {
   "cell_type": "code",
   "execution_count": 46,
   "metadata": {
    "collapsed": false
   },
   "outputs": [
    {
     "data": {
      "text/plain": [
       "dict_keys(['section_name'])"
      ]
     },
     "execution_count": 46,
     "metadata": {},
     "output_type": "execute_result"
    }
   ],
   "source": [
    "motorcycle_data['response']['facets'].keys()"
   ]
  },
  {
   "cell_type": "code",
   "execution_count": 47,
   "metadata": {
    "collapsed": false
   },
   "outputs": [
    {
     "data": {
      "text/plain": [
       "dict"
      ]
     },
     "execution_count": 47,
     "metadata": {},
     "output_type": "execute_result"
    }
   ],
   "source": [
    "type(motorcycle_data['response']['facets']['section_name'])"
   ]
  },
  {
   "cell_type": "code",
   "execution_count": 48,
   "metadata": {
    "collapsed": false
   },
   "outputs": [
    {
     "data": {
      "text/plain": [
       "dict_keys(['terms'])"
      ]
     },
     "execution_count": 48,
     "metadata": {},
     "output_type": "execute_result"
    }
   ],
   "source": [
    "motorcycle_data['response']['facets']['section_name'].keys()"
   ]
  },
  {
   "cell_type": "code",
   "execution_count": 49,
   "metadata": {
    "collapsed": false
   },
   "outputs": [
    {
     "data": {
      "text/plain": [
       "dict"
      ]
     },
     "execution_count": 49,
     "metadata": {},
     "output_type": "execute_result"
    }
   ],
   "source": [
    "type(motorcycle_data['response']['facets']['section_name'])"
   ]
  },
  {
   "cell_type": "code",
   "execution_count": 50,
   "metadata": {
    "collapsed": false
   },
   "outputs": [
    {
     "data": {
      "text/plain": [
       "dict_keys(['terms'])"
      ]
     },
     "execution_count": 50,
     "metadata": {},
     "output_type": "execute_result"
    }
   ],
   "source": [
    "motorcycle_data['response']['facets']['section_name'].keys()"
   ]
  },
  {
   "cell_type": "code",
   "execution_count": 51,
   "metadata": {
    "collapsed": false
   },
   "outputs": [
    {
     "data": {
      "text/plain": [
       "list"
      ]
     },
     "execution_count": 51,
     "metadata": {},
     "output_type": "execute_result"
    }
   ],
   "source": [
    "type(motorcycle_data['response']['facets']['section_name']['terms'])"
   ]
  },
  {
   "cell_type": "code",
   "execution_count": 52,
   "metadata": {
    "collapsed": false
   },
   "outputs": [
    {
     "name": "stdout",
     "output_type": "stream",
     "text": [
      "World 1078\n"
     ]
    }
   ],
   "source": [
    "section = 0\n",
    "for item in motorcycle_data['response']['facets']['section_name']['terms']:\n",
    "    if item['count'] > section:\n",
    "        section = item['count']\n",
    "        print(item['term'], item['count'])"
   ]
  },
  {
   "cell_type": "markdown",
   "metadata": {},
   "source": [
    "7) How many of the last 20 movies reviewed by the NYT were Critics' Picks? How about the last 40? The last 60?\n",
    "Tip: You really don't want to do this 3 separate times (1-20, 21-40 and 41-60) and add them together. What if, perhaps,\n",
    "you were able to figure out how to combine two lists? Then you could have a 1-20 list, a 1-40 list, and a 1-60 list, and then\n",
    "just run similar code for each of them."
   ]
  },
  {
   "cell_type": "code",
   "execution_count": 53,
   "metadata": {
    "collapsed": false
   },
   "outputs": [
    {
     "data": {
      "text/plain": [
       "dict"
      ]
     },
     "execution_count": 53,
     "metadata": {},
     "output_type": "execute_result"
    }
   ],
   "source": [
    "response = requests.get(\"https://api.nytimes.com/svc/movies/v2/reviews/search.json?&?critics-pick=Y&offset=0&apikey=1b885fdd890744e9bead47185227063d\")\n",
    "movies_20 = response.json()\n",
    "type(movies_20)"
   ]
  },
  {
   "cell_type": "code",
   "execution_count": 54,
   "metadata": {
    "collapsed": false
   },
   "outputs": [
    {
     "data": {
      "text/plain": [
       "dict_keys(['results', 'status', 'copyright', 'num_results', 'has_more'])"
      ]
     },
     "execution_count": 54,
     "metadata": {},
     "output_type": "execute_result"
    }
   ],
   "source": [
    "movies_20.keys()"
   ]
  },
  {
   "cell_type": "code",
   "execution_count": 55,
   "metadata": {
    "collapsed": false
   },
   "outputs": [
    {
     "data": {
      "text/plain": [
       "list"
      ]
     },
     "execution_count": 55,
     "metadata": {},
     "output_type": "execute_result"
    }
   ],
   "source": [
    "type(movies_20['results'])"
   ]
  },
  {
   "cell_type": "code",
   "execution_count": 56,
   "metadata": {
    "collapsed": false
   },
   "outputs": [
    {
     "data": {
      "text/plain": [
       "20"
      ]
     },
     "execution_count": 56,
     "metadata": {},
     "output_type": "execute_result"
    }
   ],
   "source": [
    "movies_20['num_results']"
   ]
  },
  {
   "cell_type": "code",
   "execution_count": 57,
   "metadata": {
    "collapsed": false
   },
   "outputs": [
    {
     "data": {
      "text/plain": [
       "{'byline': 'GLENN KENNY',\n",
       " 'critics_pick': 0,\n",
       " 'date_updated': '2016-06-17 22:44:33',\n",
       " 'display_title': 'Clown',\n",
       " 'headline': 'Review: ‘Clown’ — At Least Bozo Never Ate the Kids',\n",
       " 'link': {'suggested_link_text': 'Read the New York Times Review of Clown',\n",
       "  'type': 'article',\n",
       "  'url': 'http://www.nytimes.com/2016/06/18/movies/clown-review-jon-watts.html'},\n",
       " 'mpaa_rating': 'R',\n",
       " 'multimedia': {'height': 140,\n",
       "  'src': 'https://static01.nyt.com/images/2016/06/18/arts/18CLOWN/18CLOWN-mediumThreeByTwo210.jpg',\n",
       "  'type': 'mediumThreeByTwo210',\n",
       "  'width': 210},\n",
       " 'opening_date': None,\n",
       " 'publication_date': '2016-06-17',\n",
       " 'summary_short': 'This horror film, directed by Jon Watts, finds a man putting on a costume — yes, with a red nose — and becoming a possessed killer.'}"
      ]
     },
     "execution_count": 57,
     "metadata": {},
     "output_type": "execute_result"
    }
   ],
   "source": [
    "movies_20['results'][0]"
   ]
  },
  {
   "cell_type": "code",
   "execution_count": 58,
   "metadata": {
    "collapsed": false
   },
   "outputs": [],
   "source": [
    "response = requests.get(\"https://api.nytimes.com/svc/movies/v2/reviews/search.json?&?critics-pick=Y&offset=1&apikey=1b885fdd890744e9bead47185227063d\")\n",
    "movies_40 = response.json()"
   ]
  },
  {
   "cell_type": "code",
   "execution_count": 59,
   "metadata": {
    "collapsed": false
   },
   "outputs": [],
   "source": [
    "response = requests.get(\"https://api.nytimes.com/svc/movies/v2/reviews/search.json?&?critics-pick=Y&offset=2&apikey=1b885fdd890744e9bead47185227063d\")\n",
    "movies_60 = response.json()"
   ]
  },
  {
   "cell_type": "code",
   "execution_count": 60,
   "metadata": {
    "collapsed": false
   },
   "outputs": [
    {
     "name": "stdout",
     "output_type": "stream",
     "text": [
      "8\n",
      "16\n",
      "24\n"
     ]
    }
   ],
   "source": [
    "movies_1_to_20 = movies_20['results']\n",
    "movies_1_to_40 = movies_1_to_20 + movies_40['results']\n",
    "movies_1_to_60 = movies_1_to_40 + movies_60['results']\n",
    "\n",
    "critics_pick = []\n",
    "for item in movies_1_to_20:\n",
    "    if item['critics_pick'] == 1:\n",
    "        critics_pick.append(item)\n",
    "print(len(critics_pick))\n",
    "        \n",
    "critics_pick = []\n",
    "for item in movies_1_to_40:\n",
    "    if item['critics_pick'] == 1:\n",
    "        critics_pick.append(item)\n",
    "print(len(critics_pick))\n",
    "\n",
    "critics_pick = []\n",
    "for item in movies_1_to_60:\n",
    "    if item['critics_pick'] == 1:\n",
    "        critics_pick.append(item)\n",
    "print(len(critics_pick))"
   ]
  },
  {
   "cell_type": "markdown",
   "metadata": {},
   "source": [
    "8) Out of the last 40 movie reviews from the NYT, which critic has written the most reviews?"
   ]
  },
  {
   "cell_type": "code",
   "execution_count": 61,
   "metadata": {
    "collapsed": false
   },
   "outputs": [
    {
     "name": "stdout",
     "output_type": "stream",
     "text": [
      "[('A. O. SCOTT', 8)]\n",
      "A. O. SCOTT 8\n",
      "GLENN KENNY 5\n",
      "ANDY WEBSTER 4\n",
      "KEN JAWOROWSKI 5\n",
      "MANOHLA DARGIS 4\n",
      "NEIL GENZLINGER 4\n",
      "BEN KENIGSBERG 4\n",
      "JEANNETTE CATSOULIS 4\n",
      "STEPHEN HOLDEN 2\n"
     ]
    }
   ],
   "source": [
    "critics = []\n",
    "for item in movies_1_to_40:\n",
    "    critics.append(item['byline'])\n",
    "    \n",
    "# One possible solution\n",
    "import collections\n",
    "from collections import Counter\n",
    "\n",
    "critic_count = Counter(critics)\n",
    "print(critic_count.most_common(1))\n",
    "\n",
    "# This other one shows all the critics with the total number of reviews\n",
    "\n",
    "unique_critics = set(critics)\n",
    "for item in unique_critics:\n",
    "    critic_count = critics.count(item)\n",
    "    print(item, critic_count)"
   ]
  },
  {
   "cell_type": "code",
   "execution_count": null,
   "metadata": {
    "collapsed": true
   },
   "outputs": [],
   "source": []
  }
 ],
 "metadata": {
  "kernelspec": {
   "display_name": "Python 3",
   "language": "python",
   "name": "python3"
  },
  "language_info": {
   "codemirror_mode": {
    "name": "ipython",
    "version": 3
   },
   "file_extension": ".py",
   "mimetype": "text/x-python",
   "name": "python",
   "nbconvert_exporter": "python",
   "pygments_lexer": "ipython3",
   "version": "3.5.1"
  }
 },
 "nbformat": 4,
 "nbformat_minor": 0
}
